{
 "cells": [
  {
   "cell_type": "markdown",
   "id": "british-ontario",
   "metadata": {},
   "source": [
    "### First off, here is a long-awaited answer to the question of whether we can group axis labels\n",
    "It is possible, but require an extensive manual design"
   ]
  },
  {
   "cell_type": "code",
   "execution_count": null,
   "id": "oriental-multimedia",
   "metadata": {},
   "outputs": [],
   "source": [
    "import numpy as np\n",
    "import matplotlib.pyplot as plt\n",
    "import matplotlib.ticker as ticker\n",
    "from mpl_toolkits.axisartist import SubplotHost\n",
    "\n",
    "\n",
    "fig1 = plt.figure()\n",
    "ax1 = SubplotHost(fig1, 111)\n",
    "fig1.add_subplot(ax1)\n",
    "\n",
    "# some data\n",
    "x = np.arange(1, 6)\n",
    "y = np.random.random(len(x))\n",
    "\n",
    "# 1st x-axis\n",
    "ax1.plot(x, y)\n",
    "ax1.set_xticks(x)\n",
    "ax1.set_xticklabels(['dog', 'cat', 'horse', 'lizard', 'crocodile'])\n",
    "ax1.yaxis.set_label_text('measurement')\n",
    "\n",
    "# 2nd x-axis\n",
    "ax2 = ax1.twiny()\n",
    "offset = 0, -25 # shift the second x-axis lower by 25 units\n",
    "new_axisline = ax2.get_grid_helper().new_fixed_axis\n",
    "ax2.axis['bottom'] = new_axisline(loc = 'bottom', axes = ax2, offset = offset)\n",
    "\n",
    "ax2.set_xticks([0.0, 0.6, 1.0]) ## define major tick locations = bracket range\n",
    "ax2.xaxis.set_major_formatter(ticker.NullFormatter()) ## no label\n",
    "\n",
    "ax2.xaxis.set_minor_locator(ticker.FixedLocator([0.3, 0.8])) ## define minor tick locations = labels\n",
    "ax2.axis['bottom'].minor_ticks.set_ticksize(0) ## set minor tick size to 0 = not displayed\n",
    "ax2.xaxis.set_minor_formatter(ticker.FixedFormatter(['mammal', 'reptiles'])) ##\n",
    "\n",
    "# 3rd x-axis\n",
    "ax3 = ax1.twiny()\n",
    "offset = 0, -50 # shift the third x-axis lower by 50 units\n",
    "new_axisline = ax3.get_grid_helper().new_fixed_axis\n",
    "ax3.axis['bottom'] = new_axisline(loc = 'bottom', axes = ax3, offset = offset)\n",
    "\n",
    "ax3.set_xticks([0.0, 1.0])\n",
    "ax3.xaxis.set_major_formatter(ticker.NullFormatter())\n",
    "ax3.xaxis.set_minor_locator(ticker.FixedLocator([0.5]))\n",
    "ax3.axis['bottom'].minor_ticks.set_ticksize(0)\n",
    "ax3.xaxis.set_minor_formatter(ticker.FixedFormatter(['vertebrates']))\n",
    "\n",
    "ax1.grid(1)\n",
    "plt.show()"
   ]
  },
  {
   "cell_type": "markdown",
   "id": "close-cleveland",
   "metadata": {},
   "source": [
    "# Let's explore linear models today"
   ]
  },
  {
   "cell_type": "code",
   "execution_count": 1,
   "id": "tracked-delight",
   "metadata": {},
   "outputs": [],
   "source": [
    "import numpy as np\n",
    "import pandas as pd\n",
    "import matplotlib.pyplot as plt\n",
    "import umap\n",
    "\n",
    "from sklearn.decomposition import PCA\n",
    "from sklearn.linear_model import LinearRegression, Ridge, Lasso\n",
    "from sklearn.linear_model import LogisticRegression, ElasticNet\n",
    "from sklearn.svm import LinearSVC, SVC\n",
    "from sklearn.svm import LinearSVR, SVR\n",
    "\n",
    "from sklearn.preprocessing import StandardScaler\n",
    "\n",
    "from sklearn.model_selection import train_test_split\n",
    "from sklearn.model_selection import KFold, StratifiedKFold\n",
    "from sklearn.model_selection import ShuffleSplit, StratifiedShuffleSplit\n",
    "\n",
    "from sklearn.metrics import mean_squared_error\n",
    "from sklearn.metrics import accuracy_score, classification_report"
   ]
  },
  {
   "cell_type": "markdown",
   "id": "dense-vision",
   "metadata": {},
   "source": [
    "## First up is linear regression on psoas muscle dataset"
   ]
  },
  {
   "cell_type": "code",
   "execution_count": 2,
   "id": "attempted-traveler",
   "metadata": {},
   "outputs": [
    {
     "data": {
      "text/html": [
       "<div>\n",
       "<style scoped>\n",
       "    .dataframe tbody tr th:only-of-type {\n",
       "        vertical-align: middle;\n",
       "    }\n",
       "\n",
       "    .dataframe tbody tr th {\n",
       "        vertical-align: top;\n",
       "    }\n",
       "\n",
       "    .dataframe thead th {\n",
       "        text-align: right;\n",
       "    }\n",
       "</style>\n",
       "<table border=\"1\" class=\"dataframe\">\n",
       "  <thead>\n",
       "    <tr style=\"text-align: right;\">\n",
       "      <th></th>\n",
       "      <th>Sex</th>\n",
       "      <th>Age</th>\n",
       "      <th>Ht</th>\n",
       "      <th>Wt</th>\n",
       "      <th>Rt/Lt</th>\n",
       "      <th>Peak force, First (dominant)</th>\n",
       "      <th>Peak force, Second (dominant)</th>\n",
       "      <th>Duration/secs, First (dominant)</th>\n",
       "      <th>Duration/secs, Second (dominant)</th>\n",
       "      <th>Peak force, First (non-dominant)</th>\n",
       "      <th>...</th>\n",
       "      <th>Psoas area, Rt</th>\n",
       "      <th>Psoas area, Lt</th>\n",
       "      <th>Psoas thickness, Rt</th>\n",
       "      <th>Psoas thickness, Lt</th>\n",
       "      <th>Psoas width, Rt</th>\n",
       "      <th>Psoas width, Lt</th>\n",
       "      <th>% fat, Rt</th>\n",
       "      <th>% fat, Lt</th>\n",
       "      <th>corridor length</th>\n",
       "      <th>anterior corridor</th>\n",
       "    </tr>\n",
       "    <tr>\n",
       "      <th>PatientID</th>\n",
       "      <th></th>\n",
       "      <th></th>\n",
       "      <th></th>\n",
       "      <th></th>\n",
       "      <th></th>\n",
       "      <th></th>\n",
       "      <th></th>\n",
       "      <th></th>\n",
       "      <th></th>\n",
       "      <th></th>\n",
       "      <th></th>\n",
       "      <th></th>\n",
       "      <th></th>\n",
       "      <th></th>\n",
       "      <th></th>\n",
       "      <th></th>\n",
       "      <th></th>\n",
       "      <th></th>\n",
       "      <th></th>\n",
       "      <th></th>\n",
       "      <th></th>\n",
       "    </tr>\n",
       "  </thead>\n",
       "  <tbody>\n",
       "    <tr>\n",
       "      <th>N001</th>\n",
       "      <td>M</td>\n",
       "      <td>55.0</td>\n",
       "      <td>1.70</td>\n",
       "      <td>74.0</td>\n",
       "      <td>Rt</td>\n",
       "      <td>18.5</td>\n",
       "      <td>21.9</td>\n",
       "      <td>4.6</td>\n",
       "      <td>6.6</td>\n",
       "      <td>14.6</td>\n",
       "      <td>...</td>\n",
       "      <td>18.987671</td>\n",
       "      <td>21.209954</td>\n",
       "      <td>4.912941</td>\n",
       "      <td>5.082353</td>\n",
       "      <td>5.336471</td>\n",
       "      <td>5.675294</td>\n",
       "      <td>4.802225</td>\n",
       "      <td>5.182677</td>\n",
       "      <td>0.882099</td>\n",
       "      <td>0.564706</td>\n",
       "    </tr>\n",
       "    <tr>\n",
       "      <th>N002</th>\n",
       "      <td>F</td>\n",
       "      <td>65.0</td>\n",
       "      <td>1.60</td>\n",
       "      <td>72.0</td>\n",
       "      <td>Rt</td>\n",
       "      <td>5.5</td>\n",
       "      <td>5.0</td>\n",
       "      <td>3.8</td>\n",
       "      <td>5.2</td>\n",
       "      <td>6.2</td>\n",
       "      <td>...</td>\n",
       "      <td>9.578674</td>\n",
       "      <td>10.210007</td>\n",
       "      <td>3.436490</td>\n",
       "      <td>2.854503</td>\n",
       "      <td>3.796767</td>\n",
       "      <td>4.960739</td>\n",
       "      <td>7.677740</td>\n",
       "      <td>14.800562</td>\n",
       "      <td>2.234000</td>\n",
       "      <td>-1.357968</td>\n",
       "    </tr>\n",
       "    <tr>\n",
       "      <th>N003</th>\n",
       "      <td>F</td>\n",
       "      <td>77.0</td>\n",
       "      <td>1.56</td>\n",
       "      <td>63.0</td>\n",
       "      <td>Rt</td>\n",
       "      <td>3.4</td>\n",
       "      <td>4.5</td>\n",
       "      <td>3.8</td>\n",
       "      <td>6.0</td>\n",
       "      <td>6.1</td>\n",
       "      <td>...</td>\n",
       "      <td>8.055383</td>\n",
       "      <td>9.994520</td>\n",
       "      <td>4.677494</td>\n",
       "      <td>4.621810</td>\n",
       "      <td>2.477958</td>\n",
       "      <td>3.368910</td>\n",
       "      <td>15.121444</td>\n",
       "      <td>22.372338</td>\n",
       "      <td>1.781250</td>\n",
       "      <td>0.974478</td>\n",
       "    </tr>\n",
       "    <tr>\n",
       "      <th>N004</th>\n",
       "      <td>M</td>\n",
       "      <td>57.0</td>\n",
       "      <td>1.60</td>\n",
       "      <td>68.0</td>\n",
       "      <td>Lt</td>\n",
       "      <td>7.5</td>\n",
       "      <td>14.0</td>\n",
       "      <td>5.6</td>\n",
       "      <td>4.0</td>\n",
       "      <td>11.1</td>\n",
       "      <td>...</td>\n",
       "      <td>18.072960</td>\n",
       "      <td>17.744915</td>\n",
       "      <td>4.613466</td>\n",
       "      <td>5.112219</td>\n",
       "      <td>5.336658</td>\n",
       "      <td>4.862843</td>\n",
       "      <td>6.362986</td>\n",
       "      <td>4.940156</td>\n",
       "      <td>1.539080</td>\n",
       "      <td>0.299252</td>\n",
       "    </tr>\n",
       "    <tr>\n",
       "      <th>N005</th>\n",
       "      <td>M</td>\n",
       "      <td>72.0</td>\n",
       "      <td>1.72</td>\n",
       "      <td>70.0</td>\n",
       "      <td>Lt</td>\n",
       "      <td>22.1</td>\n",
       "      <td>21.0</td>\n",
       "      <td>6.0</td>\n",
       "      <td>5.0</td>\n",
       "      <td>17.8</td>\n",
       "      <td>...</td>\n",
       "      <td>11.160336</td>\n",
       "      <td>13.229923</td>\n",
       "      <td>4.393204</td>\n",
       "      <td>4.563107</td>\n",
       "      <td>3.495146</td>\n",
       "      <td>4.296117</td>\n",
       "      <td>15.132093</td>\n",
       "      <td>11.006068</td>\n",
       "      <td>3.132949</td>\n",
       "      <td>-0.533981</td>\n",
       "    </tr>\n",
       "  </tbody>\n",
       "</table>\n",
       "<p>5 rows × 23 columns</p>\n",
       "</div>"
      ],
      "text/plain": [
       "          Sex   Age    Ht    Wt Rt/Lt  Peak force, First (dominant)  \\\n",
       "PatientID                                                             \n",
       "N001        M  55.0  1.70  74.0    Rt                          18.5   \n",
       "N002        F  65.0  1.60  72.0    Rt                           5.5   \n",
       "N003        F  77.0  1.56  63.0    Rt                           3.4   \n",
       "N004        M  57.0  1.60  68.0    Lt                           7.5   \n",
       "N005        M  72.0  1.72  70.0    Lt                          22.1   \n",
       "\n",
       "           Peak force, Second (dominant)  Duration/secs, First (dominant)  \\\n",
       "PatientID                                                                   \n",
       "N001                                21.9                              4.6   \n",
       "N002                                 5.0                              3.8   \n",
       "N003                                 4.5                              3.8   \n",
       "N004                                14.0                              5.6   \n",
       "N005                                21.0                              6.0   \n",
       "\n",
       "           Duration/secs, Second (dominant)  Peak force, First (non-dominant)  \\\n",
       "PatientID                                                                       \n",
       "N001                                    6.6                              14.6   \n",
       "N002                                    5.2                               6.2   \n",
       "N003                                    6.0                               6.1   \n",
       "N004                                    4.0                              11.1   \n",
       "N005                                    5.0                              17.8   \n",
       "\n",
       "           ...  Psoas area, Rt  Psoas area, Lt  Psoas thickness, Rt  \\\n",
       "PatientID  ...                                                        \n",
       "N001       ...       18.987671       21.209954             4.912941   \n",
       "N002       ...        9.578674       10.210007             3.436490   \n",
       "N003       ...        8.055383        9.994520             4.677494   \n",
       "N004       ...       18.072960       17.744915             4.613466   \n",
       "N005       ...       11.160336       13.229923             4.393204   \n",
       "\n",
       "           Psoas thickness, Lt  Psoas width, Rt  Psoas width, Lt  % fat, Rt  \\\n",
       "PatientID                                                                     \n",
       "N001                  5.082353         5.336471         5.675294   4.802225   \n",
       "N002                  2.854503         3.796767         4.960739   7.677740   \n",
       "N003                  4.621810         2.477958         3.368910  15.121444   \n",
       "N004                  5.112219         5.336658         4.862843   6.362986   \n",
       "N005                  4.563107         3.495146         4.296117  15.132093   \n",
       "\n",
       "           % fat, Lt  corridor length  anterior corridor  \n",
       "PatientID                                                 \n",
       "N001        5.182677         0.882099           0.564706  \n",
       "N002       14.800562         2.234000          -1.357968  \n",
       "N003       22.372338         1.781250           0.974478  \n",
       "N004        4.940156         1.539080           0.299252  \n",
       "N005       11.006068         3.132949          -0.533981  \n",
       "\n",
       "[5 rows x 23 columns]"
      ]
     },
     "execution_count": 2,
     "metadata": {},
     "output_type": "execute_result"
    }
   ],
   "source": [
    "data = pd.read_excel('3011979_datasets.xlsx', sheet_name = 'psoas_strength', index_col = 0)\n",
    "data = data.loc[~pd.isna(data).any(axis = 1)]\n",
    "data.head()"
   ]
  },
  {
   "cell_type": "code",
   "execution_count": 3,
   "id": "disciplinary-assist",
   "metadata": {},
   "outputs": [
    {
     "name": "stdout",
     "output_type": "stream",
     "text": [
      "data shape: (205, 23)\n"
     ]
    }
   ],
   "source": [
    "print('data shape:', data.shape)"
   ]
  },
  {
   "cell_type": "markdown",
   "id": "documented-generation",
   "metadata": {},
   "source": [
    "## Separate input features and output labels\n",
    "We will try to predict **Peak Force** using MRI features"
   ]
  },
  {
   "cell_type": "code",
   "execution_count": 4,
   "id": "civil-finder",
   "metadata": {},
   "outputs": [
    {
     "data": {
      "text/html": [
       "<div>\n",
       "<style scoped>\n",
       "    .dataframe tbody tr th:only-of-type {\n",
       "        vertical-align: middle;\n",
       "    }\n",
       "\n",
       "    .dataframe tbody tr th {\n",
       "        vertical-align: top;\n",
       "    }\n",
       "\n",
       "    .dataframe thead th {\n",
       "        text-align: right;\n",
       "    }\n",
       "</style>\n",
       "<table border=\"1\" class=\"dataframe\">\n",
       "  <thead>\n",
       "    <tr style=\"text-align: right;\">\n",
       "      <th></th>\n",
       "      <th>Sex</th>\n",
       "      <th>Age</th>\n",
       "      <th>Ht</th>\n",
       "      <th>Wt</th>\n",
       "      <th>Rt/Lt</th>\n",
       "      <th>corridor length</th>\n",
       "      <th>anterior corridor</th>\n",
       "      <th>Psoas area</th>\n",
       "      <th>Psoas thickness</th>\n",
       "      <th>Psoas width</th>\n",
       "      <th>% fat</th>\n",
       "    </tr>\n",
       "    <tr>\n",
       "      <th>PatientID</th>\n",
       "      <th></th>\n",
       "      <th></th>\n",
       "      <th></th>\n",
       "      <th></th>\n",
       "      <th></th>\n",
       "      <th></th>\n",
       "      <th></th>\n",
       "      <th></th>\n",
       "      <th></th>\n",
       "      <th></th>\n",
       "      <th></th>\n",
       "    </tr>\n",
       "  </thead>\n",
       "  <tbody>\n",
       "    <tr>\n",
       "      <th>N001</th>\n",
       "      <td>M</td>\n",
       "      <td>55.0</td>\n",
       "      <td>1.7</td>\n",
       "      <td>74.0</td>\n",
       "      <td>Rt</td>\n",
       "      <td>0.882099</td>\n",
       "      <td>0.564706</td>\n",
       "      <td>20.098812</td>\n",
       "      <td>4.997647</td>\n",
       "      <td>5.505882</td>\n",
       "      <td>4.992451</td>\n",
       "    </tr>\n",
       "    <tr>\n",
       "      <th>N002</th>\n",
       "      <td>F</td>\n",
       "      <td>65.0</td>\n",
       "      <td>1.6</td>\n",
       "      <td>72.0</td>\n",
       "      <td>Rt</td>\n",
       "      <td>2.234000</td>\n",
       "      <td>-1.357968</td>\n",
       "      <td>9.894340</td>\n",
       "      <td>3.145497</td>\n",
       "      <td>4.378753</td>\n",
       "      <td>11.239151</td>\n",
       "    </tr>\n",
       "  </tbody>\n",
       "</table>\n",
       "</div>"
      ],
      "text/plain": [
       "          Sex   Age   Ht    Wt Rt/Lt  corridor length  anterior corridor  \\\n",
       "PatientID                                                                  \n",
       "N001        M  55.0  1.7  74.0    Rt         0.882099           0.564706   \n",
       "N002        F  65.0  1.6  72.0    Rt         2.234000          -1.357968   \n",
       "\n",
       "           Psoas area  Psoas thickness  Psoas width      % fat  \n",
       "PatientID                                                       \n",
       "N001        20.098812         4.997647     5.505882   4.992451  \n",
       "N002         9.894340         3.145497     4.378753  11.239151  "
      ]
     },
     "metadata": {},
     "output_type": "display_data"
    },
    {
     "data": {
      "text/plain": [
       "PatientID\n",
       "N001    20.20\n",
       "N002     5.25\n",
       "dtype: float64"
      ]
     },
     "metadata": {},
     "output_type": "display_data"
    }
   ],
   "source": [
    "output_data = data[['Peak force, First (dominant)', 'Peak force, Second (dominant)']].mean(axis = 1).copy()\n",
    "raw_input_data = data[['Sex', 'Age', 'Ht', 'Wt', 'Rt/Lt', 'corridor length', 'anterior corridor']].copy()\n",
    "\n",
    "for f in ['Psoas area', 'Psoas thickness', 'Psoas width', '% fat']:\n",
    "    raw_input_data[f] = data[[f + ', Rt', f + ', Lt']].mean(axis = 1)\n",
    "    \n",
    "display(raw_input_data.head(2))\n",
    "display(output_data.head(2))"
   ]
  },
  {
   "cell_type": "markdown",
   "id": "adverse-activation",
   "metadata": {},
   "source": [
    "## Convert categorical features to {0,1} encoding (one-hot)"
   ]
  },
  {
   "cell_type": "code",
   "execution_count": 5,
   "id": "reserved-chance",
   "metadata": {},
   "outputs": [
    {
     "data": {
      "text/html": [
       "<div>\n",
       "<style scoped>\n",
       "    .dataframe tbody tr th:only-of-type {\n",
       "        vertical-align: middle;\n",
       "    }\n",
       "\n",
       "    .dataframe tbody tr th {\n",
       "        vertical-align: top;\n",
       "    }\n",
       "\n",
       "    .dataframe thead th {\n",
       "        text-align: right;\n",
       "    }\n",
       "</style>\n",
       "<table border=\"1\" class=\"dataframe\">\n",
       "  <thead>\n",
       "    <tr style=\"text-align: right;\">\n",
       "      <th></th>\n",
       "      <th>Age</th>\n",
       "      <th>Ht</th>\n",
       "      <th>Wt</th>\n",
       "      <th>corridor length</th>\n",
       "      <th>anterior corridor</th>\n",
       "      <th>Psoas area</th>\n",
       "      <th>Psoas thickness</th>\n",
       "      <th>Psoas width</th>\n",
       "      <th>% fat</th>\n",
       "      <th>Sex_F</th>\n",
       "      <th>Dominant_Lt</th>\n",
       "    </tr>\n",
       "    <tr>\n",
       "      <th>PatientID</th>\n",
       "      <th></th>\n",
       "      <th></th>\n",
       "      <th></th>\n",
       "      <th></th>\n",
       "      <th></th>\n",
       "      <th></th>\n",
       "      <th></th>\n",
       "      <th></th>\n",
       "      <th></th>\n",
       "      <th></th>\n",
       "      <th></th>\n",
       "    </tr>\n",
       "  </thead>\n",
       "  <tbody>\n",
       "    <tr>\n",
       "      <th>N218</th>\n",
       "      <td>75.0</td>\n",
       "      <td>1.56</td>\n",
       "      <td>51.0</td>\n",
       "      <td>1.313817</td>\n",
       "      <td>-0.103044</td>\n",
       "      <td>8.384039</td>\n",
       "      <td>3.606557</td>\n",
       "      <td>3.168618</td>\n",
       "      <td>6.151771</td>\n",
       "      <td>1</td>\n",
       "      <td>0</td>\n",
       "    </tr>\n",
       "    <tr>\n",
       "      <th>N219</th>\n",
       "      <td>58.0</td>\n",
       "      <td>1.60</td>\n",
       "      <td>75.0</td>\n",
       "      <td>1.140307</td>\n",
       "      <td>0.415704</td>\n",
       "      <td>11.724208</td>\n",
       "      <td>4.295612</td>\n",
       "      <td>3.782910</td>\n",
       "      <td>9.460528</td>\n",
       "      <td>1</td>\n",
       "      <td>0</td>\n",
       "    </tr>\n",
       "    <tr>\n",
       "      <th>N220</th>\n",
       "      <td>55.0</td>\n",
       "      <td>1.65</td>\n",
       "      <td>61.0</td>\n",
       "      <td>0.842551</td>\n",
       "      <td>-0.339806</td>\n",
       "      <td>7.897775</td>\n",
       "      <td>4.332524</td>\n",
       "      <td>2.791262</td>\n",
       "      <td>10.019254</td>\n",
       "      <td>1</td>\n",
       "      <td>0</td>\n",
       "    </tr>\n",
       "    <tr>\n",
       "      <th>N221</th>\n",
       "      <td>63.0</td>\n",
       "      <td>1.60</td>\n",
       "      <td>53.0</td>\n",
       "      <td>1.274876</td>\n",
       "      <td>-0.454988</td>\n",
       "      <td>10.707599</td>\n",
       "      <td>4.054745</td>\n",
       "      <td>3.827251</td>\n",
       "      <td>7.119755</td>\n",
       "      <td>1</td>\n",
       "      <td>1</td>\n",
       "    </tr>\n",
       "    <tr>\n",
       "      <th>N222</th>\n",
       "      <td>51.0</td>\n",
       "      <td>1.48</td>\n",
       "      <td>76.0</td>\n",
       "      <td>1.463321</td>\n",
       "      <td>-0.304850</td>\n",
       "      <td>10.080399</td>\n",
       "      <td>3.658199</td>\n",
       "      <td>3.769053</td>\n",
       "      <td>13.860140</td>\n",
       "      <td>1</td>\n",
       "      <td>0</td>\n",
       "    </tr>\n",
       "  </tbody>\n",
       "</table>\n",
       "</div>"
      ],
      "text/plain": [
       "            Age    Ht    Wt  corridor length  anterior corridor  Psoas area  \\\n",
       "PatientID                                                                     \n",
       "N218       75.0  1.56  51.0         1.313817          -0.103044    8.384039   \n",
       "N219       58.0  1.60  75.0         1.140307           0.415704   11.724208   \n",
       "N220       55.0  1.65  61.0         0.842551          -0.339806    7.897775   \n",
       "N221       63.0  1.60  53.0         1.274876          -0.454988   10.707599   \n",
       "N222       51.0  1.48  76.0         1.463321          -0.304850   10.080399   \n",
       "\n",
       "           Psoas thickness  Psoas width      % fat  Sex_F  Dominant_Lt  \n",
       "PatientID                                                               \n",
       "N218              3.606557     3.168618   6.151771      1            0  \n",
       "N219              4.295612     3.782910   9.460528      1            0  \n",
       "N220              4.332524     2.791262  10.019254      1            0  \n",
       "N221              4.054745     3.827251   7.119755      1            1  \n",
       "N222              3.658199     3.769053  13.860140      1            0  "
      ]
     },
     "execution_count": 5,
     "metadata": {},
     "output_type": "execute_result"
    }
   ],
   "source": [
    "input_data = raw_input_data.copy()\n",
    "\n",
    "temp = pd.get_dummies(input_data['Sex'], prefix = 'Sex')\n",
    "temp = pd.concat([input_data, temp], axis = 1)\n",
    "input_data = temp.drop(['Sex', 'Sex_M'], axis = 1)\n",
    "\n",
    "temp = pd.get_dummies(input_data['Rt/Lt'], prefix = 'Dominant')\n",
    "temp = pd.concat([input_data, temp], axis = 1)\n",
    "input_data = temp.drop(['Rt/Lt', 'Dominant_R', 'Dominant_Rt'], axis = 1)\n",
    "\n",
    "input_data.tail()"
   ]
  },
  {
   "cell_type": "markdown",
   "id": "upper-product",
   "metadata": {},
   "source": [
    "## Different ways to split data\n",
    "train_test_split *without stratification*"
   ]
  },
  {
   "cell_type": "code",
   "execution_count": 6,
   "id": "printable-albania",
   "metadata": {},
   "outputs": [
    {
     "name": "stdout",
     "output_type": "stream",
     "text": [
      "train data shape: (164, 11)\n",
      "test data shape: (41, 11)\n",
      "train data % female: 0.6829268292682927\n",
      "test data % female: 0.7317073170731707\n"
     ]
    }
   ],
   "source": [
    "X_train, X_test, y_train, y_test = train_test_split(input_data, output_data, test_size = 0.2,\n",
    "                                                    random_state = 3011979)\n",
    "\n",
    "print('train data shape:', X_train.shape)\n",
    "print('test data shape:', X_test.shape)\n",
    "print('train data % female:', X_train['Sex_F'].sum() / X_train.shape[0])\n",
    "print('test data % female:', X_test['Sex_F'].sum() / X_test.shape[0])"
   ]
  },
  {
   "cell_type": "markdown",
   "id": "insured-snowboard",
   "metadata": {},
   "source": [
    "train_test_split *with stratification*"
   ]
  },
  {
   "cell_type": "code",
   "execution_count": 7,
   "id": "interested-landing",
   "metadata": {},
   "outputs": [
    {
     "name": "stdout",
     "output_type": "stream",
     "text": [
      "train data shape: (164, 11)\n",
      "test data shape: (41, 11)\n",
      "train data % female: 0.6951219512195121\n",
      "test data % female: 0.6829268292682927\n"
     ]
    }
   ],
   "source": [
    "X_train, X_test, y_train, y_test = train_test_split(input_data, output_data, test_size = 0.2,\n",
    "                                                    stratify = input_data['Sex_F'],\n",
    "                                                    random_state = 3011979)\n",
    "\n",
    "print('train data shape:', X_train.shape)\n",
    "print('test data shape:', X_test.shape)\n",
    "print('train data % female:', X_train['Sex_F'].sum() / X_train.shape[0])\n",
    "print('test data % female:', X_test['Sex_F'].sum() / X_test.shape[0])"
   ]
  },
  {
   "cell_type": "markdown",
   "id": "noble-installation",
   "metadata": {},
   "source": [
    "## k-fold cross-validation\n",
    "KFold and StratifiedKFold"
   ]
  },
  {
   "cell_type": "code",
   "execution_count": null,
   "id": "younger-lucas",
   "metadata": {},
   "outputs": [],
   "source": [
    "splitter = KFold(n_splits = 5, shuffle = True, random_state = 3011979)\n",
    "\n",
    "for train_indices, test_indices in splitter.split(input_data):\n",
    "    print('train size:', train_indices.shape, 'test size:', test_indices.shape)"
   ]
  },
  {
   "cell_type": "code",
   "execution_count": null,
   "id": "angry-counter",
   "metadata": {},
   "outputs": [],
   "source": [
    "splitter = KFold(n_splits = 5, shuffle = True, random_state = 21556447)\n",
    "\n",
    "for train_indices, test_indices in splitter.split(input_data):\n",
    "    print('train size:', train_indices.shape, 'test size:', test_indices.shape)"
   ]
  },
  {
   "cell_type": "markdown",
   "id": "familiar-internet",
   "metadata": {},
   "source": [
    "### More splits lead to smaller test/validation size"
   ]
  },
  {
   "cell_type": "code",
   "execution_count": null,
   "id": "answering-sunrise",
   "metadata": {},
   "outputs": [],
   "source": [
    "splitter = KFold(n_splits = 10, shuffle = True, random_state = 3011979)\n",
    "\n",
    "for train_indices, test_indices in splitter.split(input_data):\n",
    "    print('train size:', train_indices.shape, 'test size:', test_indices.shape)"
   ]
  },
  {
   "cell_type": "markdown",
   "id": "medical-effect",
   "metadata": {},
   "source": [
    "### Stratified split lets you fix data composition"
   ]
  },
  {
   "cell_type": "code",
   "execution_count": 8,
   "id": "moving-current",
   "metadata": {},
   "outputs": [
    {
     "name": "stdout",
     "output_type": "stream",
     "text": [
      "train % female: 0.6951219512195121 test % female: 0.6829268292682927\n",
      "train % female: 0.6951219512195121 test % female: 0.6829268292682927\n",
      "train % female: 0.6951219512195121 test % female: 0.6829268292682927\n",
      "train % female: 0.6890243902439024 test % female: 0.7073170731707317\n",
      "train % female: 0.6890243902439024 test % female: 0.7073170731707317\n"
     ]
    }
   ],
   "source": [
    "splitter = StratifiedKFold(n_splits = 5, shuffle = True, random_state = 3011979)\n",
    "\n",
    "for train_indices, test_indices in splitter.split(input_data, input_data['Sex_F']):\n",
    "    X_train = input_data.iloc[train_indices]\n",
    "    X_test = input_data.iloc[test_indices]\n",
    "    y_train = output_data.iloc[train_indices]\n",
    "    y_test = output_data.iloc[test_indices]\n",
    "    \n",
    "    print('train % female:', X_train['Sex_F'].sum() / X_train.shape[0], 'test % female:', X_test['Sex_F'].sum() / X_test.shape[0])"
   ]
  },
  {
   "cell_type": "markdown",
   "id": "absent-emerald",
   "metadata": {},
   "source": [
    "## With bootstrapping, you can freely control the fraction of test/validation set\n",
    "ShuffleSplit and StraifiedShuffleSplit "
   ]
  },
  {
   "cell_type": "code",
   "execution_count": 9,
   "id": "martial-contemporary",
   "metadata": {},
   "outputs": [
    {
     "name": "stdout",
     "output_type": "stream",
     "text": [
      "train size: (123,) test size: (82,)\n",
      "train size: (123,) test size: (82,)\n",
      "train size: (123,) test size: (82,)\n",
      "train size: (123,) test size: (82,)\n",
      "train size: (123,) test size: (82,)\n",
      "train size: (123,) test size: (82,)\n",
      "train size: (123,) test size: (82,)\n",
      "train size: (123,) test size: (82,)\n",
      "train size: (123,) test size: (82,)\n",
      "train size: (123,) test size: (82,)\n"
     ]
    }
   ],
   "source": [
    "splitter = ShuffleSplit(n_splits = 10, test_size = 0.4, random_state = 3011979)\n",
    "\n",
    "for train_indices, test_indices in splitter.split(input_data):\n",
    "    print('train size:', train_indices.shape, 'test size:', test_indices.shape)"
   ]
  },
  {
   "cell_type": "markdown",
   "id": "eligible-antenna",
   "metadata": {},
   "source": [
    "# Let's do a train-test split"
   ]
  },
  {
   "cell_type": "code",
   "execution_count": 10,
   "id": "solved-formula",
   "metadata": {},
   "outputs": [],
   "source": [
    "X_train, X_test, y_train, y_test = train_test_split(input_data, output_data, test_size = 0.2,\n",
    "                                                    random_state = 3011979)"
   ]
  },
  {
   "cell_type": "markdown",
   "id": "later-transfer",
   "metadata": {},
   "source": [
    "## Standardize data using mean and SD estimates from the training set"
   ]
  },
  {
   "cell_type": "code",
   "execution_count": 11,
   "id": "bronze-genome",
   "metadata": {},
   "outputs": [],
   "source": [
    "X_scaler = StandardScaler(with_mean = True, with_std = True).fit(X_train)\n",
    "y_scaler = StandardScaler(with_mean = True, with_std = True).fit(y_train.values.reshape([-1, 1]))\n",
    "\n",
    "X_train_std = pd.DataFrame(X_scaler.transform(X_train), index = X_train.index, columns = X_train.columns)\n",
    "X_test_std = pd.DataFrame(X_scaler.transform(X_test), index = X_test.index, columns = X_test.columns)\n",
    "\n",
    "y_train_std = y_scaler.transform(y_train.values.reshape([-1, 1]))\n",
    "y_test_std = y_scaler.transform(y_test.values.reshape([-1, 1]))"
   ]
  },
  {
   "cell_type": "code",
   "execution_count": 12,
   "id": "incredible-coffee",
   "metadata": {},
   "outputs": [
    {
     "data": {
      "text/html": [
       "<div>\n",
       "<style scoped>\n",
       "    .dataframe tbody tr th:only-of-type {\n",
       "        vertical-align: middle;\n",
       "    }\n",
       "\n",
       "    .dataframe tbody tr th {\n",
       "        vertical-align: top;\n",
       "    }\n",
       "\n",
       "    .dataframe thead th {\n",
       "        text-align: right;\n",
       "    }\n",
       "</style>\n",
       "<table border=\"1\" class=\"dataframe\">\n",
       "  <thead>\n",
       "    <tr style=\"text-align: right;\">\n",
       "      <th></th>\n",
       "      <th>Age</th>\n",
       "      <th>Ht</th>\n",
       "      <th>Wt</th>\n",
       "      <th>corridor length</th>\n",
       "      <th>anterior corridor</th>\n",
       "      <th>Psoas area</th>\n",
       "      <th>Psoas thickness</th>\n",
       "      <th>Psoas width</th>\n",
       "      <th>% fat</th>\n",
       "      <th>Sex_F</th>\n",
       "      <th>Dominant_Lt</th>\n",
       "    </tr>\n",
       "    <tr>\n",
       "      <th>PatientID</th>\n",
       "      <th></th>\n",
       "      <th></th>\n",
       "      <th></th>\n",
       "      <th></th>\n",
       "      <th></th>\n",
       "      <th></th>\n",
       "      <th></th>\n",
       "      <th></th>\n",
       "      <th></th>\n",
       "      <th></th>\n",
       "      <th></th>\n",
       "    </tr>\n",
       "  </thead>\n",
       "  <tbody>\n",
       "    <tr>\n",
       "      <th>N160</th>\n",
       "      <td>-1.012929</td>\n",
       "      <td>0.556957</td>\n",
       "      <td>0.174442</td>\n",
       "      <td>0.024660</td>\n",
       "      <td>-0.403822</td>\n",
       "      <td>0.327395</td>\n",
       "      <td>0.030213</td>\n",
       "      <td>0.306677</td>\n",
       "      <td>-0.263012</td>\n",
       "      <td>-1.467599</td>\n",
       "      <td>-0.372678</td>\n",
       "    </tr>\n",
       "    <tr>\n",
       "      <th>N199</th>\n",
       "      <td>1.445511</td>\n",
       "      <td>-0.834022</td>\n",
       "      <td>0.174442</td>\n",
       "      <td>0.800761</td>\n",
       "      <td>-0.784018</td>\n",
       "      <td>-0.889400</td>\n",
       "      <td>-1.027803</td>\n",
       "      <td>-0.438944</td>\n",
       "      <td>1.684701</td>\n",
       "      <td>0.681385</td>\n",
       "      <td>-0.372678</td>\n",
       "    </tr>\n",
       "    <tr>\n",
       "      <th>N020</th>\n",
       "      <td>0.532377</td>\n",
       "      <td>-0.602192</td>\n",
       "      <td>0.621568</td>\n",
       "      <td>-0.029535</td>\n",
       "      <td>-0.597385</td>\n",
       "      <td>-0.276784</td>\n",
       "      <td>-0.299332</td>\n",
       "      <td>0.111226</td>\n",
       "      <td>1.326791</td>\n",
       "      <td>0.681385</td>\n",
       "      <td>-0.372678</td>\n",
       "    </tr>\n",
       "    <tr>\n",
       "      <th>N016</th>\n",
       "      <td>-0.099794</td>\n",
       "      <td>0.556957</td>\n",
       "      <td>1.739381</td>\n",
       "      <td>0.673840</td>\n",
       "      <td>0.417246</td>\n",
       "      <td>0.228826</td>\n",
       "      <td>0.503942</td>\n",
       "      <td>0.061260</td>\n",
       "      <td>-0.267141</td>\n",
       "      <td>0.681385</td>\n",
       "      <td>-0.372678</td>\n",
       "    </tr>\n",
       "    <tr>\n",
       "      <th>N123</th>\n",
       "      <td>0.251412</td>\n",
       "      <td>-0.486277</td>\n",
       "      <td>-1.166933</td>\n",
       "      <td>-0.460473</td>\n",
       "      <td>-1.133660</td>\n",
       "      <td>-0.705709</td>\n",
       "      <td>-1.255622</td>\n",
       "      <td>-0.096508</td>\n",
       "      <td>1.113901</td>\n",
       "      <td>0.681385</td>\n",
       "      <td>-0.372678</td>\n",
       "    </tr>\n",
       "  </tbody>\n",
       "</table>\n",
       "</div>"
      ],
      "text/plain": [
       "                Age        Ht        Wt  corridor length  anterior corridor  \\\n",
       "PatientID                                                                     \n",
       "N160      -1.012929  0.556957  0.174442         0.024660          -0.403822   \n",
       "N199       1.445511 -0.834022  0.174442         0.800761          -0.784018   \n",
       "N020       0.532377 -0.602192  0.621568        -0.029535          -0.597385   \n",
       "N016      -0.099794  0.556957  1.739381         0.673840           0.417246   \n",
       "N123       0.251412 -0.486277 -1.166933        -0.460473          -1.133660   \n",
       "\n",
       "           Psoas area  Psoas thickness  Psoas width     % fat     Sex_F  \\\n",
       "PatientID                                                                 \n",
       "N160         0.327395         0.030213     0.306677 -0.263012 -1.467599   \n",
       "N199        -0.889400        -1.027803    -0.438944  1.684701  0.681385   \n",
       "N020        -0.276784        -0.299332     0.111226  1.326791  0.681385   \n",
       "N016         0.228826         0.503942     0.061260 -0.267141  0.681385   \n",
       "N123        -0.705709        -1.255622    -0.096508  1.113901  0.681385   \n",
       "\n",
       "           Dominant_Lt  \n",
       "PatientID               \n",
       "N160         -0.372678  \n",
       "N199         -0.372678  \n",
       "N020         -0.372678  \n",
       "N016         -0.372678  \n",
       "N123         -0.372678  "
      ]
     },
     "execution_count": 12,
     "metadata": {},
     "output_type": "execute_result"
    }
   ],
   "source": [
    "X_train_std.head()"
   ]
  },
  {
   "cell_type": "markdown",
   "id": "serial-orlando",
   "metadata": {},
   "source": [
    "## Define basic linear regression, Ridge, and LASSO model"
   ]
  },
  {
   "cell_type": "code",
   "execution_count": 13,
   "id": "hindu-agency",
   "metadata": {},
   "outputs": [],
   "source": [
    "base_linear = LinearRegression()\n",
    "base_ridge = Ridge(alpha = 1.0, random_state = 3011979)\n",
    "base_lasso = Lasso(alpha = 1.0, random_state = 3011979)"
   ]
  },
  {
   "cell_type": "markdown",
   "id": "excited-irrigation",
   "metadata": {},
   "source": [
    "## Fit the model to training data "
   ]
  },
  {
   "cell_type": "code",
   "execution_count": 14,
   "id": "important-placement",
   "metadata": {},
   "outputs": [],
   "source": [
    "base_linear = base_linear.fit(X_train_std, y_train_std)\n",
    "base_ridge = base_ridge.fit(X_train_std, y_train_std)\n",
    "base_lasso = base_lasso.fit(X_train_std, y_train_std)"
   ]
  },
  {
   "cell_type": "markdown",
   "id": "hydraulic-lebanon",
   "metadata": {},
   "source": [
    "## Make prediction and evaluate performance"
   ]
  },
  {
   "cell_type": "code",
   "execution_count": 15,
   "id": "executive-holder",
   "metadata": {},
   "outputs": [],
   "source": [
    "base_linear_pred = base_linear.predict(X_test_std)\n",
    "base_ridge_pred = base_ridge.predict(X_test_std)\n",
    "base_lasso_pred = base_lasso.predict(X_test_std)"
   ]
  },
  {
   "cell_type": "code",
   "execution_count": 16,
   "id": "still-frost",
   "metadata": {},
   "outputs": [
    {
     "name": "stdout",
     "output_type": "stream",
     "text": [
      "linear regression MSE: 0.6520188726335454\n",
      "Ridge regression MSE: 0.6434040311845903\n",
      "Lasso regression MSE: 0.7651371828473389\n"
     ]
    }
   ],
   "source": [
    "print('linear regression MSE:', mean_squared_error(y_test_std, base_linear_pred))\n",
    "print('Ridge regression MSE:', mean_squared_error(y_test_std, base_ridge_pred))\n",
    "print('Lasso regression MSE:', mean_squared_error(y_test_std, base_lasso_pred))"
   ]
  },
  {
   "cell_type": "markdown",
   "id": "retained-kentucky",
   "metadata": {},
   "source": [
    "## View the model coefficients"
   ]
  },
  {
   "cell_type": "code",
   "execution_count": 17,
   "id": "tutorial-manual",
   "metadata": {},
   "outputs": [
    {
     "data": {
      "image/png": "[encoded data removed]",
      "text/plain": [
       "<Figure size 1080x288 with 3 Axes>"
      ]
     },
     "metadata": {
      "needs_background": "light"
     },
     "output_type": "display_data"
    }
   ],
   "source": [
    "plt.figure(figsize = (15, 4))\n",
    "\n",
    "plt.subplot(1, 3, 1)\n",
    "plt.bar(range(X_train_std.shape[1]), base_linear.coef_[0])\n",
    "plt.xticks(range(X_train_std.shape[1]), labels = X_train_std.columns, rotation = 90)\n",
    "plt.ylabel('coefficient')\n",
    "\n",
    "plt.subplot(1, 3, 2)\n",
    "plt.bar(range(X_train_std.shape[1]), base_ridge.coef_[0])\n",
    "plt.xticks(range(X_train_std.shape[1]), labels = X_train_std.columns, rotation = 90)\n",
    "\n",
    "plt.subplot(1, 3, 3)\n",
    "plt.bar(range(X_train_std.shape[1]), base_lasso.coef_)\n",
    "plt.xticks(range(X_train_std.shape[1]), labels = X_train_std.columns, rotation = 90)\n",
    "\n",
    "plt.tight_layout()\n",
    "plt.show()"
   ]
  },
  {
   "cell_type": "markdown",
   "id": "executive-asset",
   "metadata": {},
   "source": [
    "## The Lasso model just predicts the mean value!\n",
    "This is probably because **alpha = 1.0** is too high"
   ]
  },
  {
   "cell_type": "code",
   "execution_count": 21,
   "id": "interracial-yellow",
   "metadata": {},
   "outputs": [
    {
     "name": "stdout",
     "output_type": "stream",
     "text": [
      "Lasso regression MSE: 0.6312330684128491\n"
     ]
    },
    {
     "data": {
      "image/png": "[encoded data removed]",
      "text/plain": [
       "<Figure size 360x216 with 1 Axes>"
      ]
     },
     "metadata": {
      "needs_background": "light"
     },
     "output_type": "display_data"
    }
   ],
   "source": [
    "base_lasso = Lasso(alpha = 0.01, random_state = 3011979)\n",
    "base_lasso = base_lasso.fit(X_train_std, y_train_std)\n",
    "base_lasso_pred = base_lasso.predict(X_test_std)\n",
    "print('Lasso regression MSE:', mean_squared_error(y_test_std, base_lasso_pred))\n",
    "\n",
    "plt.figure(figsize = (5, 3))\n",
    "plt.bar(range(X_train_std.shape[1]), base_lasso.coef_)\n",
    "plt.xticks(range(X_train_std.shape[1]), labels = X_train_std.columns, rotation = 90)\n",
    "plt.show()"
   ]
  },
  {
   "cell_type": "markdown",
   "id": "successful-weekly",
   "metadata": {},
   "source": [
    "## Is MSE of 0.6414 good or bad?\n",
    "Baseline = predict mean value"
   ]
  },
  {
   "cell_type": "code",
   "execution_count": null,
   "id": "extreme-bowling",
   "metadata": {},
   "outputs": [],
   "source": [
    "print('baseline MSE:', mean_squared_error(y_test_std, np.zeros(y_test_std.shape) + y_train_std.mean()))"
   ]
  },
  {
   "cell_type": "markdown",
   "id": "daily-flash",
   "metadata": {},
   "source": [
    "### Scatter plots"
   ]
  },
  {
   "cell_type": "code",
   "execution_count": null,
   "id": "intense-newman",
   "metadata": {},
   "outputs": [],
   "source": [
    "plt.figure(figsize = (5, 5))\n",
    "plt.scatter(y_train_std, base_lasso.predict(X_train_std), label = 'Lasso model, training')\n",
    "plt.scatter(y_test_std, base_lasso_pred, label = 'Lasso model, test')\n",
    "plt.xlabel('ground truth'); plt.ylabel('predicted')\n",
    "plt.legend()\n",
    "plt.plot([-1.6, 2.1], [-1.6, 2.1], '--k')\n",
    "plt.show()"
   ]
  },
  {
   "cell_type": "markdown",
   "id": "extensive-haiti",
   "metadata": {},
   "source": [
    "## Support Vector Machine with Radial Basis Function (RBF) kernel\n",
    "Explore the impact of **C** (inverse regularization weight) and **epsilon** (allowed regression error)"
   ]
  },
  {
   "cell_type": "code",
   "execution_count": 22,
   "id": "international-minutes",
   "metadata": {},
   "outputs": [],
   "source": [
    "def fit_rbf(C, epsilon):\n",
    "    svm_rbf = SVR(C = C, epsilon = epsilon, kernel = 'rbf')\n",
    "    svm_rbf = svm_rbf.fit(X_train_std, y_train_std.ravel())\n",
    "    svm_rbf_pred = svm_rbf.predict(X_test_std)\n",
    "\n",
    "    plt.scatter(y_train_std, svm_rbf.predict(X_train_std), label = 'RBF SVM, training')\n",
    "    plt.scatter(y_test_std, svm_rbf_pred, label = 'RBF SVM, test')\n",
    "    plt.xlabel('ground truth'); plt.ylabel('predicted')\n",
    "    plt.legend()\n",
    "    plt.plot([-1.6, 2.1], [-1.6, 2.1], '--k')\n",
    "    plt.title('C: ' + str(C) + ', epsilon: ' + str(epsilon) + \n",
    "              ', MSE: ' +  str(mean_squared_error(y_test_std, svm_rbf_pred))[:6])"
   ]
  },
  {
   "cell_type": "code",
   "execution_count": 23,
   "id": "amber-ideal",
   "metadata": {},
   "outputs": [
    {
     "data": {
      "image/png": "[encoded data removed]",
      "text/plain": [
       "<Figure size 1080x720 with 6 Axes>"
      ]
     },
     "metadata": {
      "needs_background": "light"
     },
     "output_type": "display_data"
    }
   ],
   "source": [
    "params = [[1.0, 0], [10.0, 0], [0.01, 0],\n",
    "          [1.0, 0.1], [1.0, 0.3], [1.0, 0.5]]\n",
    "\n",
    "plt.figure(figsize = (15, 10))\n",
    "\n",
    "for i, p in enumerate(params, start = 1):\n",
    "    plt.subplot(2, 3, i)\n",
    "    fit_rbf(p[0], p[1])\n",
    "\n",
    "plt.tight_layout()\n",
    "plt.show()"
   ]
  },
  {
   "cell_type": "markdown",
   "id": "canadian-intention",
   "metadata": {},
   "source": [
    "## The best MSE is 0.5154. How does this translate to the original data unit?\n",
    "MSE = (y - f(x))^2 --> scaled by std(y)^2"
   ]
  },
  {
   "cell_type": "code",
   "execution_count": null,
   "id": "corresponding-essence",
   "metadata": {},
   "outputs": [],
   "source": [
    "print('original-scale MSE:', 0.5154 * (y_train.std() ** 2))"
   ]
  },
  {
   "cell_type": "markdown",
   "id": "voluntary-motivation",
   "metadata": {},
   "source": [
    "# Let's do a stratified bootstrap with the best SVM model\n",
    "Record MSE from 10 bootstraps"
   ]
  },
  {
   "cell_type": "code",
   "execution_count": null,
   "id": "promotional-deposit",
   "metadata": {},
   "outputs": [],
   "source": [
    "splitter = StratifiedShuffleSplit(n_splits = 10, test_size = 0.2, random_state = 3011979)\n",
    "tuned_svm_rbf = SVR(C = 1.0, epsilon = 0.1, kernel = 'rbf')\n",
    "tuned_svm_rbf_mse = []\n",
    "\n",
    "for train_indices, test_indices in splitter.split(input_data, input_data['Sex_F']):\n",
    "    X_train = input_data.iloc[train_indices]\n",
    "    X_test = input_data.iloc[test_indices]\n",
    "    y_train = output_data.iloc[train_indices]\n",
    "    y_test = output_data.iloc[test_indices]\n",
    "    \n",
    "    X_scaler = StandardScaler(with_mean = True, with_std = True).fit(X_train)\n",
    "    y_scaler = StandardScaler(with_mean = True, with_std = True).fit(y_train.values.reshape([-1, 1]))\n",
    "\n",
    "    X_train_std = pd.DataFrame(X_scaler.transform(X_train), index = X_train.index, columns = X_train.columns)\n",
    "    X_test_std = pd.DataFrame(X_scaler.transform(X_test), index = X_test.index, columns = X_test.columns)\n",
    "\n",
    "    y_train_std = y_scaler.transform(y_train.values.reshape([-1, 1]))\n",
    "    y_test_std = y_scaler.transform(y_test.values.reshape([-1, 1]))\n",
    "    \n",
    "    tuned_svm_rbf = tuned_svm_rbf.fit(X_train_std, y_train_std.ravel())\n",
    "    y_pred = tuned_svm_rbf.predict(X_test_std)\n",
    "    tuned_svm_rbf_mse.append(mean_squared_error(y_test_std, y_pred))\n",
    "    \n",
    "print('MSE:', tuned_svm_rbf_mse)\n",
    "print('average:', np.mean(tuned_svm_rbf_mse), 'sd:', np.std(tuned_svm_rbf_mse))"
   ]
  },
  {
   "cell_type": "markdown",
   "id": "different-london",
   "metadata": {},
   "source": [
    "### What about Lasso model?\n",
    "We can also collect coefficients"
   ]
  },
  {
   "cell_type": "code",
   "execution_count": null,
   "id": "serial-castle",
   "metadata": {},
   "outputs": [],
   "source": [
    "splitter = StratifiedShuffleSplit(n_splits = 10, test_size = 0.2, random_state = 3011979)\n",
    "tuned_lasso = Lasso(alpha = 0.001, random_state = 3011979)\n",
    "tuned_lasso_mse = []\n",
    "tuned_lasso_coeff = []\n",
    "\n",
    "for train_indices, test_indices in splitter.split(input_data, input_data['Sex_F']):\n",
    "    X_train = input_data.iloc[train_indices]\n",
    "    X_test = input_data.iloc[test_indices]\n",
    "    y_train = output_data.iloc[train_indices]\n",
    "    y_test = output_data.iloc[test_indices]\n",
    "    \n",
    "    X_scaler = StandardScaler(with_mean = True, with_std = True).fit(X_train)\n",
    "    y_scaler = StandardScaler(with_mean = True, with_std = True).fit(y_train.values.reshape([-1, 1]))\n",
    "\n",
    "    X_train_std = pd.DataFrame(X_scaler.transform(X_train), index = X_train.index, columns = X_train.columns)\n",
    "    X_test_std = pd.DataFrame(X_scaler.transform(X_test), index = X_test.index, columns = X_test.columns)\n",
    "\n",
    "    y_train_std = y_scaler.transform(y_train.values.reshape([-1, 1]))\n",
    "    y_test_std = y_scaler.transform(y_test.values.reshape([-1, 1]))\n",
    "    \n",
    "    tuned_lasso = tuned_lasso.fit(X_train_std, y_train_std.ravel())\n",
    "    y_pred = tuned_lasso.predict(X_test_std)\n",
    "    tuned_lasso_mse.append(mean_squared_error(y_test_std, y_pred))\n",
    "    tuned_lasso_coeff.append(tuned_lasso.coef_)\n",
    "    \n",
    "print('MSE:', tuned_lasso_mse)\n",
    "print('average:', np.mean(tuned_lasso_mse), 'sd:', np.std(tuned_lasso_mse))"
   ]
  },
  {
   "cell_type": "markdown",
   "id": "bearing-marker",
   "metadata": {},
   "source": [
    "### Compare MSE between the corresponding bootstrap"
   ]
  },
  {
   "cell_type": "code",
   "execution_count": null,
   "id": "quality-duration",
   "metadata": {},
   "outputs": [],
   "source": [
    "plt.figure(figsize = (5, 5))\n",
    "plt.scatter(tuned_svm_rbf_mse, tuned_lasso_mse)\n",
    "plt.plot([0.5, 1.2], [0.5, 1.2], '--k')\n",
    "plt.xlabel('SVM MSE'); plt.ylabel('Lasso MSE')\n",
    "plt.show()"
   ]
  },
  {
   "cell_type": "markdown",
   "id": "compact-california",
   "metadata": {},
   "source": [
    "### View Lasso coefficients"
   ]
  },
  {
   "cell_type": "code",
   "execution_count": null,
   "id": "voluntary-wealth",
   "metadata": {},
   "outputs": [],
   "source": [
    "coeffs = np.concatenate(tuned_lasso_coeff).reshape([-1, X_train.shape[1]])\n",
    "\n",
    "plt.figure(figsize = (6, 4))\n",
    "plt.boxplot([coeffs[:, i] for i in range(coeffs.shape[1])])\n",
    "plt.plot([0.5, X_train_std.shape[1] + 0.5], [0, 0], '--k')\n",
    "plt.xticks(range(1, X_train_std.shape[1] + 1), labels = X_train_std.columns, rotation = 90)\n",
    "plt.show()"
   ]
  },
  {
   "cell_type": "markdown",
   "id": "connected-victoria",
   "metadata": {},
   "source": [
    "# Next, let's do some binary classification\n",
    "We will use **leaf_absorbance** data"
   ]
  },
  {
   "cell_type": "code",
   "execution_count": null,
   "id": "owned-prescription",
   "metadata": {},
   "outputs": [],
   "source": [
    "data = pd.read_excel('3011979_datasets.xlsx', sheet_name = 'leaf_absorbance', index_col = None)\n",
    "data = data.loc[~pd.isna(data).any(axis = 1)]\n",
    "data.head()"
   ]
  },
  {
   "cell_type": "markdown",
   "id": "expressed-baseline",
   "metadata": {},
   "source": [
    "## Separate input and output data"
   ]
  },
  {
   "cell_type": "code",
   "execution_count": null,
   "id": "smaller-andrews",
   "metadata": {},
   "outputs": [],
   "source": [
    "output_data = data['ConditionID']\n",
    "input_data = data.iloc[:, 3:]\n",
    "\n",
    "print('input data shape:', input_data.shape)"
   ]
  },
  {
   "cell_type": "markdown",
   "id": "stainless-relative",
   "metadata": {},
   "source": [
    "## A train-test split with stratification on Cultivar ID\n",
    "Also standardized data"
   ]
  },
  {
   "cell_type": "code",
   "execution_count": null,
   "id": "front-activity",
   "metadata": {},
   "outputs": [],
   "source": [
    "X_train, X_test, y_train, y_test = train_test_split(input_data, output_data, test_size = 0.2,\n",
    "                                                    stratify = data['CultivarID'], random_state = 3011979)\n",
    "\n",
    "X_scaler = StandardScaler(with_mean = True, with_std = True).fit(X_train)\n",
    "X_train_std = pd.DataFrame(X_scaler.transform(X_train), index = X_train.index, columns = X_train.columns)\n",
    "X_test_std = pd.DataFrame(X_scaler.transform(X_test), index = X_test.index, columns = X_test.columns)"
   ]
  },
  {
   "cell_type": "markdown",
   "id": "intended-shape",
   "metadata": {},
   "source": [
    "## Try Logistic regression and SVM"
   ]
  },
  {
   "cell_type": "code",
   "execution_count": null,
   "id": "czech-spectrum",
   "metadata": {},
   "outputs": [],
   "source": [
    "base_l2_logistic = LogisticRegression(penalty = 'l2', C = 1.0, random_state = 3011979, \n",
    "                                      max_iter = 10000).fit(X_train_std, y_train)\n",
    "base_l1_logistic = LogisticRegression(penalty = 'l1', C = 10.0, random_state = 3011979, \n",
    "                                      solver = 'liblinear', max_iter = 10000).fit(X_train_std, y_train)\n",
    "base_linear_svm = LinearSVC(C = 1.0, random_state = 3011979).fit(X_train_std, y_train.ravel())\n",
    "base_rbf_svm = SVC(C = 1.0, kernel = 'rbf').fit(X_train_std, y_train.ravel())\n",
    "\n",
    "print('L2 logistic acc:', accuracy_score(y_test, base_l2_logistic.predict(X_test_std)))\n",
    "print('L1 logistic acc:', accuracy_score(y_test, base_l1_logistic.predict(X_test_std)))\n",
    "print('SVM acc:', accuracy_score(y_test, base_linear_svm.predict(X_test_std)))\n",
    "print('RBF SVM acc:', accuracy_score(y_test, base_rbf_svm.predict(X_test_std)))"
   ]
  },
  {
   "cell_type": "markdown",
   "id": "virtual-clark",
   "metadata": {},
   "source": [
    "## Ready-to-use classification report"
   ]
  },
  {
   "cell_type": "code",
   "execution_count": null,
   "id": "turned-pierce",
   "metadata": {},
   "outputs": [],
   "source": [
    "print(classification_report(y_test, base_l1_logistic.predict(X_test_std)))"
   ]
  }
 ],
 "metadata": {
  "kernelspec": {
   "display_name": "Python 3 (ipykernel)",
   "language": "python",
   "name": "python3"
  },
  "language_info": {
   "codemirror_mode": {
    "name": "ipython",
    "version": 3
   },
   "file_extension": ".py",
   "mimetype": "text/x-python",
   "name": "python",
   "nbconvert_exporter": "python",
   "pygments_lexer": "ipython3",
   "version": "3.9.12"
  }
 },
 "nbformat": 4,
 "nbformat_minor": 5
}
