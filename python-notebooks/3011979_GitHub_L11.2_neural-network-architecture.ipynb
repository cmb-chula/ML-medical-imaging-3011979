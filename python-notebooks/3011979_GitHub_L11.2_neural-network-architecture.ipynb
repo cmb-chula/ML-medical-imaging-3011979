{
 "cells": [
  {
   "cell_type": "markdown",
   "id": "several-analyst",
   "metadata": {},
   "source": [
    "# Today, we will explore three new tools\n",
    "1. Multi-class classification\n",
    "2. Basic convolutional neural network\n",
    "3. Google Colaboratory\n",
    "\n",
    "## Fashion MNIST data will be used"
   ]
  },
  {
   "cell_type": "code",
   "execution_count": 1,
   "id": "african-storage",
   "metadata": {},
   "outputs": [],
   "source": [
    "import matplotlib.pyplot as plt\n",
    "import pandas as pd\n",
    "import numpy as np"
   ]
  },
  {
   "cell_type": "markdown",
   "id": "digital-province",
   "metadata": {},
   "source": [
    "## Load data and extract input and label"
   ]
  },
  {
   "cell_type": "code",
   "execution_count": 3,
   "id": "humanitarian-holmes",
   "metadata": {},
   "outputs": [
    {
     "data": {
      "text/html": [
       "<div>\n",
       "<style scoped>\n",
       "    .dataframe tbody tr th:only-of-type {\n",
       "        vertical-align: middle;\n",
       "    }\n",
       "\n",
       "    .dataframe tbody tr th {\n",
       "        vertical-align: top;\n",
       "    }\n",
       "\n",
       "    .dataframe thead th {\n",
       "        text-align: right;\n",
       "    }\n",
       "</style>\n",
       "<table border=\"1\" class=\"dataframe\">\n",
       "  <thead>\n",
       "    <tr style=\"text-align: right;\">\n",
       "      <th></th>\n",
       "      <th>label</th>\n",
       "      <th>pixel1</th>\n",
       "      <th>pixel2</th>\n",
       "      <th>pixel3</th>\n",
       "      <th>pixel4</th>\n",
       "      <th>pixel5</th>\n",
       "      <th>pixel6</th>\n",
       "      <th>pixel7</th>\n",
       "      <th>pixel8</th>\n",
       "      <th>pixel9</th>\n",
       "      <th>...</th>\n",
       "      <th>pixel775</th>\n",
       "      <th>pixel776</th>\n",
       "      <th>pixel777</th>\n",
       "      <th>pixel778</th>\n",
       "      <th>pixel779</th>\n",
       "      <th>pixel780</th>\n",
       "      <th>pixel781</th>\n",
       "      <th>pixel782</th>\n",
       "      <th>pixel783</th>\n",
       "      <th>pixel784</th>\n",
       "    </tr>\n",
       "  </thead>\n",
       "  <tbody>\n",
       "    <tr>\n",
       "      <th>0</th>\n",
       "      <td>2</td>\n",
       "      <td>0</td>\n",
       "      <td>0</td>\n",
       "      <td>0</td>\n",
       "      <td>0</td>\n",
       "      <td>0</td>\n",
       "      <td>0</td>\n",
       "      <td>0</td>\n",
       "      <td>0</td>\n",
       "      <td>0</td>\n",
       "      <td>...</td>\n",
       "      <td>0</td>\n",
       "      <td>0</td>\n",
       "      <td>0</td>\n",
       "      <td>0</td>\n",
       "      <td>0</td>\n",
       "      <td>0</td>\n",
       "      <td>0</td>\n",
       "      <td>0</td>\n",
       "      <td>0</td>\n",
       "      <td>0</td>\n",
       "    </tr>\n",
       "    <tr>\n",
       "      <th>1</th>\n",
       "      <td>9</td>\n",
       "      <td>0</td>\n",
       "      <td>0</td>\n",
       "      <td>0</td>\n",
       "      <td>0</td>\n",
       "      <td>0</td>\n",
       "      <td>0</td>\n",
       "      <td>0</td>\n",
       "      <td>0</td>\n",
       "      <td>0</td>\n",
       "      <td>...</td>\n",
       "      <td>0</td>\n",
       "      <td>0</td>\n",
       "      <td>0</td>\n",
       "      <td>0</td>\n",
       "      <td>0</td>\n",
       "      <td>0</td>\n",
       "      <td>0</td>\n",
       "      <td>0</td>\n",
       "      <td>0</td>\n",
       "      <td>0</td>\n",
       "    </tr>\n",
       "    <tr>\n",
       "      <th>2</th>\n",
       "      <td>6</td>\n",
       "      <td>0</td>\n",
       "      <td>0</td>\n",
       "      <td>0</td>\n",
       "      <td>0</td>\n",
       "      <td>0</td>\n",
       "      <td>0</td>\n",
       "      <td>0</td>\n",
       "      <td>5</td>\n",
       "      <td>0</td>\n",
       "      <td>...</td>\n",
       "      <td>0</td>\n",
       "      <td>0</td>\n",
       "      <td>0</td>\n",
       "      <td>30</td>\n",
       "      <td>43</td>\n",
       "      <td>0</td>\n",
       "      <td>0</td>\n",
       "      <td>0</td>\n",
       "      <td>0</td>\n",
       "      <td>0</td>\n",
       "    </tr>\n",
       "    <tr>\n",
       "      <th>3</th>\n",
       "      <td>0</td>\n",
       "      <td>0</td>\n",
       "      <td>0</td>\n",
       "      <td>0</td>\n",
       "      <td>1</td>\n",
       "      <td>2</td>\n",
       "      <td>0</td>\n",
       "      <td>0</td>\n",
       "      <td>0</td>\n",
       "      <td>0</td>\n",
       "      <td>...</td>\n",
       "      <td>3</td>\n",
       "      <td>0</td>\n",
       "      <td>0</td>\n",
       "      <td>0</td>\n",
       "      <td>0</td>\n",
       "      <td>1</td>\n",
       "      <td>0</td>\n",
       "      <td>0</td>\n",
       "      <td>0</td>\n",
       "      <td>0</td>\n",
       "    </tr>\n",
       "    <tr>\n",
       "      <th>4</th>\n",
       "      <td>3</td>\n",
       "      <td>0</td>\n",
       "      <td>0</td>\n",
       "      <td>0</td>\n",
       "      <td>0</td>\n",
       "      <td>0</td>\n",
       "      <td>0</td>\n",
       "      <td>0</td>\n",
       "      <td>0</td>\n",
       "      <td>0</td>\n",
       "      <td>...</td>\n",
       "      <td>0</td>\n",
       "      <td>0</td>\n",
       "      <td>0</td>\n",
       "      <td>0</td>\n",
       "      <td>0</td>\n",
       "      <td>0</td>\n",
       "      <td>0</td>\n",
       "      <td>0</td>\n",
       "      <td>0</td>\n",
       "      <td>0</td>\n",
       "    </tr>\n",
       "    <tr>\n",
       "      <th>5</th>\n",
       "      <td>4</td>\n",
       "      <td>0</td>\n",
       "      <td>0</td>\n",
       "      <td>0</td>\n",
       "      <td>5</td>\n",
       "      <td>4</td>\n",
       "      <td>5</td>\n",
       "      <td>5</td>\n",
       "      <td>3</td>\n",
       "      <td>5</td>\n",
       "      <td>...</td>\n",
       "      <td>7</td>\n",
       "      <td>8</td>\n",
       "      <td>7</td>\n",
       "      <td>4</td>\n",
       "      <td>3</td>\n",
       "      <td>7</td>\n",
       "      <td>5</td>\n",
       "      <td>0</td>\n",
       "      <td>0</td>\n",
       "      <td>0</td>\n",
       "    </tr>\n",
       "    <tr>\n",
       "      <th>6</th>\n",
       "      <td>4</td>\n",
       "      <td>0</td>\n",
       "      <td>0</td>\n",
       "      <td>0</td>\n",
       "      <td>0</td>\n",
       "      <td>0</td>\n",
       "      <td>0</td>\n",
       "      <td>0</td>\n",
       "      <td>0</td>\n",
       "      <td>0</td>\n",
       "      <td>...</td>\n",
       "      <td>14</td>\n",
       "      <td>0</td>\n",
       "      <td>0</td>\n",
       "      <td>0</td>\n",
       "      <td>0</td>\n",
       "      <td>0</td>\n",
       "      <td>0</td>\n",
       "      <td>0</td>\n",
       "      <td>0</td>\n",
       "      <td>0</td>\n",
       "    </tr>\n",
       "    <tr>\n",
       "      <th>7</th>\n",
       "      <td>5</td>\n",
       "      <td>0</td>\n",
       "      <td>0</td>\n",
       "      <td>0</td>\n",
       "      <td>0</td>\n",
       "      <td>0</td>\n",
       "      <td>0</td>\n",
       "      <td>0</td>\n",
       "      <td>0</td>\n",
       "      <td>0</td>\n",
       "      <td>...</td>\n",
       "      <td>0</td>\n",
       "      <td>0</td>\n",
       "      <td>0</td>\n",
       "      <td>0</td>\n",
       "      <td>0</td>\n",
       "      <td>0</td>\n",
       "      <td>0</td>\n",
       "      <td>0</td>\n",
       "      <td>0</td>\n",
       "      <td>0</td>\n",
       "    </tr>\n",
       "    <tr>\n",
       "      <th>8</th>\n",
       "      <td>4</td>\n",
       "      <td>0</td>\n",
       "      <td>0</td>\n",
       "      <td>0</td>\n",
       "      <td>0</td>\n",
       "      <td>0</td>\n",
       "      <td>0</td>\n",
       "      <td>3</td>\n",
       "      <td>2</td>\n",
       "      <td>0</td>\n",
       "      <td>...</td>\n",
       "      <td>1</td>\n",
       "      <td>0</td>\n",
       "      <td>0</td>\n",
       "      <td>0</td>\n",
       "      <td>0</td>\n",
       "      <td>0</td>\n",
       "      <td>0</td>\n",
       "      <td>0</td>\n",
       "      <td>0</td>\n",
       "      <td>0</td>\n",
       "    </tr>\n",
       "    <tr>\n",
       "      <th>9</th>\n",
       "      <td>8</td>\n",
       "      <td>0</td>\n",
       "      <td>0</td>\n",
       "      <td>0</td>\n",
       "      <td>0</td>\n",
       "      <td>0</td>\n",
       "      <td>0</td>\n",
       "      <td>0</td>\n",
       "      <td>0</td>\n",
       "      <td>0</td>\n",
       "      <td>...</td>\n",
       "      <td>203</td>\n",
       "      <td>214</td>\n",
       "      <td>166</td>\n",
       "      <td>0</td>\n",
       "      <td>0</td>\n",
       "      <td>0</td>\n",
       "      <td>0</td>\n",
       "      <td>0</td>\n",
       "      <td>0</td>\n",
       "      <td>0</td>\n",
       "    </tr>\n",
       "  </tbody>\n",
       "</table>\n",
       "<p>10 rows × 785 columns</p>\n",
       "</div>"
      ],
      "text/plain": [
       "   label  pixel1  pixel2  pixel3  pixel4  pixel5  pixel6  pixel7  pixel8  \\\n",
       "0      2       0       0       0       0       0       0       0       0   \n",
       "1      9       0       0       0       0       0       0       0       0   \n",
       "2      6       0       0       0       0       0       0       0       5   \n",
       "3      0       0       0       0       1       2       0       0       0   \n",
       "4      3       0       0       0       0       0       0       0       0   \n",
       "5      4       0       0       0       5       4       5       5       3   \n",
       "6      4       0       0       0       0       0       0       0       0   \n",
       "7      5       0       0       0       0       0       0       0       0   \n",
       "8      4       0       0       0       0       0       0       3       2   \n",
       "9      8       0       0       0       0       0       0       0       0   \n",
       "\n",
       "   pixel9  ...  pixel775  pixel776  pixel777  pixel778  pixel779  pixel780  \\\n",
       "0       0  ...         0         0         0         0         0         0   \n",
       "1       0  ...         0         0         0         0         0         0   \n",
       "2       0  ...         0         0         0        30        43         0   \n",
       "3       0  ...         3         0         0         0         0         1   \n",
       "4       0  ...         0         0         0         0         0         0   \n",
       "5       5  ...         7         8         7         4         3         7   \n",
       "6       0  ...        14         0         0         0         0         0   \n",
       "7       0  ...         0         0         0         0         0         0   \n",
       "8       0  ...         1         0         0         0         0         0   \n",
       "9       0  ...       203       214       166         0         0         0   \n",
       "\n",
       "   pixel781  pixel782  pixel783  pixel784  \n",
       "0         0         0         0         0  \n",
       "1         0         0         0         0  \n",
       "2         0         0         0         0  \n",
       "3         0         0         0         0  \n",
       "4         0         0         0         0  \n",
       "5         5         0         0         0  \n",
       "6         0         0         0         0  \n",
       "7         0         0         0         0  \n",
       "8         0         0         0         0  \n",
       "9         0         0         0         0  \n",
       "\n",
       "[10 rows x 785 columns]"
      ]
     },
     "execution_count": 3,
     "metadata": {},
     "output_type": "execute_result"
    }
   ],
   "source": [
    "data_raw = pd.read_csv('L11.2_mnist_fashion.csv', header = 0, index_col = False)\n",
    "data_raw.head(10)"
   ]
  },
  {
   "cell_type": "markdown",
   "id": "sustained-summer",
   "metadata": {},
   "source": [
    "### Keep only the first 1,000 data points to speed things up"
   ]
  },
  {
   "cell_type": "code",
   "execution_count": 19,
   "id": "sustainable-designation",
   "metadata": {},
   "outputs": [
    {
     "name": "stdout",
     "output_type": "stream",
     "text": [
      "data dimension: (1000, 784)\n"
     ]
    },
    {
     "data": {
      "text/plain": [
       "0    2\n",
       "1    9\n",
       "2    6\n",
       "3    0\n",
       "4    3\n",
       "Name: label, dtype: int64"
      ]
     },
     "execution_count": 19,
     "metadata": {},
     "output_type": "execute_result"
    }
   ],
   "source": [
    "data = data_raw.iloc[:1000, 1:] ## input = 2nd column onward\n",
    "data = data / 255.0 ## convert [0, 255] to [0, 1]\n",
    "label = data_raw['label'].iloc[:1000] ## label = 1st column\n",
    "\n",
    "print('data dimension:', data.shape)\n",
    "\n",
    "label.head()"
   ]
  },
  {
   "cell_type": "markdown",
   "id": "described-hospital",
   "metadata": {},
   "source": [
    "## First, let's look at how classical ML models handle multiple classes"
   ]
  },
  {
   "cell_type": "code",
   "execution_count": 7,
   "id": "juvenile-sierra",
   "metadata": {},
   "outputs": [],
   "source": [
    "from sklearn.model_selection import train_test_split\n",
    "\n",
    "from sklearn.linear_model import LogisticRegression\n",
    "from sklearn.ensemble import RandomForestClassifier\n",
    "from sklearn.neural_network import MLPClassifier\n",
    "\n",
    "from sklearn.metrics import accuracy_score, confusion_matrix"
   ]
  },
  {
   "cell_type": "markdown",
   "id": "legal-realtor",
   "metadata": {},
   "source": [
    "## Split data into 80-20 train-test"
   ]
  },
  {
   "cell_type": "code",
   "execution_count": 20,
   "id": "incoming-delight",
   "metadata": {},
   "outputs": [],
   "source": [
    "X_train, X_test, y_train, y_test = train_test_split(data, label, test_size = 0.2, stratify = label, \\\n",
    "                                                    shuffle = True, random_state = 3011979)"
   ]
  },
  {
   "cell_type": "markdown",
   "id": "productive-single",
   "metadata": {},
   "source": [
    "## Use default models to fit the training data"
   ]
  },
  {
   "cell_type": "code",
   "execution_count": 22,
   "id": "stylish-newsletter",
   "metadata": {},
   "outputs": [
    {
     "data": {
      "text/plain": [
       "MLPClassifier(max_iter=10000, random_state=3011979)"
      ]
     },
     "execution_count": 22,
     "metadata": {},
     "output_type": "execute_result"
    }
   ],
   "source": [
    "lr_model = LogisticRegression(max_iter = 10000, random_state = 3011979)\n",
    "rf_model = RandomForestClassifier(random_state = 3011979)\n",
    "mlp_model = MLPClassifier(max_iter = 10000, random_state = 3011979)\n",
    "\n",
    "lr_model.fit(X_train, y_train)\n",
    "rf_model.fit(X_train, y_train)\n",
    "mlp_model.fit(X_train, y_train)"
   ]
  },
  {
   "cell_type": "markdown",
   "id": "extraordinary-proof",
   "metadata": {},
   "source": [
    "## Let's look at the outputs\n",
    "### First, the class labels seen by the model"
   ]
  },
  {
   "cell_type": "code",
   "execution_count": 27,
   "id": "demographic-barrel",
   "metadata": {},
   "outputs": [
    {
     "name": "stdout",
     "output_type": "stream",
     "text": [
      "Logistic Regression class labels: [0 1 2 3 4 5 6 7 8 9]\n",
      "Random Forest class labels: [0 1 2 3 4 5 6 7 8 9]\n",
      "MLP class labels: [0 1 2 3 4 5 6 7 8 9]\n"
     ]
    }
   ],
   "source": [
    "print('Logistic Regression class labels:', lr_model.classes_)\n",
    "print('Random Forest class labels:', rf_model.classes_)\n",
    "print('MLP class labels:', mlp_model.classes_)"
   ]
  },
  {
   "cell_type": "markdown",
   "id": "accessible-carrier",
   "metadata": {},
   "source": [
    "### Next, the prediction outputs"
   ]
  },
  {
   "cell_type": "code",
   "execution_count": 33,
   "id": "angry-mouth",
   "metadata": {},
   "outputs": [
    {
     "name": "stdout",
     "output_type": "stream",
     "text": [
      "input test data dimension: (200, 784)\n",
      "prediction output dimension: (200, 10)\n",
      "predictions:\n",
      " [[3.15901956e-02 1.19909349e-02 3.20200663e-01 ... 1.74958302e-02\n",
      "  2.05857877e-02 4.99499367e-03]\n",
      " [9.93115733e-03 1.35818114e-03 6.87123786e-01 ... 1.44330281e-03\n",
      "  4.14161185e-03 8.86683547e-04]\n",
      " [7.70752489e-05 1.77878685e-05 9.73211509e-01 ... 5.90884378e-08\n",
      "  8.80494637e-03 2.10908721e-03]\n",
      " ...\n",
      " [1.20222309e-03 1.03651906e-04 9.86887714e-01 ... 6.66103910e-09\n",
      "  4.95084733e-04 8.01956738e-05]\n",
      " [8.30846820e-05 2.21989572e-04 5.09720985e-01 ... 4.10189637e-07\n",
      "  2.63845254e-04 4.58964164e-05]\n",
      " [1.66409080e-07 2.14189289e-05 2.18711262e-05 ... 9.97829383e-01\n",
      "  4.50281438e-04 2.94399960e-05]]\n",
      "sums along class axis:\n",
      " [1. 1. 1. 1. 1. 1. 1. 1. 1. 1. 1. 1. 1. 1. 1. 1. 1. 1. 1. 1. 1. 1. 1. 1.\n",
      " 1. 1. 1. 1. 1. 1. 1. 1. 1. 1. 1. 1. 1. 1. 1. 1. 1. 1. 1. 1. 1. 1. 1. 1.\n",
      " 1. 1. 1. 1. 1. 1. 1. 1. 1. 1. 1. 1. 1. 1. 1. 1. 1. 1. 1. 1. 1. 1. 1. 1.\n",
      " 1. 1. 1. 1. 1. 1. 1. 1. 1. 1. 1. 1. 1. 1. 1. 1. 1. 1. 1. 1. 1. 1. 1. 1.\n",
      " 1. 1. 1. 1. 1. 1. 1. 1. 1. 1. 1. 1. 1. 1. 1. 1. 1. 1. 1. 1. 1. 1. 1. 1.\n",
      " 1. 1. 1. 1. 1. 1. 1. 1. 1. 1. 1. 1. 1. 1. 1. 1. 1. 1. 1. 1. 1. 1. 1. 1.\n",
      " 1. 1. 1. 1. 1. 1. 1. 1. 1. 1. 1. 1. 1. 1. 1. 1. 1. 1. 1. 1. 1. 1. 1. 1.\n",
      " 1. 1. 1. 1. 1. 1. 1. 1. 1. 1. 1. 1. 1. 1. 1. 1. 1. 1. 1. 1. 1. 1. 1. 1.\n",
      " 1. 1. 1. 1. 1. 1. 1. 1.]\n"
     ]
    }
   ],
   "source": [
    "lr_predict = lr_model.predict_proba(X_test)\n",
    "print('input test data dimension:', X_test.shape)\n",
    "print('prediction output dimension:', lr_predict.shape)\n",
    "print('predictions:\\n', lr_predict)\n",
    "print('sums along class axis:\\n', lr_predict.sum(axis = 1))"
   ]
  },
  {
   "cell_type": "code",
   "execution_count": 34,
   "id": "thousand-auditor",
   "metadata": {},
   "outputs": [
    {
     "name": "stdout",
     "output_type": "stream",
     "text": [
      "input test data dimension: (200, 784)\n",
      "prediction output dimension: (200, 10)\n",
      "predictions:\n",
      " [[0.01 0.01 0.51 ... 0.   0.04 0.  ]\n",
      " [0.11 0.04 0.22 ... 0.01 0.07 0.  ]\n",
      " [0.05 0.   0.53 ... 0.   0.05 0.01]\n",
      " ...\n",
      " [0.01 0.01 0.74 ... 0.   0.   0.  ]\n",
      " [0.01 0.   0.4  ... 0.   0.   0.  ]\n",
      " [0.   0.   0.   ... 0.91 0.   0.01]]\n",
      "sums along class axis:\n",
      " [1. 1. 1. 1. 1. 1. 1. 1. 1. 1. 1. 1. 1. 1. 1. 1. 1. 1. 1. 1. 1. 1. 1. 1.\n",
      " 1. 1. 1. 1. 1. 1. 1. 1. 1. 1. 1. 1. 1. 1. 1. 1. 1. 1. 1. 1. 1. 1. 1. 1.\n",
      " 1. 1. 1. 1. 1. 1. 1. 1. 1. 1. 1. 1. 1. 1. 1. 1. 1. 1. 1. 1. 1. 1. 1. 1.\n",
      " 1. 1. 1. 1. 1. 1. 1. 1. 1. 1. 1. 1. 1. 1. 1. 1. 1. 1. 1. 1. 1. 1. 1. 1.\n",
      " 1. 1. 1. 1. 1. 1. 1. 1. 1. 1. 1. 1. 1. 1. 1. 1. 1. 1. 1. 1. 1. 1. 1. 1.\n",
      " 1. 1. 1. 1. 1. 1. 1. 1. 1. 1. 1. 1. 1. 1. 1. 1. 1. 1. 1. 1. 1. 1. 1. 1.\n",
      " 1. 1. 1. 1. 1. 1. 1. 1. 1. 1. 1. 1. 1. 1. 1. 1. 1. 1. 1. 1. 1. 1. 1. 1.\n",
      " 1. 1. 1. 1. 1. 1. 1. 1. 1. 1. 1. 1. 1. 1. 1. 1. 1. 1. 1. 1. 1. 1. 1. 1.\n",
      " 1. 1. 1. 1. 1. 1. 1. 1.]\n"
     ]
    }
   ],
   "source": [
    "rf_predict = rf_model.predict_proba(X_test)\n",
    "print('input test data dimension:', X_test.shape)\n",
    "print('prediction output dimension:', rf_predict.shape)\n",
    "print('predictions:\\n', rf_predict)\n",
    "print('sums along class axis:\\n', rf_predict.sum(axis = 1))"
   ]
  },
  {
   "cell_type": "code",
   "execution_count": 35,
   "id": "chicken-detector",
   "metadata": {},
   "outputs": [
    {
     "name": "stdout",
     "output_type": "stream",
     "text": [
      "input test data dimension: (200, 784)\n",
      "prediction output dimension: (200, 10)\n",
      "predictions:\n",
      " [[1.92229832e-03 9.55594494e-04 2.12665513e-01 ... 5.73223661e-04\n",
      "  2.22646732e-03 1.53398724e-04]\n",
      " [5.33823698e-04 5.03099417e-05 6.34444357e-01 ... 5.63300615e-05\n",
      "  9.10632346e-04 1.68721546e-06]\n",
      " [1.53312150e-09 1.04784663e-11 9.99645095e-01 ... 2.86858903e-11\n",
      "  2.66724963e-04 9.42380045e-09]\n",
      " ...\n",
      " [6.96188433e-07 1.97544690e-12 9.99994990e-01 ... 2.01401060e-14\n",
      "  2.66637271e-08 3.56749322e-14]\n",
      " [8.83874978e-08 1.04157390e-08 8.66301511e-01 ... 3.35192282e-09\n",
      "  1.08032807e-06 4.52225424e-10]\n",
      " [8.61812708e-14 6.71531831e-10 2.11595149e-09 ... 9.99994885e-01\n",
      "  5.97613081e-08 7.73507353e-10]]\n",
      "sums along class axis:\n",
      " [1. 1. 1. 1. 1. 1. 1. 1. 1. 1. 1. 1. 1. 1. 1. 1. 1. 1. 1. 1. 1. 1. 1. 1.\n",
      " 1. 1. 1. 1. 1. 1. 1. 1. 1. 1. 1. 1. 1. 1. 1. 1. 1. 1. 1. 1. 1. 1. 1. 1.\n",
      " 1. 1. 1. 1. 1. 1. 1. 1. 1. 1. 1. 1. 1. 1. 1. 1. 1. 1. 1. 1. 1. 1. 1. 1.\n",
      " 1. 1. 1. 1. 1. 1. 1. 1. 1. 1. 1. 1. 1. 1. 1. 1. 1. 1. 1. 1. 1. 1. 1. 1.\n",
      " 1. 1. 1. 1. 1. 1. 1. 1. 1. 1. 1. 1. 1. 1. 1. 1. 1. 1. 1. 1. 1. 1. 1. 1.\n",
      " 1. 1. 1. 1. 1. 1. 1. 1. 1. 1. 1. 1. 1. 1. 1. 1. 1. 1. 1. 1. 1. 1. 1. 1.\n",
      " 1. 1. 1. 1. 1. 1. 1. 1. 1. 1. 1. 1. 1. 1. 1. 1. 1. 1. 1. 1. 1. 1. 1. 1.\n",
      " 1. 1. 1. 1. 1. 1. 1. 1. 1. 1. 1. 1. 1. 1. 1. 1. 1. 1. 1. 1. 1. 1. 1. 1.\n",
      " 1. 1. 1. 1. 1. 1. 1. 1.]\n"
     ]
    }
   ],
   "source": [
    "mlp_predict = mlp_model.predict_proba(X_test)\n",
    "print('input test data dimension:', X_test.shape)\n",
    "print('prediction output dimension:', mlp_predict.shape)\n",
    "print('predictions:\\n', mlp_predict)\n",
    "print('sums along class axis:\\n', mlp_predict.sum(axis = 1))"
   ]
  },
  {
   "cell_type": "markdown",
   "id": "specific-honolulu",
   "metadata": {},
   "source": [
    "### Confusion matrix\n",
    "* Output dimension is N x L where N = number of samples and L = number of class labels\n",
    "* We use **np.argmax(, axis = 1)** to find the predicted class label as the class with highest probability"
   ]
  },
  {
   "cell_type": "code",
   "execution_count": 50,
   "id": "consolidated-organizer",
   "metadata": {},
   "outputs": [
    {
     "name": "stdout",
     "output_type": "stream",
     "text": [
      "Logistic Regression confusion matrix:\n",
      " [[17  0  0  2  0  0  3  0  0  0]\n",
      " [ 0 16  0  0  1  0  1  0  0  0]\n",
      " [ 1  0 12  2  3  0  2  0  0  0]\n",
      " [ 0  0  0 17  3  0  2  0  0  0]\n",
      " [ 0  0  5  1 15  0  2  0  0  0]\n",
      " [ 1  0  0  0  0  9  0  7  0  0]\n",
      " [ 1  0  4  1  4  0 11  0  0  0]\n",
      " [ 0  0  0  0  0  1  0 17  0  2]\n",
      " [ 0  0  0  0  1  0  0  0 18  0]\n",
      " [ 0  0  1  0  0  1  0  1  0 15]]\n",
      "Random Forest confusion matrix:\n",
      " [[19  0  0  0  0  0  3  0  0  0]\n",
      " [ 0 16  1  1  0  0  0  0  0  0]\n",
      " [ 1  0 16  1  2  0  0  0  0  0]\n",
      " [ 0  0  0 20  1  0  1  0  0  0]\n",
      " [ 0  0  6  2 14  1  0  0  0  0]\n",
      " [ 0  0  0  0  0 13  0  4  0  0]\n",
      " [ 2  0  4  3  2  0 10  0  0  0]\n",
      " [ 0  0  0  0  0  1  0 17  0  2]\n",
      " [ 0  0  1  0  0  0  0  0 18  0]\n",
      " [ 0  0  0  0  0  0  1  3  0 14]]\n",
      "MLP confusion matrix:\n",
      " [[19  0  0  0  0  0  3  0  0  0]\n",
      " [ 0 16  0  0  1  0  1  0  0  0]\n",
      " [ 0  1 13  1  3  0  2  0  0  0]\n",
      " [ 0  0  0 17  3  0  2  0  0  0]\n",
      " [ 0  0  3  1 16  0  3  0  0  0]\n",
      " [ 1  0  0  0  0  9  0  7  0  0]\n",
      " [ 1  0  3  0  6  0 11  0  0  0]\n",
      " [ 0  0  0  0  0  1  0 17  0  2]\n",
      " [ 0  0  0  0  1  0  0  0 18  0]\n",
      " [ 1  0  0  0  0  2  0  1  0 14]]\n"
     ]
    }
   ],
   "source": [
    "print('Logistic Regression confusion matrix:\\n', confusion_matrix(y_test, np.argmax(lr_predict, axis = 1)))\n",
    "print('Random Forest confusion matrix:\\n', confusion_matrix(y_test, np.argmax(rf_predict, axis = 1)))\n",
    "print('MLP confusion matrix:\\n', confusion_matrix(y_test, np.argmax(mlp_predict, axis = 1)))"
   ]
  },
  {
   "cell_type": "markdown",
   "id": "laden-valley",
   "metadata": {},
   "source": [
    "## To monitor performance across mutliple classes, we can use a scikit-learn built-in report\n",
    "Import **classification_report()** from **sklearn.metrics**\n",
    "\n",
    "**classification_report()** takes 3 key inputs:\n",
    "1. True label\n",
    "2. Predicted label\n",
    "3. Name for each label\n",
    "\n",
    "### Define name for each class in [Fashion MNIST](https://www.bualabs.com/archives/3398/what-is-fashion-mnist-dataset/)"
   ]
  },
  {
   "cell_type": "code",
   "execution_count": 54,
   "id": "grand-yugoslavia",
   "metadata": {},
   "outputs": [],
   "source": [
    "class_name = {0:'T-shirt/top', 1:'Trouser', 2:'Pullover', 3:'Dress', 4:'Coat', 5:'Sandal', 6:'Shirt', \\\n",
    "              7:'Sneaker', 8:'Bag', 9:'Ankle boot'}"
   ]
  },
  {
   "cell_type": "code",
   "execution_count": 55,
   "id": "afraid-england",
   "metadata": {},
   "outputs": [
    {
     "name": "stdout",
     "output_type": "stream",
     "text": [
      "              precision    recall  f1-score   support\n",
      "\n",
      " T-shirt/top       0.85      0.77      0.81        22\n",
      "     Trouser       1.00      0.89      0.94        18\n",
      "    Pullover       0.55      0.60      0.57        20\n",
      "       Dress       0.74      0.77      0.76        22\n",
      "        Coat       0.56      0.65      0.60        23\n",
      "      Sandal       0.82      0.53      0.64        17\n",
      "       Shirt       0.52      0.52      0.52        21\n",
      "     Sneaker       0.68      0.85      0.76        20\n",
      "         Bag       1.00      0.95      0.97        19\n",
      "  Ankle boot       0.88      0.83      0.86        18\n",
      "\n",
      "    accuracy                           0.73       200\n",
      "   macro avg       0.76      0.74      0.74       200\n",
      "weighted avg       0.75      0.73      0.74       200\n",
      "\n"
     ]
    }
   ],
   "source": [
    "from sklearn.metrics import classification_report\n",
    "\n",
    "print(classification_report(y_test, np.argmax(lr_predict, axis = 1), \\\n",
    "                            target_names = [class_name[x] for x in lr_model.classes_]))"
   ]
  },
  {
   "cell_type": "markdown",
   "id": "herbal-heath",
   "metadata": {},
   "source": [
    "## Model coefficients (for Logistic Regression and MLP)\n",
    "* Logistic Regression generates **one coefficient set per label**\n",
    "* MLP **outputs multiple classes** within a single model\n",
    "  * Output layer size = number of class labels\n",
    "  * The connection from hidden layer (size = 100) to output layer (size = number of class labels) acts like multiple Logistic Regression"
   ]
  },
  {
   "cell_type": "code",
   "execution_count": 45,
   "id": "informed-batman",
   "metadata": {},
   "outputs": [
    {
     "name": "stdout",
     "output_type": "stream",
     "text": [
      "Logisit Regression coefficient counts: (10, 784)\n",
      "MLP coefficient counts:\n",
      "  Layer 0: (784, 100)\n",
      "  Layer 1: (100, 10)\n"
     ]
    }
   ],
   "source": [
    "print('Logistic Regression coefficient counts:', lr_model.coef_.shape)\n",
    "print('MLP coefficient counts:')\n",
    "\n",
    "for i in range(len(mlp_model.coefs_)):\n",
    "    print('  Layer ' + str(i) + ':', mlp_model.coefs_[i].shape)"
   ]
  },
  {
   "cell_type": "markdown",
   "id": "separate-partner",
   "metadata": {},
   "source": [
    "### To normalize output from all neuron in the output layers to sum to 1, we use [Softmax activation](https://en.wikipedia.org/wiki/Softmax_function) which converts $\\left(y_1, y_2, \\dots, y_m\\right)$ to $\\left(\\frac{e^{y_1}}{K}, \\frac{e^{y_2}}{K}, \\dots, \\frac{e^{y_m}}{K}\\right)$, where $K = \\sum_{i=1}^m e^{y_i}$\n",
    "Basically, we train the neural network model to predict values that are similar to log probabilities"
   ]
  },
  {
   "cell_type": "markdown",
   "id": "grand-manufacturer",
   "metadata": {},
   "source": [
    "## So far, we achieve ok performance on by considering each pixel as a separated input\n",
    "But some classes still have 50-60% precision and recall. **Can we do better with CNN on input image?**\n",
    "\n",
    "## Let's use TensorFlow/Keras to implement AlexNet"
   ]
  },
  {
   "cell_type": "code",
   "execution_count": 124,
   "id": "cosmetic-memory",
   "metadata": {},
   "outputs": [],
   "source": [
    "from tensorflow.keras.models import Sequential\n",
    "from tensorflow.keras.layers import Dense, InputLayer, Conv2D, MaxPool2D, Activation, Flatten\n",
    "from tensorflow.keras.optimizers import Adam\n",
    "from tensorflow.keras.callbacks import ModelCheckpoint\n",
    "\n",
    "import tensorflow as tf"
   ]
  },
  {
   "cell_type": "markdown",
   "id": "reflected-civilization",
   "metadata": {},
   "source": [
    "## Original AlexNet consists of the following layers\n",
    "**First convolutional block**\n",
    "1. **Conv2D** with 96 filters of size 11x11, stride of 4x4, and valid padding\n",
    "2. **Activation** with ReLu\n",
    "\n",
    "**Second convolutional block**\n",
    "\n",
    "3. **Conv2D** with 256 filters of size 5x5, stride of 1x1, and valid padding\n",
    "4. **Activation** with ReLu\n",
    "5. **MaxPool2D** with pool size of 3x3 and stride of 2x2\n",
    "\n",
    "**Third convolutional block**\n",
    "\n",
    "6. **Conv2D** with 384 filters of size 3x3, stride of 1x1, and valid padding\n",
    "7. **Activation** with ReLu\n",
    "8. **MaxPool2D** with pool size of 3x3 and stride of 2x2\n",
    "\n",
    "**Fourth convolutional block**\n",
    "\n",
    "9. **Conv2D** with 384 filters of size 3x3, stride of 1x1, and same padding\n",
    "10. **Activation** with ReLu\n",
    "\n",
    "**Fifth convolutional block**\n",
    "\n",
    "11. **Conv2D** with 256 filters of size 3x3, stride of 1x1, and same padding\n",
    "12. **Activation** with ReLu\n",
    "13. **MaxPool2D** with pool size of 3x3 and stride of 2x2\n",
    "\n",
    "**Feed into fully connected layers**\n",
    "\n",
    "14. **Flatten**\n",
    "15. **Dense** with 4096 hidden neurons\n",
    "16. **Dense** with 4096 hidden neurons\n",
    "17. **Dense** with 1000 output neurons"
   ]
  },
  {
   "cell_type": "markdown",
   "id": "excessive-briefs",
   "metadata": {},
   "source": [
    "## Let's put together the model\n",
    "### Note that the original AlexNet was designed for input dimension of 224x224 while our images are 28x28\n",
    "### We will make some adjustments to reduce the model accordingly"
   ]
  },
  {
   "cell_type": "code",
   "execution_count": 122,
   "id": "authentic-taste",
   "metadata": {
    "scrolled": false
   },
   "outputs": [],
   "source": [
    "def gen_alexnet():\n",
    "    model = Sequential()\n",
    "    model.add(InputLayer(input_shape = [28, 28, 1]))\n",
    "\n",
    "    model.add(Conv2D(filters = 64, kernel_size = [5, 5], padding = 'valid', strides = [2, 2]))\n",
    "    model.add(Activation(activation = 'relu'))\n",
    "\n",
    "    model.add(Conv2D(filters = 128, kernel_size = [3, 3], padding = 'valid', strides = [1, 1]))\n",
    "    model.add(Activation(activation = 'relu'))\n",
    "    model.add(MaxPool2D(pool_size = [3, 3], strides = [2, 2]))\n",
    "    \n",
    "    model.add(Conv2D(filters = 256, kernel_size = [3, 3], padding = 'same', strides = [1, 1]))\n",
    "    model.add(Activation(activation = 'relu'))\n",
    "    model.add(MaxPool2D(pool_size = [3, 3], strides = [2, 2]))\n",
    "\n",
    "    model.add(Flatten())\n",
    "\n",
    "    model.add(Dense(units = 1024, activation = 'relu'))\n",
    "    model.add(Dense(units = 512, activation = 'relu'))\n",
    "    model.add(Dense(units = 10, activation = 'softmax')) ## use Softmax activation for output 10 classes\n",
    "\n",
    "    model.compile(loss = 'categorical_crossentropy', optimizer = Adam(learning_rate = 0.0001), \\\n",
    "                        metrics = ['accuracy'])\n",
    "    \n",
    "    return model"
   ]
  },
  {
   "cell_type": "code",
   "execution_count": 123,
   "id": "complimentary-sensitivity",
   "metadata": {},
   "outputs": [
    {
     "name": "stdout",
     "output_type": "stream",
     "text": [
      "Model: \"sequential_15\"\n",
      "_________________________________________________________________\n",
      "Layer (type)                 Output Shape              Param #   \n",
      "=================================================================\n",
      "conv2d_32 (Conv2D)           (None, 12, 12, 64)        1664      \n",
      "_________________________________________________________________\n",
      "activation_31 (Activation)   (None, 12, 12, 64)        0         \n",
      "_________________________________________________________________\n",
      "conv2d_33 (Conv2D)           (None, 10, 10, 128)       73856     \n",
      "_________________________________________________________________\n",
      "activation_32 (Activation)   (None, 10, 10, 128)       0         \n",
      "_________________________________________________________________\n",
      "max_pooling2d_20 (MaxPooling (None, 4, 4, 128)         0         \n",
      "_________________________________________________________________\n",
      "conv2d_34 (Conv2D)           (None, 4, 4, 256)         295168    \n",
      "_________________________________________________________________\n",
      "activation_33 (Activation)   (None, 4, 4, 256)         0         \n",
      "_________________________________________________________________\n",
      "max_pooling2d_21 (MaxPooling (None, 1, 1, 256)         0         \n",
      "_________________________________________________________________\n",
      "flatten_6 (Flatten)          (None, 256)               0         \n",
      "_________________________________________________________________\n",
      "dense_18 (Dense)             (None, 1024)              263168    \n",
      "_________________________________________________________________\n",
      "dense_19 (Dense)             (None, 512)               524800    \n",
      "_________________________________________________________________\n",
      "dense_20 (Dense)             (None, 10)                5130      \n",
      "=================================================================\n",
      "Total params: 1,163,786\n",
      "Trainable params: 1,163,786\n",
      "Non-trainable params: 0\n",
      "_________________________________________________________________\n"
     ]
    }
   ],
   "source": [
    "our_alexnet = gen_alexnet()\n",
    "our_alexnet.summary()"
   ]
  },
  {
   "cell_type": "markdown",
   "id": "educated-logistics",
   "metadata": {},
   "source": [
    "## Use the full dataset here"
   ]
  },
  {
   "cell_type": "code",
   "execution_count": 72,
   "id": "brutal-authorization",
   "metadata": {},
   "outputs": [
    {
     "name": "stdout",
     "output_type": "stream",
     "text": [
      "data dimension: (60000, 784)\n"
     ]
    },
    {
     "data": {
      "text/plain": [
       "0    2\n",
       "1    9\n",
       "2    6\n",
       "3    0\n",
       "4    3\n",
       "Name: label, dtype: int64"
      ]
     },
     "execution_count": 72,
     "metadata": {},
     "output_type": "execute_result"
    }
   ],
   "source": [
    "data = data_raw.iloc[:, 1:] ## input = 2nd column onward\n",
    "data = data / 255.0 ## convert [0, 255] to [0, 1]\n",
    "label = data_raw['label'] ## label = 1st column\n",
    "\n",
    "print('data dimension:', data.shape)\n",
    "label.head()"
   ]
  },
  {
   "cell_type": "markdown",
   "id": "thorough-baltimore",
   "metadata": {},
   "source": [
    "## We need to preprocess input and label data dimension for TensorFlow/Keras\n",
    "### For input, the data dimension will be converted from 60,000 x 784 to 60,000 x 28 x 28 x 1\n",
    "Convolutional layer expect 3D input for 2D image with an extra dimension for **channel**"
   ]
  },
  {
   "cell_type": "code",
   "execution_count": 97,
   "id": "japanese-daisy",
   "metadata": {},
   "outputs": [
    {
     "name": "stdout",
     "output_type": "stream",
     "text": [
      "shape of new input data: (60000, 28, 28, 1)\n"
     ]
    }
   ],
   "source": [
    "reshaped_data = []\n",
    "\n",
    "for i in range(data.shape[0]):\n",
    "    reshaped_data.append(np.reshape(data.iloc[i, :].to_numpy(), (28, 28, 1)))\n",
    "\n",
    "reshaped_data = np.array(reshaped_data)\n",
    "print('shape of new input data:', reshaped_data.shape)"
   ]
  },
  {
   "cell_type": "markdown",
   "id": "aerial-aspect",
   "metadata": {},
   "source": [
    "### For label, the model expect a one-hot encoding style"
   ]
  },
  {
   "cell_type": "code",
   "execution_count": 98,
   "id": "particular-arthur",
   "metadata": {},
   "outputs": [
    {
     "name": "stdout",
     "output_type": "stream",
     "text": [
      "shape of new label data: (60000, 10)\n"
     ]
    }
   ],
   "source": [
    "reshaped_label = pd.get_dummies(label).to_numpy()\n",
    "print('shape of new label data:', reshaped_label.shape)"
   ]
  },
  {
   "cell_type": "markdown",
   "id": "hearing-musician",
   "metadata": {},
   "source": [
    "## Split data into 60-20-20 train-validation-test sets"
   ]
  },
  {
   "cell_type": "code",
   "execution_count": 101,
   "id": "marine-positive",
   "metadata": {},
   "outputs": [],
   "source": [
    "X_train, X_test, y_train, y_test = train_test_split(reshaped_data, reshaped_label, test_size = 0.2, stratify = label, \\\n",
    "                                                    shuffle = True, random_state = 3011979)\n",
    "X_train, X_val, y_train, y_val = train_test_split(X_train, y_train, test_size = 0.2, stratify = y_train, \\\n",
    "                                                  shuffle = True, random_state = 3011979)"
   ]
  },
  {
   "cell_type": "code",
   "execution_count": 106,
   "id": "breeding-timothy",
   "metadata": {},
   "outputs": [
    {
     "name": "stdout",
     "output_type": "stream",
     "text": [
      "(9600, 28, 28, 1)\n",
      "(9600, 10)\n"
     ]
    }
   ],
   "source": [
    "print(X_val.shape)\n",
    "print(y_val.shape)"
   ]
  },
  {
   "cell_type": "markdown",
   "id": "private-bangladesh",
   "metadata": {},
   "source": [
    "## Let's do a simple training with only ModelCheckpoint"
   ]
  },
  {
   "cell_type": "code",
   "execution_count": 128,
   "id": "better-riding",
   "metadata": {},
   "outputs": [],
   "source": [
    "our_alexnet = tf.keras.models.load_model('./fashion_mnist_l11/model.ckpt')"
   ]
  },
  {
   "cell_type": "code",
   "execution_count": 127,
   "id": "serial-finder",
   "metadata": {
    "scrolled": true
   },
   "outputs": [
    {
     "name": "stdout",
     "output_type": "stream",
     "text": [
      "Epoch 1/100\n",
      "300/300 [==============================] - 18s 58ms/step - loss: 0.3339 - accuracy: 0.8782 - val_loss: 0.3514 - val_accuracy: 0.8732\n",
      "INFO:tensorflow:Assets written to: ./fashion_mnist_l11\\model.ckpt\\assets\n",
      "Epoch 2/100\n",
      "300/300 [==============================] - 18s 60ms/step - loss: 0.3233 - accuracy: 0.8821 - val_loss: 0.3529 - val_accuracy: 0.8698\n",
      "INFO:tensorflow:Assets written to: ./fashion_mnist_l11\\model.ckpt\\assets\n",
      "Epoch 3/100\n",
      "300/300 [==============================] - 18s 61ms/step - loss: 0.3135 - accuracy: 0.8856 - val_loss: 0.3349 - val_accuracy: 0.8805\n",
      "INFO:tensorflow:Assets written to: ./fashion_mnist_l11\\model.ckpt\\assets\n",
      "Epoch 4/100\n",
      "300/300 [==============================] - 17s 58ms/step - loss: 0.3040 - accuracy: 0.8892 - val_loss: 0.3431 - val_accuracy: 0.8724\n",
      "INFO:tensorflow:Assets written to: ./fashion_mnist_l11\\model.ckpt\\assets\n",
      "Epoch 5/100\n",
      "300/300 [==============================] - 18s 59ms/step - loss: 0.2945 - accuracy: 0.8915 - val_loss: 0.3256 - val_accuracy: 0.8833\n",
      "INFO:tensorflow:Assets written to: ./fashion_mnist_l11\\model.ckpt\\assets\n",
      "Epoch 6/100\n",
      "300/300 [==============================] - 18s 59ms/step - loss: 0.2838 - accuracy: 0.8970 - val_loss: 0.3304 - val_accuracy: 0.8835\n",
      "INFO:tensorflow:Assets written to: ./fashion_mnist_l11\\model.ckpt\\assets\n",
      "Epoch 7/100\n",
      "300/300 [==============================] - 18s 59ms/step - loss: 0.2757 - accuracy: 0.8984 - val_loss: 0.3160 - val_accuracy: 0.8859\n",
      "INFO:tensorflow:Assets written to: ./fashion_mnist_l11\\model.ckpt\\assets\n",
      "Epoch 8/100\n",
      "300/300 [==============================] - 18s 60ms/step - loss: 0.2669 - accuracy: 0.9033 - val_loss: 0.3298 - val_accuracy: 0.8814\n",
      "INFO:tensorflow:Assets written to: ./fashion_mnist_l11\\model.ckpt\\assets\n",
      "Epoch 9/100\n",
      "300/300 [==============================] - 18s 61ms/step - loss: 0.2612 - accuracy: 0.9046 - val_loss: 0.3264 - val_accuracy: 0.8801\n",
      "INFO:tensorflow:Assets written to: ./fashion_mnist_l11\\model.ckpt\\assets\n",
      "Epoch 10/100\n",
      "300/300 [==============================] - 18s 59ms/step - loss: 0.2504 - accuracy: 0.9094 - val_loss: 0.3056 - val_accuracy: 0.8904\n",
      "INFO:tensorflow:Assets written to: ./fashion_mnist_l11\\model.ckpt\\assets\n",
      "Epoch 11/100\n",
      "300/300 [==============================] - 17s 57ms/step - loss: 0.2428 - accuracy: 0.9124 - val_loss: 0.3120 - val_accuracy: 0.8890\n",
      "INFO:tensorflow:Assets written to: ./fashion_mnist_l11\\model.ckpt\\assets\n",
      "Epoch 12/100\n",
      "300/300 [==============================] - 18s 60ms/step - loss: 0.2303 - accuracy: 0.9162 - val_loss: 0.2994 - val_accuracy: 0.8935\n",
      "INFO:tensorflow:Assets written to: ./fashion_mnist_l11\\model.ckpt\\assets\n",
      "Epoch 13/100\n",
      "300/300 [==============================] - 17s 57ms/step - loss: 0.2221 - accuracy: 0.9182 - val_loss: 0.3006 - val_accuracy: 0.8951\n",
      "INFO:tensorflow:Assets written to: ./fashion_mnist_l11\\model.ckpt\\assets\n",
      "Epoch 14/100\n",
      "300/300 [==============================] - 17s 58ms/step - loss: 0.2145 - accuracy: 0.9211 - val_loss: 0.2921 - val_accuracy: 0.8990\n",
      "INFO:tensorflow:Assets written to: ./fashion_mnist_l11\\model.ckpt\\assets\n",
      "Epoch 15/100\n",
      "300/300 [==============================] - 18s 59ms/step - loss: 0.2034 - accuracy: 0.9263 - val_loss: 0.2893 - val_accuracy: 0.8990\n",
      "INFO:tensorflow:Assets written to: ./fashion_mnist_l11\\model.ckpt\\assets\n",
      "Epoch 16/100\n",
      "300/300 [==============================] - 18s 61ms/step - loss: 0.2004 - accuracy: 0.9258 - val_loss: 0.3220 - val_accuracy: 0.8863\n",
      "INFO:tensorflow:Assets written to: ./fashion_mnist_l11\\model.ckpt\\assets\n",
      "Epoch 17/100\n",
      "300/300 [==============================] - 18s 58ms/step - loss: 0.1914 - accuracy: 0.9304 - val_loss: 0.2931 - val_accuracy: 0.8993\n",
      "INFO:tensorflow:Assets written to: ./fashion_mnist_l11\\model.ckpt\\assets\n",
      "Epoch 18/100\n",
      "300/300 [==============================] - 19s 63ms/step - loss: 0.1873 - accuracy: 0.9314 - val_loss: 0.2948 - val_accuracy: 0.8981\n",
      "INFO:tensorflow:Assets written to: ./fashion_mnist_l11\\model.ckpt\\assets\n",
      "Epoch 19/100\n",
      "300/300 [==============================] - 18s 59ms/step - loss: 0.1780 - accuracy: 0.9353 - val_loss: 0.3016 - val_accuracy: 0.8952\n",
      "INFO:tensorflow:Assets written to: ./fashion_mnist_l11\\model.ckpt\\assets\n",
      "Epoch 20/100\n",
      "300/300 [==============================] - 18s 58ms/step - loss: 0.1681 - accuracy: 0.9392 - val_loss: 0.3184 - val_accuracy: 0.8942\n",
      "INFO:tensorflow:Assets written to: ./fashion_mnist_l11\\model.ckpt\\assets\n",
      "Epoch 21/100\n",
      "300/300 [==============================] - 18s 59ms/step - loss: 0.1654 - accuracy: 0.9396 - val_loss: 0.2964 - val_accuracy: 0.8974\n",
      "INFO:tensorflow:Assets written to: ./fashion_mnist_l11\\model.ckpt\\assets\n",
      "Epoch 22/100\n",
      "300/300 [==============================] - 18s 61ms/step - loss: 0.1562 - accuracy: 0.9432 - val_loss: 0.2957 - val_accuracy: 0.8995\n",
      "INFO:tensorflow:Assets written to: ./fashion_mnist_l11\\model.ckpt\\assets\n",
      "Epoch 23/100\n",
      "300/300 [==============================] - 18s 59ms/step - loss: 0.1490 - accuracy: 0.9464 - val_loss: 0.3255 - val_accuracy: 0.8890\n",
      "INFO:tensorflow:Assets written to: ./fashion_mnist_l11\\model.ckpt\\assets\n",
      "Epoch 24/100\n",
      "300/300 [==============================] - 18s 60ms/step - loss: 0.1464 - accuracy: 0.9464 - val_loss: 0.2936 - val_accuracy: 0.9011\n",
      "INFO:tensorflow:Assets written to: ./fashion_mnist_l11\\model.ckpt\\assets\n",
      "Epoch 25/100\n",
      "300/300 [==============================] - 17s 58ms/step - loss: 0.1372 - accuracy: 0.9501 - val_loss: 0.3443 - val_accuracy: 0.8874\n",
      "INFO:tensorflow:Assets written to: ./fashion_mnist_l11\\model.ckpt\\assets\n",
      "Epoch 26/100\n",
      "300/300 [==============================] - 17s 58ms/step - loss: 0.1295 - accuracy: 0.9538 - val_loss: 0.3097 - val_accuracy: 0.8990\n",
      "INFO:tensorflow:Assets written to: ./fashion_mnist_l11\\model.ckpt\\assets\n",
      "Epoch 27/100\n",
      "124/300 [===========>..................] - ETA: 9s - loss: 0.1273 - accuracy: 0.9539"
     ]
    },
    {
     "ename": "KeyboardInterrupt",
     "evalue": "",
     "output_type": "error",
     "traceback": [
      "\u001b[1;31m---------------------------------------------------------------------------\u001b[0m",
      "\u001b[1;31mKeyboardInterrupt\u001b[0m                         Traceback (most recent call last)",
      "\u001b[1;32m<ipython-input-127-cffddba864bf>\u001b[0m in \u001b[0;36m<module>\u001b[1;34m\u001b[0m\n\u001b[0;32m      1\u001b[0m \u001b[0mtf\u001b[0m\u001b[1;33m.\u001b[0m\u001b[0mrandom\u001b[0m\u001b[1;33m.\u001b[0m\u001b[0mset_seed\u001b[0m\u001b[1;33m(\u001b[0m\u001b[1;36m3011979\u001b[0m\u001b[1;33m)\u001b[0m\u001b[1;33m\u001b[0m\u001b[1;33m\u001b[0m\u001b[0m\n\u001b[1;32m----> 2\u001b[1;33m history = our_alexnet.fit(X_train, y_train, batch_size = 128, epochs = 100, \\\n\u001b[0m\u001b[0;32m      3\u001b[0m                           \u001b[0mvalidation_data\u001b[0m \u001b[1;33m=\u001b[0m \u001b[1;33m(\u001b[0m\u001b[0mX_val\u001b[0m\u001b[1;33m,\u001b[0m \u001b[0my_val\u001b[0m\u001b[1;33m)\u001b[0m\u001b[1;33m,\u001b[0m \u001b[0mverbose\u001b[0m \u001b[1;33m=\u001b[0m \u001b[1;36m1\u001b[0m\u001b[1;33m,\u001b[0m\u001b[0;31m \u001b[0m\u001b[0;31m\\\u001b[0m\u001b[1;33m\u001b[0m\u001b[1;33m\u001b[0m\u001b[0m\n\u001b[0;32m      4\u001b[0m                           callbacks = [ModelCheckpoint('./fashion_mnist_l11/model.ckpt', verbose = 0)])\n",
      "\u001b[1;32mc:\\python38\\lib\\site-packages\\tensorflow\\python\\keras\\engine\\training.py\u001b[0m in \u001b[0;36mfit\u001b[1;34m(self, x, y, batch_size, epochs, verbose, callbacks, validation_split, validation_data, shuffle, class_weight, sample_weight, initial_epoch, steps_per_epoch, validation_steps, validation_batch_size, validation_freq, max_queue_size, workers, use_multiprocessing)\u001b[0m\n\u001b[0;32m   1098\u001b[0m                 _r=1):\n\u001b[0;32m   1099\u001b[0m               \u001b[0mcallbacks\u001b[0m\u001b[1;33m.\u001b[0m\u001b[0mon_train_batch_begin\u001b[0m\u001b[1;33m(\u001b[0m\u001b[0mstep\u001b[0m\u001b[1;33m)\u001b[0m\u001b[1;33m\u001b[0m\u001b[1;33m\u001b[0m\u001b[0m\n\u001b[1;32m-> 1100\u001b[1;33m               \u001b[0mtmp_logs\u001b[0m \u001b[1;33m=\u001b[0m \u001b[0mself\u001b[0m\u001b[1;33m.\u001b[0m\u001b[0mtrain_function\u001b[0m\u001b[1;33m(\u001b[0m\u001b[0miterator\u001b[0m\u001b[1;33m)\u001b[0m\u001b[1;33m\u001b[0m\u001b[1;33m\u001b[0m\u001b[0m\n\u001b[0m\u001b[0;32m   1101\u001b[0m               \u001b[1;32mif\u001b[0m \u001b[0mdata_handler\u001b[0m\u001b[1;33m.\u001b[0m\u001b[0mshould_sync\u001b[0m\u001b[1;33m:\u001b[0m\u001b[1;33m\u001b[0m\u001b[1;33m\u001b[0m\u001b[0m\n\u001b[0;32m   1102\u001b[0m                 \u001b[0mcontext\u001b[0m\u001b[1;33m.\u001b[0m\u001b[0masync_wait\u001b[0m\u001b[1;33m(\u001b[0m\u001b[1;33m)\u001b[0m\u001b[1;33m\u001b[0m\u001b[1;33m\u001b[0m\u001b[0m\n",
      "\u001b[1;32mc:\\python38\\lib\\site-packages\\tensorflow\\python\\eager\\def_function.py\u001b[0m in \u001b[0;36m__call__\u001b[1;34m(self, *args, **kwds)\u001b[0m\n\u001b[0;32m    826\u001b[0m     \u001b[0mtracing_count\u001b[0m \u001b[1;33m=\u001b[0m \u001b[0mself\u001b[0m\u001b[1;33m.\u001b[0m\u001b[0mexperimental_get_tracing_count\u001b[0m\u001b[1;33m(\u001b[0m\u001b[1;33m)\u001b[0m\u001b[1;33m\u001b[0m\u001b[1;33m\u001b[0m\u001b[0m\n\u001b[0;32m    827\u001b[0m     \u001b[1;32mwith\u001b[0m \u001b[0mtrace\u001b[0m\u001b[1;33m.\u001b[0m\u001b[0mTrace\u001b[0m\u001b[1;33m(\u001b[0m\u001b[0mself\u001b[0m\u001b[1;33m.\u001b[0m\u001b[0m_name\u001b[0m\u001b[1;33m)\u001b[0m \u001b[1;32mas\u001b[0m \u001b[0mtm\u001b[0m\u001b[1;33m:\u001b[0m\u001b[1;33m\u001b[0m\u001b[1;33m\u001b[0m\u001b[0m\n\u001b[1;32m--> 828\u001b[1;33m       \u001b[0mresult\u001b[0m \u001b[1;33m=\u001b[0m \u001b[0mself\u001b[0m\u001b[1;33m.\u001b[0m\u001b[0m_call\u001b[0m\u001b[1;33m(\u001b[0m\u001b[1;33m*\u001b[0m\u001b[0margs\u001b[0m\u001b[1;33m,\u001b[0m \u001b[1;33m**\u001b[0m\u001b[0mkwds\u001b[0m\u001b[1;33m)\u001b[0m\u001b[1;33m\u001b[0m\u001b[1;33m\u001b[0m\u001b[0m\n\u001b[0m\u001b[0;32m    829\u001b[0m       \u001b[0mcompiler\u001b[0m \u001b[1;33m=\u001b[0m \u001b[1;34m\"xla\"\u001b[0m \u001b[1;32mif\u001b[0m \u001b[0mself\u001b[0m\u001b[1;33m.\u001b[0m\u001b[0m_experimental_compile\u001b[0m \u001b[1;32melse\u001b[0m \u001b[1;34m\"nonXla\"\u001b[0m\u001b[1;33m\u001b[0m\u001b[1;33m\u001b[0m\u001b[0m\n\u001b[0;32m    830\u001b[0m       \u001b[0mnew_tracing_count\u001b[0m \u001b[1;33m=\u001b[0m \u001b[0mself\u001b[0m\u001b[1;33m.\u001b[0m\u001b[0mexperimental_get_tracing_count\u001b[0m\u001b[1;33m(\u001b[0m\u001b[1;33m)\u001b[0m\u001b[1;33m\u001b[0m\u001b[1;33m\u001b[0m\u001b[0m\n",
      "\u001b[1;32mc:\\python38\\lib\\site-packages\\tensorflow\\python\\eager\\def_function.py\u001b[0m in \u001b[0;36m_call\u001b[1;34m(self, *args, **kwds)\u001b[0m\n\u001b[0;32m    853\u001b[0m       \u001b[1;31m# In this case we have created variables on the first call, so we run the\u001b[0m\u001b[1;33m\u001b[0m\u001b[1;33m\u001b[0m\u001b[1;33m\u001b[0m\u001b[0m\n\u001b[0;32m    854\u001b[0m       \u001b[1;31m# defunned version which is guaranteed to never create variables.\u001b[0m\u001b[1;33m\u001b[0m\u001b[1;33m\u001b[0m\u001b[1;33m\u001b[0m\u001b[0m\n\u001b[1;32m--> 855\u001b[1;33m       \u001b[1;32mreturn\u001b[0m \u001b[0mself\u001b[0m\u001b[1;33m.\u001b[0m\u001b[0m_stateless_fn\u001b[0m\u001b[1;33m(\u001b[0m\u001b[1;33m*\u001b[0m\u001b[0margs\u001b[0m\u001b[1;33m,\u001b[0m \u001b[1;33m**\u001b[0m\u001b[0mkwds\u001b[0m\u001b[1;33m)\u001b[0m  \u001b[1;31m# pylint: disable=not-callable\u001b[0m\u001b[1;33m\u001b[0m\u001b[1;33m\u001b[0m\u001b[0m\n\u001b[0m\u001b[0;32m    856\u001b[0m     \u001b[1;32melif\u001b[0m \u001b[0mself\u001b[0m\u001b[1;33m.\u001b[0m\u001b[0m_stateful_fn\u001b[0m \u001b[1;32mis\u001b[0m \u001b[1;32mnot\u001b[0m \u001b[1;32mNone\u001b[0m\u001b[1;33m:\u001b[0m\u001b[1;33m\u001b[0m\u001b[1;33m\u001b[0m\u001b[0m\n\u001b[0;32m    857\u001b[0m       \u001b[1;31m# Release the lock early so that multiple threads can perform the call\u001b[0m\u001b[1;33m\u001b[0m\u001b[1;33m\u001b[0m\u001b[1;33m\u001b[0m\u001b[0m\n",
      "\u001b[1;32mc:\\python38\\lib\\site-packages\\tensorflow\\python\\eager\\function.py\u001b[0m in \u001b[0;36m__call__\u001b[1;34m(self, *args, **kwargs)\u001b[0m\n\u001b[0;32m   2940\u001b[0m       (graph_function,\n\u001b[0;32m   2941\u001b[0m        filtered_flat_args) = self._maybe_define_function(args, kwargs)\n\u001b[1;32m-> 2942\u001b[1;33m     return graph_function._call_flat(\n\u001b[0m\u001b[0;32m   2943\u001b[0m         filtered_flat_args, captured_inputs=graph_function.captured_inputs)  # pylint: disable=protected-access\n\u001b[0;32m   2944\u001b[0m \u001b[1;33m\u001b[0m\u001b[0m\n",
      "\u001b[1;32mc:\\python38\\lib\\site-packages\\tensorflow\\python\\eager\\function.py\u001b[0m in \u001b[0;36m_call_flat\u001b[1;34m(self, args, captured_inputs, cancellation_manager)\u001b[0m\n\u001b[0;32m   1916\u001b[0m         and executing_eagerly):\n\u001b[0;32m   1917\u001b[0m       \u001b[1;31m# No tape is watching; skip to running the function.\u001b[0m\u001b[1;33m\u001b[0m\u001b[1;33m\u001b[0m\u001b[1;33m\u001b[0m\u001b[0m\n\u001b[1;32m-> 1918\u001b[1;33m       return self._build_call_outputs(self._inference_function.call(\n\u001b[0m\u001b[0;32m   1919\u001b[0m           ctx, args, cancellation_manager=cancellation_manager))\n\u001b[0;32m   1920\u001b[0m     forward_backward = self._select_forward_and_backward_functions(\n",
      "\u001b[1;32mc:\\python38\\lib\\site-packages\\tensorflow\\python\\eager\\function.py\u001b[0m in \u001b[0;36mcall\u001b[1;34m(self, ctx, args, cancellation_manager)\u001b[0m\n\u001b[0;32m    553\u001b[0m       \u001b[1;32mwith\u001b[0m \u001b[0m_InterpolateFunctionError\u001b[0m\u001b[1;33m(\u001b[0m\u001b[0mself\u001b[0m\u001b[1;33m)\u001b[0m\u001b[1;33m:\u001b[0m\u001b[1;33m\u001b[0m\u001b[1;33m\u001b[0m\u001b[0m\n\u001b[0;32m    554\u001b[0m         \u001b[1;32mif\u001b[0m \u001b[0mcancellation_manager\u001b[0m \u001b[1;32mis\u001b[0m \u001b[1;32mNone\u001b[0m\u001b[1;33m:\u001b[0m\u001b[1;33m\u001b[0m\u001b[1;33m\u001b[0m\u001b[0m\n\u001b[1;32m--> 555\u001b[1;33m           outputs = execute.execute(\n\u001b[0m\u001b[0;32m    556\u001b[0m               \u001b[0mstr\u001b[0m\u001b[1;33m(\u001b[0m\u001b[0mself\u001b[0m\u001b[1;33m.\u001b[0m\u001b[0msignature\u001b[0m\u001b[1;33m.\u001b[0m\u001b[0mname\u001b[0m\u001b[1;33m)\u001b[0m\u001b[1;33m,\u001b[0m\u001b[1;33m\u001b[0m\u001b[1;33m\u001b[0m\u001b[0m\n\u001b[0;32m    557\u001b[0m               \u001b[0mnum_outputs\u001b[0m\u001b[1;33m=\u001b[0m\u001b[0mself\u001b[0m\u001b[1;33m.\u001b[0m\u001b[0m_num_outputs\u001b[0m\u001b[1;33m,\u001b[0m\u001b[1;33m\u001b[0m\u001b[1;33m\u001b[0m\u001b[0m\n",
      "\u001b[1;32mc:\\python38\\lib\\site-packages\\tensorflow\\python\\eager\\execute.py\u001b[0m in \u001b[0;36mquick_execute\u001b[1;34m(op_name, num_outputs, inputs, attrs, ctx, name)\u001b[0m\n\u001b[0;32m     57\u001b[0m   \u001b[1;32mtry\u001b[0m\u001b[1;33m:\u001b[0m\u001b[1;33m\u001b[0m\u001b[1;33m\u001b[0m\u001b[0m\n\u001b[0;32m     58\u001b[0m     \u001b[0mctx\u001b[0m\u001b[1;33m.\u001b[0m\u001b[0mensure_initialized\u001b[0m\u001b[1;33m(\u001b[0m\u001b[1;33m)\u001b[0m\u001b[1;33m\u001b[0m\u001b[1;33m\u001b[0m\u001b[0m\n\u001b[1;32m---> 59\u001b[1;33m     tensors = pywrap_tfe.TFE_Py_Execute(ctx._handle, device_name, op_name,\n\u001b[0m\u001b[0;32m     60\u001b[0m                                         inputs, attrs, num_outputs)\n\u001b[0;32m     61\u001b[0m   \u001b[1;32mexcept\u001b[0m \u001b[0mcore\u001b[0m\u001b[1;33m.\u001b[0m\u001b[0m_NotOkStatusException\u001b[0m \u001b[1;32mas\u001b[0m \u001b[0me\u001b[0m\u001b[1;33m:\u001b[0m\u001b[1;33m\u001b[0m\u001b[1;33m\u001b[0m\u001b[0m\n",
      "\u001b[1;31mKeyboardInterrupt\u001b[0m: "
     ]
    }
   ],
   "source": [
    "# tf.random.set_seed(3011979)\n",
    "# history = our_alexnet.fit(X_train, y_train, batch_size = 128, epochs = 100, \\\n",
    "#                           validation_data = (X_val, y_val), verbose = 1, \\\n",
    "#                           callbacks = [ModelCheckpoint('./fashion_mnist_l11/model.ckpt', verbose = 0)])"
   ]
  },
  {
   "cell_type": "markdown",
   "id": "after-europe",
   "metadata": {},
   "source": [
    "### View loss curves"
   ]
  },
  {
   "cell_type": "code",
   "execution_count": 119,
   "id": "scheduled-distributor",
   "metadata": {},
   "outputs": [
    {
     "data": {
      "image/png": "[encoded data removed]",
      "text/plain": [
       "<Figure size 432x360 with 1 Axes>"
      ]
     },
     "metadata": {
      "needs_background": "light"
     },
     "output_type": "display_data"
    }
   ],
   "source": [
    "plt.figure(figsize = (6, 5))\n",
    "plt.plot(history.history['accuracy'], label = 'train accuracy')\n",
    "plt.plot(history.history['val_accuracy'], label = 'validation accuracy')\n",
    "plt.legend()\n",
    "plt.show()"
   ]
  },
  {
   "cell_type": "markdown",
   "id": "enabling-guest",
   "metadata": {},
   "source": [
    "### Classification report"
   ]
  },
  {
   "cell_type": "code",
   "execution_count": 132,
   "id": "rapid-orange",
   "metadata": {},
   "outputs": [
    {
     "name": "stdout",
     "output_type": "stream",
     "text": [
      "              precision    recall  f1-score   support\n",
      "\n",
      " T-shirt/top       0.81      0.85      0.83      1200\n",
      "     Trouser       0.99      0.98      0.99      1200\n",
      "    Pullover       0.81      0.86      0.84      1200\n",
      "       Dress       0.94      0.82      0.88      1200\n",
      "        Coat       0.84      0.82      0.83      1200\n",
      "      Sandal       0.97      0.98      0.97      1200\n",
      "       Shirt       0.70      0.74      0.72      1200\n",
      "     Sneaker       0.96      0.95      0.95      1200\n",
      "         Bag       0.98      0.97      0.97      1200\n",
      "  Ankle boot       0.96      0.96      0.96      1200\n",
      "\n",
      "    accuracy                           0.89     12000\n",
      "   macro avg       0.90      0.89      0.89     12000\n",
      "weighted avg       0.90      0.89      0.89     12000\n",
      "\n"
     ]
    }
   ],
   "source": [
    "print(classification_report(np.argmax(y_test, axis = 1), np.argmax(our_alexnet.predict(X_test), axis = 1), \\\n",
    "                            target_names = [class_name[x] for x in lr_model.classes_]))"
   ]
  },
  {
   "cell_type": "markdown",
   "id": "elegant-architect",
   "metadata": {},
   "source": [
    "### It is clear that our basic PC cannot handle larger neural network and dataset\n",
    "# Time to use free online resources from Google Colaboratory"
   ]
  }
 ],
 "metadata": {
  "kernelspec": {
   "display_name": "Python 3 (ipykernel)",
   "language": "python",
   "name": "python3"
  },
  "language_info": {
   "codemirror_mode": {
    "name": "ipython",
    "version": 3
   },
   "file_extension": ".py",
   "mimetype": "text/x-python",
   "name": "python",
   "nbconvert_exporter": "python",
   "pygments_lexer": "ipython3",
   "version": "3.9.12"
  }
 },
 "nbformat": 4,
 "nbformat_minor": 5
}
