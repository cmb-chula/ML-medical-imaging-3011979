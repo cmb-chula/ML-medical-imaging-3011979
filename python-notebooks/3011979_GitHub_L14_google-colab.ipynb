{
 "cells": [
  {
   "cell_type": "markdown",
   "id": "continuous-excellence",
   "metadata": {},
   "source": [
    "# Explore neural network model using [TensorFlow](https://www.tensorflow.org/) library\n",
    "[PyTorch](https://pytorch.org/) is another good alternative "
   ]
  },
  {
   "cell_type": "code",
   "execution_count": 32,
   "id": "negative-sacramento",
   "metadata": {},
   "outputs": [],
   "source": [
    "import numpy as np\n",
    "import pandas as pd\n",
    "import matplotlib.pyplot as plt\n",
    "import umap, os, shap\n",
    "\n",
    "from sklearn.preprocessing import StandardScaler, OneHotEncoder\n",
    "from sklearn.model_selection import train_test_split, StratifiedKFold\n",
    "from sklearn.metrics import classification_report, confusion_matrix\n",
    "from sklearn.metrics import roc_auc_score, roc_curve, accuracy_score, f1_score\n",
    "from sklearn.metrics import average_precision_score, precision_recall_curve"
   ]
  },
  {
   "cell_type": "code",
   "execution_count": 105,
   "id": "circular-rogers",
   "metadata": {},
   "outputs": [],
   "source": [
    "from tensorflow.keras.models import Model, Sequential\n",
    "from tensorflow.keras.layers import Dense, Input, Dropout, Conv2D, MaxPooling2D, Flatten\n",
    "from tensorflow.keras.optimizers import Adam\n",
    "from tensorflow.keras.callbacks import ModelCheckpoint, ReduceLROnPlateau, TensorBoard, EarlyStopping\n",
    "\n",
    "import tensorflow as tf"
   ]
  },
  {
   "cell_type": "markdown",
   "id": "variable-boutique",
   "metadata": {},
   "source": [
    "## Load leaf absorbance data"
   ]
  },
  {
   "cell_type": "code",
   "execution_count": 3,
   "id": "opening-slide",
   "metadata": {},
   "outputs": [
    {
     "data": {
      "text/html": [
       "<div>\n",
       "<style scoped>\n",
       "    .dataframe tbody tr th:only-of-type {\n",
       "        vertical-align: middle;\n",
       "    }\n",
       "\n",
       "    .dataframe tbody tr th {\n",
       "        vertical-align: top;\n",
       "    }\n",
       "\n",
       "    .dataframe thead th {\n",
       "        text-align: right;\n",
       "    }\n",
       "</style>\n",
       "<table border=\"1\" class=\"dataframe\">\n",
       "  <thead>\n",
       "    <tr style=\"text-align: right;\">\n",
       "      <th></th>\n",
       "      <th>ConditionID</th>\n",
       "      <th>CultivarID</th>\n",
       "      <th>Pi</th>\n",
       "      <th>324</th>\n",
       "      <th>334</th>\n",
       "      <th>344</th>\n",
       "      <th>354</th>\n",
       "      <th>364</th>\n",
       "      <th>374</th>\n",
       "      <th>384</th>\n",
       "      <th>...</th>\n",
       "      <th>694</th>\n",
       "      <th>704</th>\n",
       "      <th>714</th>\n",
       "      <th>724</th>\n",
       "      <th>734</th>\n",
       "      <th>744</th>\n",
       "      <th>754</th>\n",
       "      <th>764</th>\n",
       "      <th>774</th>\n",
       "      <th>784</th>\n",
       "    </tr>\n",
       "  </thead>\n",
       "  <tbody>\n",
       "    <tr>\n",
       "      <th>0</th>\n",
       "      <td>1</td>\n",
       "      <td>1</td>\n",
       "      <td>86.223677</td>\n",
       "      <td>0.136531</td>\n",
       "      <td>0.077077</td>\n",
       "      <td>0.075083</td>\n",
       "      <td>0.061408</td>\n",
       "      <td>0.058935</td>\n",
       "      <td>0.054756</td>\n",
       "      <td>0.055509</td>\n",
       "      <td>...</td>\n",
       "      <td>0.129893</td>\n",
       "      <td>0.218741</td>\n",
       "      <td>0.304643</td>\n",
       "      <td>0.374003</td>\n",
       "      <td>0.414906</td>\n",
       "      <td>0.438958</td>\n",
       "      <td>0.445656</td>\n",
       "      <td>0.444957</td>\n",
       "      <td>0.447571</td>\n",
       "      <td>0.442941</td>\n",
       "    </tr>\n",
       "    <tr>\n",
       "      <th>1</th>\n",
       "      <td>1</td>\n",
       "      <td>1</td>\n",
       "      <td>104.792925</td>\n",
       "      <td>0.128571</td>\n",
       "      <td>0.092857</td>\n",
       "      <td>0.084086</td>\n",
       "      <td>0.055360</td>\n",
       "      <td>0.069373</td>\n",
       "      <td>0.050320</td>\n",
       "      <td>0.048282</td>\n",
       "      <td>...</td>\n",
       "      <td>0.117621</td>\n",
       "      <td>0.202819</td>\n",
       "      <td>0.291199</td>\n",
       "      <td>0.366811</td>\n",
       "      <td>0.410271</td>\n",
       "      <td>0.439536</td>\n",
       "      <td>0.443814</td>\n",
       "      <td>0.444727</td>\n",
       "      <td>0.444642</td>\n",
       "      <td>0.446600</td>\n",
       "    </tr>\n",
       "    <tr>\n",
       "      <th>2</th>\n",
       "      <td>1</td>\n",
       "      <td>1</td>\n",
       "      <td>167.335884</td>\n",
       "      <td>0.094961</td>\n",
       "      <td>0.128649</td>\n",
       "      <td>0.123823</td>\n",
       "      <td>0.066028</td>\n",
       "      <td>0.054652</td>\n",
       "      <td>0.049103</td>\n",
       "      <td>0.044307</td>\n",
       "      <td>...</td>\n",
       "      <td>0.136578</td>\n",
       "      <td>0.229855</td>\n",
       "      <td>0.320378</td>\n",
       "      <td>0.397110</td>\n",
       "      <td>0.440710</td>\n",
       "      <td>0.464248</td>\n",
       "      <td>0.473719</td>\n",
       "      <td>0.471862</td>\n",
       "      <td>0.472635</td>\n",
       "      <td>0.471684</td>\n",
       "    </tr>\n",
       "    <tr>\n",
       "      <th>3</th>\n",
       "      <td>1</td>\n",
       "      <td>1</td>\n",
       "      <td>215.911286</td>\n",
       "      <td>0.130802</td>\n",
       "      <td>0.087640</td>\n",
       "      <td>0.102281</td>\n",
       "      <td>0.085255</td>\n",
       "      <td>0.074521</td>\n",
       "      <td>0.064555</td>\n",
       "      <td>0.057626</td>\n",
       "      <td>...</td>\n",
       "      <td>0.138065</td>\n",
       "      <td>0.228084</td>\n",
       "      <td>0.316342</td>\n",
       "      <td>0.389543</td>\n",
       "      <td>0.429343</td>\n",
       "      <td>0.454860</td>\n",
       "      <td>0.458740</td>\n",
       "      <td>0.458078</td>\n",
       "      <td>0.461857</td>\n",
       "      <td>0.463952</td>\n",
       "    </tr>\n",
       "    <tr>\n",
       "      <th>4</th>\n",
       "      <td>1</td>\n",
       "      <td>1</td>\n",
       "      <td>223.691091</td>\n",
       "      <td>0.125862</td>\n",
       "      <td>0.089796</td>\n",
       "      <td>0.075459</td>\n",
       "      <td>0.095190</td>\n",
       "      <td>0.061393</td>\n",
       "      <td>0.070902</td>\n",
       "      <td>0.061411</td>\n",
       "      <td>...</td>\n",
       "      <td>0.131028</td>\n",
       "      <td>0.219312</td>\n",
       "      <td>0.309854</td>\n",
       "      <td>0.385228</td>\n",
       "      <td>0.429559</td>\n",
       "      <td>0.457268</td>\n",
       "      <td>0.462188</td>\n",
       "      <td>0.463328</td>\n",
       "      <td>0.463395</td>\n",
       "      <td>0.466131</td>\n",
       "    </tr>\n",
       "  </tbody>\n",
       "</table>\n",
       "<p>5 rows × 50 columns</p>\n",
       "</div>"
      ],
      "text/plain": [
       "   ConditionID  CultivarID          Pi       324       334       344  \\\n",
       "0            1           1   86.223677  0.136531  0.077077  0.075083   \n",
       "1            1           1  104.792925  0.128571  0.092857  0.084086   \n",
       "2            1           1  167.335884  0.094961  0.128649  0.123823   \n",
       "3            1           1  215.911286  0.130802  0.087640  0.102281   \n",
       "4            1           1  223.691091  0.125862  0.089796  0.075459   \n",
       "\n",
       "        354       364       374       384  ...       694       704       714  \\\n",
       "0  0.061408  0.058935  0.054756  0.055509  ...  0.129893  0.218741  0.304643   \n",
       "1  0.055360  0.069373  0.050320  0.048282  ...  0.117621  0.202819  0.291199   \n",
       "2  0.066028  0.054652  0.049103  0.044307  ...  0.136578  0.229855  0.320378   \n",
       "3  0.085255  0.074521  0.064555  0.057626  ...  0.138065  0.228084  0.316342   \n",
       "4  0.095190  0.061393  0.070902  0.061411  ...  0.131028  0.219312  0.309854   \n",
       "\n",
       "        724       734       744       754       764       774       784  \n",
       "0  0.374003  0.414906  0.438958  0.445656  0.444957  0.447571  0.442941  \n",
       "1  0.366811  0.410271  0.439536  0.443814  0.444727  0.444642  0.446600  \n",
       "2  0.397110  0.440710  0.464248  0.473719  0.471862  0.472635  0.471684  \n",
       "3  0.389543  0.429343  0.454860  0.458740  0.458078  0.461857  0.463952  \n",
       "4  0.385228  0.429559  0.457268  0.462188  0.463328  0.463395  0.466131  \n",
       "\n",
       "[5 rows x 50 columns]"
      ]
     },
     "execution_count": 3,
     "metadata": {},
     "output_type": "execute_result"
    }
   ],
   "source": [
    "data = pd.read_excel('3011979_datasets.xlsx', sheet_name = 'leaf_absorbance', index_col = None)\n",
    "data = data.loc[~pd.isna(data).any(axis = 1)]\n",
    "data.head()"
   ]
  },
  {
   "cell_type": "code",
   "execution_count": 4,
   "id": "common-plasma",
   "metadata": {},
   "outputs": [
    {
     "name": "stdout",
     "output_type": "stream",
     "text": [
      "input data shape: (3094, 47)\n"
     ]
    }
   ],
   "source": [
    "condition_label = data['ConditionID']\n",
    "input_data = data.iloc[:, 3:]\n",
    "\n",
    "print('input data shape:', input_data.shape)"
   ]
  },
  {
   "cell_type": "code",
   "execution_count": 119,
   "id": "unexpected-triple",
   "metadata": {},
   "outputs": [
    {
     "name": "stdout",
     "output_type": "stream",
     "text": [
      "[1 2 3]\n"
     ]
    }
   ],
   "source": [
    "print(np.unique(condition_label))"
   ]
  },
  {
   "cell_type": "markdown",
   "id": "japanese-keeping",
   "metadata": {},
   "source": [
    "## Convert label to onehot representation"
   ]
  },
  {
   "cell_type": "code",
   "execution_count": 120,
   "id": "impossible-blowing",
   "metadata": {},
   "outputs": [],
   "source": [
    "label = OneHotEncoder(sparse = False).fit_transform(condition_label.values.reshape([-1, 1]))"
   ]
  },
  {
   "cell_type": "code",
   "execution_count": 121,
   "id": "published-ticket",
   "metadata": {},
   "outputs": [
    {
     "data": {
      "text/plain": [
       "array([[1., 0., 0.],\n",
       "       [1., 0., 0.],\n",
       "       [1., 0., 0.],\n",
       "       ...,\n",
       "       [0., 0., 1.],\n",
       "       [0., 0., 1.],\n",
       "       [0., 0., 1.]])"
      ]
     },
     "execution_count": 121,
     "metadata": {},
     "output_type": "execute_result"
    }
   ],
   "source": [
    "label"
   ]
  },
  {
   "cell_type": "markdown",
   "id": "comic-academy",
   "metadata": {},
   "source": [
    "## Withhold 20% as test and 20% as validation\n",
    "Also standardize everything"
   ]
  },
  {
   "cell_type": "code",
   "execution_count": 6,
   "id": "gross-desktop",
   "metadata": {},
   "outputs": [
    {
     "name": "stdout",
     "output_type": "stream",
     "text": [
      "training size: 1856\n",
      "validation size: 619\n",
      "test size: 619\n"
     ]
    }
   ],
   "source": [
    "X_trainval, X_test, y_trainval, y_test = train_test_split(input_data, label, test_size = 0.2,\n",
    "                                                          stratify = condition_label, random_state = 3011979)\n",
    "\n",
    "X_train, X_val, y_train, y_val = train_test_split(X_trainval, y_trainval, test_size = 0.25,\n",
    "                                                  stratify = condition_label.loc[X_trainval.index], random_state = 3011979)\n",
    "\n",
    "X_scaler = StandardScaler(with_mean = True, with_std = True).fit(X_train)\n",
    "X_train_std = pd.DataFrame(X_scaler.transform(X_train), index = X_train.index, columns = X_train.columns)\n",
    "X_val_std = pd.DataFrame(X_scaler.transform(X_val), index = X_val.index, columns = X_val.columns)\n",
    "X_test_std = pd.DataFrame(X_scaler.transform(X_test), index = X_test.index, columns = X_test.columns)\n",
    "\n",
    "print('training size:', X_train.shape[0])\n",
    "print('validation size:', X_val.shape[0])\n",
    "print('test size:', X_test.shape[0])"
   ]
  },
  {
   "cell_type": "markdown",
   "id": "heavy-federation",
   "metadata": {},
   "source": [
    "## Define a fully-connected network with one hidden layer"
   ]
  },
  {
   "cell_type": "code",
   "execution_count": 7,
   "id": "noble-result",
   "metadata": {},
   "outputs": [],
   "source": [
    "def generate_model(n_hidden):\n",
    "    inputs1 = Input(shape = (X_train_std.shape[1],))\n",
    "    x = Dense(units = n_hidden, activation = 'relu')(inputs1)\n",
    "    \n",
    "    inputs2 = Input(shape = (X_train_std.shape[1],))\n",
    "    y = Dense(units = n_hidden, activation = 'relu')(inputs2)\n",
    "    \n",
    "    z = Concatenate()([x, y])\n",
    "    \n",
    "    outputs = Dense(units = 3, activation = 'softmax')(z)\n",
    "\n",
    "    return Model(inputs = [inputs1, inputs2], outputs = outputs)"
   ]
  },
  {
   "cell_type": "markdown",
   "id": "terminal-protocol",
   "metadata": {},
   "source": [
    "## Define checkpoint"
   ]
  },
  {
   "cell_type": "code",
   "execution_count": 8,
   "id": "suspected-grounds",
   "metadata": {},
   "outputs": [],
   "source": [
    "modelckpt = ModelCheckpoint('./L14_onelayer_rice', verbose = 1, save_best_only = True, save_weights_only = False)\n",
    "tensorboard = TensorBoard('./L14_onelayer_rice_tb', histogram_freq = 1)\n",
    "reduced_lr = ReduceLROnPlateau(patience = 5, factor = 0.2)\n",
    "early_stop = EarlyStopping(patience = 20, restore_best_weights = True)"
   ]
  },
  {
   "cell_type": "markdown",
   "id": "removed-convergence",
   "metadata": {},
   "source": [
    "## Initiate TensorBoard"
   ]
  },
  {
   "cell_type": "code",
   "execution_count": 9,
   "id": "classical-february",
   "metadata": {},
   "outputs": [],
   "source": [
    "%load_ext tensorboard"
   ]
  },
  {
   "cell_type": "code",
   "execution_count": 11,
   "id": "equivalent-wrapping",
   "metadata": {
    "scrolled": false
   },
   "outputs": [
    {
     "data": {
      "text/html": [
       "\n",
       "      <iframe id=\"tensorboard-frame-5ae353c6ba833400\" width=\"100%\" height=\"800\" frameborder=\"0\">\n",
       "      </iframe>\n",
       "      <script>\n",
       "        (function() {\n",
       "          const frame = document.getElementById(\"tensorboard-frame-5ae353c6ba833400\");\n",
       "          const url = new URL(\"/\", window.location);\n",
       "          const port = 6006;\n",
       "          if (port) {\n",
       "            url.port = port;\n",
       "          }\n",
       "          frame.src = url;\n",
       "        })();\n",
       "      </script>\n",
       "    "
      ],
      "text/plain": [
       "<IPython.core.display.HTML object>"
      ]
     },
     "metadata": {},
     "output_type": "display_data"
    }
   ],
   "source": [
    "%tensorboard --logdir=./L14_onelayer_rice_tb --host localhost"
   ]
  },
  {
   "cell_type": "markdown",
   "id": "successful-sheet",
   "metadata": {},
   "source": [
    "## Train model for 20 epochs"
   ]
  },
  {
   "cell_type": "code",
   "execution_count": 12,
   "id": "freelance-weekend",
   "metadata": {},
   "outputs": [
    {
     "name": "stdout",
     "output_type": "stream",
     "text": [
      "Model: \"model\"\n",
      "_________________________________________________________________\n",
      " Layer (type)                Output Shape              Param #   \n",
      "=================================================================\n",
      " input_1 (InputLayer)        [(None, 47)]              0         \n",
      "                                                                 \n",
      " dense (Dense)               (None, 64)                3072      \n",
      "                                                                 \n",
      " dense_1 (Dense)             (None, 3)                 195       \n",
      "                                                                 \n",
      "=================================================================\n",
      "Total params: 3,267\n",
      "Trainable params: 3,267\n",
      "Non-trainable params: 0\n",
      "_________________________________________________________________\n"
     ]
    }
   ],
   "source": [
    "model = generate_model(64)\n",
    "model.compile(loss = 'categorical_crossentropy', optimizer = Adam(learning_rate = 1e-4))\n",
    "model.summary()"
   ]
  },
  {
   "cell_type": "code",
   "execution_count": 13,
   "id": "peripheral-aging",
   "metadata": {
    "scrolled": true
   },
   "outputs": [
    {
     "name": "stdout",
     "output_type": "stream",
     "text": [
      "Epoch 1/20\n",
      " 1/29 [>.............................] - ETA: 19s - loss: 1.4041\n",
      "Epoch 00001: val_loss improved from inf to 1.23050, saving model to .\\L14_onelayer_rice\n",
      "29/29 [==============================] - 2s 32ms/step - loss: 1.3191 - val_loss: 1.2305 - lr: 1.0000e-04\n",
      "Epoch 2/20\n",
      " 1/29 [>.............................] - ETA: 0s - loss: 1.2564\n",
      "Epoch 00002: val_loss improved from 1.23050 to 1.11539, saving model to .\\L14_onelayer_rice\n",
      "29/29 [==============================] - 1s 26ms/step - loss: 1.1810 - val_loss: 1.1154 - lr: 1.0000e-04\n",
      "Epoch 3/20\n",
      " 1/29 [>.............................] - ETA: 0s - loss: 1.1102\n",
      "Epoch 00003: val_loss improved from 1.11539 to 1.03968, saving model to .\\L14_onelayer_rice\n",
      "29/29 [==============================] - 1s 25ms/step - loss: 1.0879 - val_loss: 1.0397 - lr: 1.0000e-04\n",
      "Epoch 4/20\n",
      " 1/29 [>.............................] - ETA: 0s - loss: 1.0383\n",
      "Epoch 00004: val_loss improved from 1.03968 to 0.98656, saving model to .\\L14_onelayer_rice\n",
      "29/29 [==============================] - 1s 21ms/step - loss: 1.0236 - val_loss: 0.9866 - lr: 1.0000e-04\n",
      "Epoch 5/20\n",
      " 1/29 [>.............................] - ETA: 0s - loss: 0.9588\n",
      "Epoch 00005: val_loss improved from 0.98656 to 0.94556, saving model to .\\L14_onelayer_rice\n",
      "29/29 [==============================] - 1s 26ms/step - loss: 0.9756 - val_loss: 0.9456 - lr: 1.0000e-04\n",
      "Epoch 6/20\n",
      " 1/29 [>.............................] - ETA: 0s - loss: 1.0128\n",
      "Epoch 00006: val_loss improved from 0.94556 to 0.91336, saving model to .\\L14_onelayer_rice\n",
      "29/29 [==============================] - 1s 22ms/step - loss: 0.9369 - val_loss: 0.9134 - lr: 1.0000e-04\n",
      "Epoch 7/20\n",
      " 1/29 [>.............................] - ETA: 0s - loss: 1.0328\n",
      "Epoch 00007: val_loss improved from 0.91336 to 0.88657, saving model to .\\L14_onelayer_rice\n",
      "29/29 [==============================] - 1s 25ms/step - loss: 0.9047 - val_loss: 0.8866 - lr: 1.0000e-04\n",
      "Epoch 8/20\n",
      " 1/29 [>.............................] - ETA: 0s - loss: 0.8456\n",
      "Epoch 00008: val_loss improved from 0.88657 to 0.86350, saving model to .\\L14_onelayer_rice\n",
      "29/29 [==============================] - 1s 23ms/step - loss: 0.8775 - val_loss: 0.8635 - lr: 1.0000e-04\n",
      "Epoch 9/20\n",
      " 1/29 [>.............................] - ETA: 0s - loss: 0.7607\n",
      "Epoch 00009: val_loss improved from 0.86350 to 0.84390, saving model to .\\L14_onelayer_rice\n",
      "29/29 [==============================] - 1s 23ms/step - loss: 0.8538 - val_loss: 0.8439 - lr: 1.0000e-04\n",
      "Epoch 10/20\n",
      " 1/29 [>.............................] - ETA: 0s - loss: 0.8920\n",
      "Epoch 00010: val_loss improved from 0.84390 to 0.82693, saving model to .\\L14_onelayer_rice\n",
      "29/29 [==============================] - 1s 23ms/step - loss: 0.8333 - val_loss: 0.8269 - lr: 1.0000e-04\n",
      "Epoch 11/20\n",
      " 1/29 [>.............................] - ETA: 0s - loss: 0.7361\n",
      "Epoch 00011: val_loss improved from 0.82693 to 0.81229, saving model to .\\L14_onelayer_rice\n",
      "29/29 [==============================] - 1s 23ms/step - loss: 0.8150 - val_loss: 0.8123 - lr: 1.0000e-04\n",
      "Epoch 12/20\n",
      " 1/29 [>.............................] - ETA: 0s - loss: 0.8542\n",
      "Epoch 00012: val_loss improved from 0.81229 to 0.79866, saving model to .\\L14_onelayer_rice\n",
      "29/29 [==============================] - 1s 21ms/step - loss: 0.7992 - val_loss: 0.7987 - lr: 1.0000e-04\n",
      "Epoch 13/20\n",
      " 1/29 [>.............................] - ETA: 0s - loss: 0.8151\n",
      "Epoch 00013: val_loss improved from 0.79866 to 0.78700, saving model to .\\L14_onelayer_rice\n",
      "29/29 [==============================] - 1s 23ms/step - loss: 0.7851 - val_loss: 0.7870 - lr: 1.0000e-04\n",
      "Epoch 14/20\n",
      " 1/29 [>.............................] - ETA: 0s - loss: 0.8724\n",
      "Epoch 00014: val_loss improved from 0.78700 to 0.77702, saving model to .\\L14_onelayer_rice\n",
      "29/29 [==============================] - 1s 25ms/step - loss: 0.7723 - val_loss: 0.7770 - lr: 1.0000e-04\n",
      "Epoch 15/20\n",
      " 1/29 [>.............................] - ETA: 0s - loss: 0.7453\n",
      "Epoch 00015: val_loss improved from 0.77702 to 0.76688, saving model to .\\L14_onelayer_rice\n",
      "29/29 [==============================] - 1s 26ms/step - loss: 0.7609 - val_loss: 0.7669 - lr: 1.0000e-04\n",
      "Epoch 16/20\n",
      " 1/29 [>.............................] - ETA: 0s - loss: 0.8154\n",
      "Epoch 00016: val_loss improved from 0.76688 to 0.75873, saving model to .\\L14_onelayer_rice\n",
      "29/29 [==============================] - 1s 23ms/step - loss: 0.7504 - val_loss: 0.7587 - lr: 1.0000e-04\n",
      "Epoch 17/20\n",
      " 1/29 [>.............................] - ETA: 0s - loss: 0.7354\n",
      "Epoch 00017: val_loss improved from 0.75873 to 0.75095, saving model to .\\L14_onelayer_rice\n",
      "29/29 [==============================] - 1s 22ms/step - loss: 0.7411 - val_loss: 0.7509 - lr: 1.0000e-04\n",
      "Epoch 18/20\n",
      " 1/29 [>.............................] - ETA: 0s - loss: 0.6462\n",
      "Epoch 00018: val_loss improved from 0.75095 to 0.74328, saving model to .\\L14_onelayer_rice\n",
      "29/29 [==============================] - 1s 23ms/step - loss: 0.7323 - val_loss: 0.7433 - lr: 1.0000e-04\n",
      "Epoch 19/20\n",
      " 1/29 [>.............................] - ETA: 0s - loss: 0.7194\n",
      "Epoch 00019: val_loss improved from 0.74328 to 0.73748, saving model to .\\L14_onelayer_rice\n",
      "29/29 [==============================] - 1s 32ms/step - loss: 0.7247 - val_loss: 0.7375 - lr: 1.0000e-04\n",
      "Epoch 20/20\n",
      " 1/29 [>.............................] - ETA: 0s - loss: 0.6621\n",
      "Epoch 00020: val_loss improved from 0.73748 to 0.73110, saving model to .\\L14_onelayer_rice\n",
      "29/29 [==============================] - 1s 23ms/step - loss: 0.7172 - val_loss: 0.7311 - lr: 1.0000e-04\n"
     ]
    }
   ],
   "source": [
    "tf.random.set_seed(3011979)\n",
    "history = model.fit(X_train_std.values, y_train, batch_size = 64, validation_data = (X_val_std.values, y_val), epochs = 20,\n",
    "                    callbacks = [modelckpt, tensorboard, reduced_lr, early_stop], verbose = 1, shuffle = True)"
   ]
  },
  {
   "cell_type": "markdown",
   "id": "strong-psychology",
   "metadata": {},
   "source": [
    "## View loss trend"
   ]
  },
  {
   "cell_type": "code",
   "execution_count": 15,
   "id": "supported-moldova",
   "metadata": {},
   "outputs": [
    {
     "data": {
      "image/png": "[encoded data removed]",
      "text/plain": [
       "<Figure size 432x360 with 1 Axes>"
      ]
     },
     "metadata": {
      "needs_background": "light"
     },
     "output_type": "display_data"
    }
   ],
   "source": [
    "plt.figure(figsize = (6, 5))\n",
    "plt.plot(history.history['loss'], label = 'train loss')\n",
    "plt.plot(history.history['val_loss'], label = 'validation loss')\n",
    "plt.xlabel('epoch'); plt.ylabel('loss')\n",
    "plt.legend()\n",
    "plt.show()"
   ]
  },
  {
   "cell_type": "markdown",
   "id": "danish-politics",
   "metadata": {},
   "source": [
    "## Train for 20 more epochs since the model hasn't converged yet"
   ]
  },
  {
   "cell_type": "code",
   "execution_count": 16,
   "id": "mature-workshop",
   "metadata": {
    "scrolled": true
   },
   "outputs": [
    {
     "name": "stdout",
     "output_type": "stream",
     "text": [
      "Epoch 1/20\n",
      " 1/29 [>.............................] - ETA: 4s - loss: 0.8150\n",
      "Epoch 00001: val_loss improved from 0.73110 to 0.72584, saving model to .\\L14_onelayer_rice\n",
      "29/29 [==============================] - 1s 28ms/step - loss: 0.7105 - val_loss: 0.7258 - lr: 1.0000e-04\n",
      "Epoch 2/20\n",
      " 1/29 [>.............................] - ETA: 0s - loss: 0.7473\n",
      "Epoch 00002: val_loss improved from 0.72584 to 0.72042, saving model to .\\L14_onelayer_rice\n",
      "29/29 [==============================] - 1s 28ms/step - loss: 0.7044 - val_loss: 0.7204 - lr: 1.0000e-04\n",
      "Epoch 3/20\n",
      " 1/29 [>.............................] - ETA: 0s - loss: 0.7222\n",
      "Epoch 00003: val_loss improved from 0.72042 to 0.71620, saving model to .\\L14_onelayer_rice\n",
      "29/29 [==============================] - 1s 22ms/step - loss: 0.6982 - val_loss: 0.7162 - lr: 1.0000e-04\n",
      "Epoch 4/20\n",
      " 1/29 [>.............................] - ETA: 0s - loss: 0.7750\n",
      "Epoch 00004: val_loss improved from 0.71620 to 0.71218, saving model to .\\L14_onelayer_rice\n",
      "29/29 [==============================] - 1s 25ms/step - loss: 0.6929 - val_loss: 0.7122 - lr: 1.0000e-04\n",
      "Epoch 5/20\n",
      " 1/29 [>.............................] - ETA: 0s - loss: 0.6784\n",
      "Epoch 00005: val_loss improved from 0.71218 to 0.70778, saving model to .\\L14_onelayer_rice\n",
      "29/29 [==============================] - 1s 26ms/step - loss: 0.6879 - val_loss: 0.7078 - lr: 1.0000e-04\n",
      "Epoch 6/20\n",
      " 1/29 [>.............................] - ETA: 0s - loss: 0.7084\n",
      "Epoch 00006: val_loss improved from 0.70778 to 0.70436, saving model to .\\L14_onelayer_rice\n",
      "29/29 [==============================] - 1s 25ms/step - loss: 0.6830 - val_loss: 0.7044 - lr: 1.0000e-04\n",
      "Epoch 7/20\n",
      " 1/29 [>.............................] - ETA: 0s - loss: 0.8237\n",
      "Epoch 00007: val_loss improved from 0.70436 to 0.70110, saving model to .\\L14_onelayer_rice\n",
      "29/29 [==============================] - 1s 23ms/step - loss: 0.6785 - val_loss: 0.7011 - lr: 1.0000e-04\n",
      "Epoch 8/20\n",
      " 1/29 [>.............................] - ETA: 0s - loss: 0.6307\n",
      "Epoch 00008: val_loss improved from 0.70110 to 0.69757, saving model to .\\L14_onelayer_rice\n",
      "29/29 [==============================] - 1s 25ms/step - loss: 0.6742 - val_loss: 0.6976 - lr: 1.0000e-04\n",
      "Epoch 9/20\n",
      " 1/29 [>.............................] - ETA: 0s - loss: 0.5341\n",
      "Epoch 00009: val_loss improved from 0.69757 to 0.69450, saving model to .\\L14_onelayer_rice\n",
      "29/29 [==============================] - 1s 22ms/step - loss: 0.6703 - val_loss: 0.6945 - lr: 1.0000e-04\n",
      "Epoch 10/20\n",
      " 1/29 [>.............................] - ETA: 0s - loss: 0.7456\n",
      "Epoch 00010: val_loss improved from 0.69450 to 0.69199, saving model to .\\L14_onelayer_rice\n",
      "29/29 [==============================] - 1s 23ms/step - loss: 0.6666 - val_loss: 0.6920 - lr: 1.0000e-04\n",
      "Epoch 11/20\n",
      " 1/29 [>.............................] - ETA: 0s - loss: 0.5227\n",
      "Epoch 00011: val_loss improved from 0.69199 to 0.68972, saving model to .\\L14_onelayer_rice\n",
      "29/29 [==============================] - 1s 24ms/step - loss: 0.6629 - val_loss: 0.6897 - lr: 1.0000e-04\n",
      "Epoch 12/20\n",
      " 1/29 [>.............................] - ETA: 0s - loss: 0.7086\n",
      "Epoch 00012: val_loss improved from 0.68972 to 0.68684, saving model to .\\L14_onelayer_rice\n",
      "29/29 [==============================] - 1s 25ms/step - loss: 0.6596 - val_loss: 0.6868 - lr: 1.0000e-04\n",
      "Epoch 13/20\n",
      " 1/29 [>.............................] - ETA: 0s - loss: 0.7123\n",
      "Epoch 00013: val_loss improved from 0.68684 to 0.68467, saving model to .\\L14_onelayer_rice\n",
      "29/29 [==============================] - 1s 29ms/step - loss: 0.6564 - val_loss: 0.6847 - lr: 1.0000e-04\n",
      "Epoch 14/20\n",
      " 1/29 [>.............................] - ETA: 0s - loss: 0.7841\n",
      "Epoch 00014: val_loss improved from 0.68467 to 0.68277, saving model to .\\L14_onelayer_rice\n",
      "29/29 [==============================] - 1s 20ms/step - loss: 0.6533 - val_loss: 0.6828 - lr: 1.0000e-04\n",
      "Epoch 15/20\n",
      " 1/29 [>.............................] - ETA: 0s - loss: 0.6344\n",
      "Epoch 00015: val_loss improved from 0.68277 to 0.68029, saving model to .\\L14_onelayer_rice\n",
      "29/29 [==============================] - 1s 23ms/step - loss: 0.6504 - val_loss: 0.6803 - lr: 1.0000e-04\n",
      "Epoch 16/20\n",
      " 1/29 [>.............................] - ETA: 0s - loss: 0.7122\n",
      "Epoch 00016: val_loss improved from 0.68029 to 0.67897, saving model to .\\L14_onelayer_rice\n",
      "29/29 [==============================] - 1s 23ms/step - loss: 0.6475 - val_loss: 0.6790 - lr: 1.0000e-04\n",
      "Epoch 17/20\n",
      " 1/29 [>.............................] - ETA: 0s - loss: 0.6703\n",
      "Epoch 00017: val_loss improved from 0.67897 to 0.67690, saving model to .\\L14_onelayer_rice\n",
      "29/29 [==============================] - 1s 24ms/step - loss: 0.6450 - val_loss: 0.6769 - lr: 1.0000e-04\n",
      "Epoch 18/20\n",
      " 1/29 [>.............................] - ETA: 0s - loss: 0.5408\n",
      "Epoch 00018: val_loss improved from 0.67690 to 0.67477, saving model to .\\L14_onelayer_rice\n",
      "29/29 [==============================] - 1s 24ms/step - loss: 0.6422 - val_loss: 0.6748 - lr: 1.0000e-04\n",
      "Epoch 19/20\n",
      " 1/29 [>.............................] - ETA: 0s - loss: 0.6563\n",
      "Epoch 00019: val_loss improved from 0.67477 to 0.67389, saving model to .\\L14_onelayer_rice\n",
      "29/29 [==============================] - 1s 26ms/step - loss: 0.6402 - val_loss: 0.6739 - lr: 1.0000e-04\n",
      "Epoch 20/20\n",
      " 1/29 [>.............................] - ETA: 0s - loss: 0.5940\n",
      "Epoch 00020: val_loss improved from 0.67389 to 0.67184, saving model to .\\L14_onelayer_rice\n",
      "29/29 [==============================] - 1s 44ms/step - loss: 0.6375 - val_loss: 0.6718 - lr: 1.0000e-04\n"
     ]
    }
   ],
   "source": [
    "tf.random.set_seed(3011979)\n",
    "history = model.fit(X_train_std.values, y_train, batch_size = 64, validation_data = (X_val_std.values, y_val), epochs = 20,\n",
    "                    callbacks = [modelckpt, tensorboard, reduced_lr, early_stop], verbose = 1, shuffle = True)"
   ]
  },
  {
   "cell_type": "code",
   "execution_count": 17,
   "id": "royal-panic",
   "metadata": {},
   "outputs": [
    {
     "data": {
      "image/png": "[encoded data removed]",
      "text/plain": [
       "<Figure size 432x360 with 1 Axes>"
      ]
     },
     "metadata": {
      "needs_background": "light"
     },
     "output_type": "display_data"
    }
   ],
   "source": [
    "plt.figure(figsize = (6, 5))\n",
    "plt.plot(history.history['loss'], label = 'train loss')\n",
    "plt.plot(history.history['val_loss'], label = 'validation loss')\n",
    "plt.xlabel('epoch'); plt.ylabel('loss')\n",
    "plt.legend()\n",
    "plt.show()"
   ]
  },
  {
   "cell_type": "markdown",
   "id": "hungarian-theology",
   "metadata": {},
   "source": [
    "## The model still shows no sign of converging - we might want to increase learning rate"
   ]
  },
  {
   "cell_type": "code",
   "execution_count": 18,
   "id": "still-guard",
   "metadata": {},
   "outputs": [
    {
     "data": {
      "text/plain": [
       "<tf.Variable 'UnreadVariable' shape=() dtype=float32, numpy=0.0005>"
      ]
     },
     "execution_count": 18,
     "metadata": {},
     "output_type": "execute_result"
    }
   ],
   "source": [
    "model.optimizer.learning_rate.assign(5e-4)"
   ]
  },
  {
   "cell_type": "code",
   "execution_count": 19,
   "id": "ranging-edinburgh",
   "metadata": {
    "scrolled": true
   },
   "outputs": [
    {
     "name": "stdout",
     "output_type": "stream",
     "text": [
      "Epoch 1/50\n",
      " 1/29 [>.............................] - ETA: 4s - loss: 0.7475\n",
      "Epoch 00001: val_loss improved from 0.67184 to 0.66693, saving model to .\\L14_onelayer_rice\n",
      "29/29 [==============================] - 1s 39ms/step - loss: 0.6338 - val_loss: 0.6669 - lr: 5.0000e-04\n",
      "Epoch 2/50\n",
      " 1/29 [>.............................] - ETA: 0s - loss: 0.6762\n",
      "Epoch 00002: val_loss improved from 0.66693 to 0.65952, saving model to .\\L14_onelayer_rice\n",
      "29/29 [==============================] - 1s 26ms/step - loss: 0.6247 - val_loss: 0.6595 - lr: 5.0000e-04\n",
      "Epoch 3/50\n",
      " 1/29 [>.............................] - ETA: 0s - loss: 0.6654\n",
      "Epoch 00003: val_loss improved from 0.65952 to 0.65389, saving model to .\\L14_onelayer_rice\n",
      "29/29 [==============================] - 1s 26ms/step - loss: 0.6159 - val_loss: 0.6539 - lr: 5.0000e-04\n",
      "Epoch 4/50\n",
      " 1/29 [>.............................] - ETA: 0s - loss: 0.7080\n",
      "Epoch 00004: val_loss improved from 0.65389 to 0.65130, saving model to .\\L14_onelayer_rice\n",
      "29/29 [==============================] - 1s 26ms/step - loss: 0.6083 - val_loss: 0.6513 - lr: 5.0000e-04\n",
      "Epoch 5/50\n",
      " 1/29 [>.............................] - ETA: 0s - loss: 0.6242\n",
      "Epoch 00005: val_loss improved from 0.65130 to 0.64848, saving model to .\\L14_onelayer_rice\n",
      "29/29 [==============================] - 1s 22ms/step - loss: 0.6039 - val_loss: 0.6485 - lr: 5.0000e-04\n",
      "Epoch 6/50\n",
      " 1/29 [>.............................] - ETA: 0s - loss: 0.5998\n",
      "Epoch 00006: val_loss improved from 0.64848 to 0.64785, saving model to .\\L14_onelayer_rice\n",
      "29/29 [==============================] - 1s 24ms/step - loss: 0.5972 - val_loss: 0.6479 - lr: 5.0000e-04\n",
      "Epoch 7/50\n",
      " 1/29 [>.............................] - ETA: 0s - loss: 0.6888\n",
      "Epoch 00007: val_loss improved from 0.64785 to 0.64080, saving model to .\\L14_onelayer_rice\n",
      "29/29 [==============================] - 1s 23ms/step - loss: 0.5923 - val_loss: 0.6408 - lr: 5.0000e-04\n",
      "Epoch 8/50\n",
      " 1/29 [>.............................] - ETA: 0s - loss: 0.5705\n",
      "Epoch 00008: val_loss did not improve from 0.64080\n",
      "29/29 [==============================] - 0s 15ms/step - loss: 0.5875 - val_loss: 0.6434 - lr: 5.0000e-04\n",
      "Epoch 9/50\n",
      " 1/29 [>.............................] - ETA: 0s - loss: 0.4310\n",
      "Epoch 00009: val_loss improved from 0.64080 to 0.63789, saving model to .\\L14_onelayer_rice\n",
      "29/29 [==============================] - 1s 21ms/step - loss: 0.5845 - val_loss: 0.6379 - lr: 5.0000e-04\n",
      "Epoch 10/50\n",
      " 1/29 [>.............................] - ETA: 0s - loss: 0.6435\n",
      "Epoch 00010: val_loss did not improve from 0.63789\n",
      "29/29 [==============================] - 0s 11ms/step - loss: 0.5801 - val_loss: 0.6410 - lr: 5.0000e-04\n",
      "Epoch 11/50\n",
      " 1/29 [>.............................] - ETA: 0s - loss: 0.4146\n",
      "Epoch 00011: val_loss improved from 0.63789 to 0.63758, saving model to .\\L14_onelayer_rice\n",
      "29/29 [==============================] - 1s 26ms/step - loss: 0.5768 - val_loss: 0.6376 - lr: 5.0000e-04\n",
      "Epoch 12/50\n",
      " 1/29 [>.............................] - ETA: 0s - loss: 0.6120\n",
      "Epoch 00012: val_loss improved from 0.63758 to 0.63696, saving model to .\\L14_onelayer_rice\n",
      "29/29 [==============================] - 1s 24ms/step - loss: 0.5739 - val_loss: 0.6370 - lr: 5.0000e-04\n",
      "Epoch 13/50\n",
      " 1/29 [>.............................] - ETA: 0s - loss: 0.6387\n",
      "Epoch 00013: val_loss improved from 0.63696 to 0.63241, saving model to .\\L14_onelayer_rice\n",
      "29/29 [==============================] - 1s 23ms/step - loss: 0.5713 - val_loss: 0.6324 - lr: 5.0000e-04\n",
      "Epoch 14/50\n",
      " 1/29 [>.............................] - ETA: 0s - loss: 0.6827\n",
      "Epoch 00014: val_loss improved from 0.63241 to 0.63234, saving model to .\\L14_onelayer_rice\n",
      "29/29 [==============================] - 1s 20ms/step - loss: 0.5681 - val_loss: 0.6323 - lr: 5.0000e-04\n",
      "Epoch 15/50\n",
      " 1/29 [>.............................] - ETA: 0s - loss: 0.5934\n",
      "Epoch 00015: val_loss did not improve from 0.63234\n",
      "29/29 [==============================] - 0s 10ms/step - loss: 0.5646 - val_loss: 0.6340 - lr: 5.0000e-04\n",
      "Epoch 16/50\n",
      " 1/29 [>.............................] - ETA: 0s - loss: 0.6386\n",
      "Epoch 00016: val_loss improved from 0.63234 to 0.63090, saving model to .\\L14_onelayer_rice\n",
      "29/29 [==============================] - 1s 27ms/step - loss: 0.5618 - val_loss: 0.6309 - lr: 5.0000e-04\n",
      "Epoch 17/50\n",
      " 1/29 [>.............................] - ETA: 0s - loss: 0.6066\n",
      "Epoch 00017: val_loss did not improve from 0.63090\n",
      "29/29 [==============================] - 0s 10ms/step - loss: 0.5607 - val_loss: 0.6315 - lr: 5.0000e-04\n",
      "Epoch 18/50\n",
      " 1/29 [>.............................] - ETA: 0s - loss: 0.4726\n",
      "Epoch 00018: val_loss improved from 0.63090 to 0.62936, saving model to .\\L14_onelayer_rice\n",
      "29/29 [==============================] - 1s 20ms/step - loss: 0.5571 - val_loss: 0.6294 - lr: 5.0000e-04\n",
      "Epoch 19/50\n",
      " 1/29 [>.............................] - ETA: 0s - loss: 0.5954\n",
      "Epoch 00019: val_loss did not improve from 0.62936\n",
      "29/29 [==============================] - 0s 10ms/step - loss: 0.5554 - val_loss: 0.6302 - lr: 5.0000e-04\n",
      "Epoch 20/50\n",
      " 1/29 [>.............................] - ETA: 0s - loss: 0.5288\n",
      "Epoch 00020: val_loss improved from 0.62936 to 0.62877, saving model to .\\L14_onelayer_rice\n",
      "29/29 [==============================] - 1s 25ms/step - loss: 0.5537 - val_loss: 0.6288 - lr: 5.0000e-04\n",
      "Epoch 21/50\n",
      " 1/29 [>.............................] - ETA: 0s - loss: 0.5659\n",
      "Epoch 00021: val_loss improved from 0.62877 to 0.62457, saving model to .\\L14_onelayer_rice\n",
      "29/29 [==============================] - 1s 23ms/step - loss: 0.5521 - val_loss: 0.6246 - lr: 5.0000e-04\n",
      "Epoch 22/50\n",
      " 1/29 [>.............................] - ETA: 0s - loss: 0.5567\n",
      "Epoch 00022: val_loss did not improve from 0.62457\n",
      "29/29 [==============================] - 0s 10ms/step - loss: 0.5483 - val_loss: 0.6309 - lr: 5.0000e-04\n",
      "Epoch 23/50\n",
      " 1/29 [>.............................] - ETA: 0s - loss: 0.7029\n",
      "Epoch 00023: val_loss did not improve from 0.62457\n",
      "29/29 [==============================] - 0s 11ms/step - loss: 0.5470 - val_loss: 0.6264 - lr: 5.0000e-04\n",
      "Epoch 24/50\n",
      " 1/29 [>.............................] - ETA: 0s - loss: 0.4849\n",
      "Epoch 00024: val_loss did not improve from 0.62457\n",
      "29/29 [==============================] - 0s 10ms/step - loss: 0.5446 - val_loss: 0.6309 - lr: 5.0000e-04\n",
      "Epoch 25/50\n",
      " 1/29 [>.............................] - ETA: 0s - loss: 0.5618\n",
      "Epoch 00025: val_loss did not improve from 0.62457\n",
      "29/29 [==============================] - 0s 10ms/step - loss: 0.5419 - val_loss: 0.6257 - lr: 5.0000e-04\n",
      "Epoch 26/50\n",
      " 1/29 [>.............................] - ETA: 0s - loss: 0.5384\n",
      "Epoch 00026: val_loss did not improve from 0.62457\n",
      "29/29 [==============================] - 0s 10ms/step - loss: 0.5391 - val_loss: 0.6263 - lr: 5.0000e-04\n",
      "Epoch 27/50\n",
      " 1/29 [>.............................] - ETA: 0s - loss: 0.3955\n",
      "Epoch 00027: val_loss did not improve from 0.62457\n",
      "29/29 [==============================] - 0s 11ms/step - loss: 0.5359 - val_loss: 0.6259 - lr: 1.0000e-04\n",
      "Epoch 28/50\n",
      " 1/29 [>.............................] - ETA: 0s - loss: 0.5252\n",
      "Epoch 00028: val_loss did not improve from 0.62457\n",
      "29/29 [==============================] - 0s 10ms/step - loss: 0.5352 - val_loss: 0.6256 - lr: 1.0000e-04\n",
      "Epoch 29/50\n",
      " 1/29 [>.............................] - ETA: 0s - loss: 0.5514\n",
      "Epoch 00029: val_loss did not improve from 0.62457\n",
      "29/29 [==============================] - 0s 13ms/step - loss: 0.5350 - val_loss: 0.6257 - lr: 1.0000e-04\n",
      "Epoch 30/50\n",
      " 1/29 [>.............................] - ETA: 0s - loss: 0.4572\n",
      "Epoch 00030: val_loss did not improve from 0.62457\n",
      "29/29 [==============================] - 0s 10ms/step - loss: 0.5345 - val_loss: 0.6255 - lr: 1.0000e-04\n",
      "Epoch 31/50\n",
      " 1/29 [>.............................] - ETA: 0s - loss: 0.6614\n",
      "Epoch 00031: val_loss did not improve from 0.62457\n",
      "29/29 [==============================] - 0s 14ms/step - loss: 0.5341 - val_loss: 0.6259 - lr: 1.0000e-04\n"
     ]
    }
   ],
   "source": [
    "tf.random.set_seed(3011979)\n",
    "history = model.fit(X_train_std.values, y_train, batch_size = 64, validation_data = (X_val_std.values, y_val), epochs = 50,\n",
    "                    callbacks = [modelckpt, tensorboard, reduced_lr, early_stop], verbose = 1, shuffle = True)"
   ]
  },
  {
   "cell_type": "code",
   "execution_count": 20,
   "id": "mature-planner",
   "metadata": {},
   "outputs": [
    {
     "data": {
      "image/png": "[encoded data removed]",
      "text/plain": [
       "<Figure size 432x360 with 1 Axes>"
      ]
     },
     "metadata": {
      "needs_background": "light"
     },
     "output_type": "display_data"
    }
   ],
   "source": [
    "plt.figure(figsize = (6, 5))\n",
    "plt.plot(history.history['loss'], label = 'train loss')\n",
    "plt.plot(history.history['val_loss'], label = 'validation loss')\n",
    "plt.legend()\n",
    "plt.show()"
   ]
  },
  {
   "cell_type": "markdown",
   "id": "liquid-chest",
   "metadata": {},
   "source": [
    "## Examine the model performance"
   ]
  },
  {
   "cell_type": "code",
   "execution_count": 21,
   "id": "short-cancer",
   "metadata": {},
   "outputs": [
    {
     "name": "stdout",
     "output_type": "stream",
     "text": [
      "              precision    recall  f1-score   support\n",
      "\n",
      "           0       0.63      0.62      0.63       237\n",
      "           1       0.55      0.55      0.55       210\n",
      "           2       0.85      0.88      0.87       172\n",
      "\n",
      "    accuracy                           0.67       619\n",
      "   macro avg       0.68      0.68      0.68       619\n",
      "weighted avg       0.67      0.67      0.67       619\n",
      "\n"
     ]
    }
   ],
   "source": [
    "print(classification_report(np.argmax(y_test, axis = 1), np.argmax(model.predict(X_test_std), axis = 1)))"
   ]
  },
  {
   "cell_type": "code",
   "execution_count": 22,
   "id": "contained-illness",
   "metadata": {},
   "outputs": [
    {
     "data": {
      "image/png": "[encoded data removed]",
      "text/plain": [
       "<Figure size 1080x360 with 3 Axes>"
      ]
     },
     "metadata": {
      "needs_background": "light"
     },
     "output_type": "display_data"
    }
   ],
   "source": [
    "y_predict = model.predict(X_test_std)\n",
    "\n",
    "plt.figure(figsize = (15, 5))\n",
    "\n",
    "for i in range(3):\n",
    "    plt.subplot(1, 3, i + 1)\n",
    "    fpr, tpr, thresholds = roc_curve(y_test[:, i], y_predict[:, i])\n",
    "    plt.plot(fpr, tpr, label = 'AUC = ' + str(roc_auc_score(y_test[:, i], y_predict[:, i])))\n",
    "    plt.title('class ' + str(i + 1))\n",
    "    plt.legend(loc = 'lower right')\n",
    "    plt.xlabel('1 - specificity'); plt.ylabel('sensitivity')\n",
    "\n",
    "plt.tight_layout()\n",
    "plt.show()"
   ]
  },
  {
   "cell_type": "markdown",
   "id": "reserved-heavy",
   "metadata": {},
   "source": [
    "## Let's tune the number of hidden neuron\n",
    "* Try powers of 2: 32, 64, 128, 256, 512\n",
    "* Make sure to turn verbose off (vebose = 0) if you don't want to see logs\n",
    "* Set learning rate to 5e-4\n",
    "* Use only reduced learning rate and early stopping checkpoints\n",
    "* Save predictions"
   ]
  },
  {
   "cell_type": "code",
   "execution_count": 25,
   "id": "similar-dallas",
   "metadata": {},
   "outputs": [],
   "source": [
    "y_predicts = {} \n",
    "\n",
    "for n_hidden in [32, 64, 128, 256, 512]:\n",
    "    tf.random.set_seed(3011979)\n",
    "    model = generate_model(n_hidden)\n",
    "    model.compile(loss = 'categorical_crossentropy', optimizer = Adam(learning_rate = 5e-4))\n",
    "    model.fit(X_train_std.values, y_train, batch_size = 64, validation_data = (X_val_std.values, y_val), epochs = 20,\n",
    "              callbacks = [reduced_lr, early_stop], verbose = 0, shuffle = True)\n",
    "    \n",
    "    y_predicts[n_hidden] = model.predict(X_test_std)"
   ]
  },
  {
   "cell_type": "code",
   "execution_count": 26,
   "id": "loaded-recipient",
   "metadata": {},
   "outputs": [
    {
     "data": {
      "image/png": "[encoded data removed]",
      "text/plain": [
       "<Figure size 1080x360 with 3 Axes>"
      ]
     },
     "metadata": {
      "needs_background": "light"
     },
     "output_type": "display_data"
    }
   ],
   "source": [
    "plt.figure(figsize = (15, 5))\n",
    "\n",
    "for i in range(3):\n",
    "    plt.subplot(1, 3, i + 1)\n",
    "    \n",
    "    for n_hidden in y_predicts:\n",
    "        fpr, tpr, thresholds = roc_curve(y_test[:, i], y_predicts[n_hidden][:, i])\n",
    "        plt.plot(fpr, tpr, label = str(n_hidden) + ' neuron, AUC = ' + str(roc_auc_score(y_test[:, i], y_predicts[n_hidden][:, i])))\n",
    "    \n",
    "    plt.title('class ' + str(i + 1))\n",
    "    plt.legend(loc = 'lower right')\n",
    "    plt.xlabel('1 - specificity'); plt.ylabel('sensitivity')\n",
    "\n",
    "plt.tight_layout()\n",
    "plt.show()"
   ]
  },
  {
   "cell_type": "markdown",
   "id": "major-barcelona",
   "metadata": {},
   "source": [
    "## Let's try using multiple layers"
   ]
  },
  {
   "cell_type": "code",
   "execution_count": 122,
   "id": "banned-clearing",
   "metadata": {},
   "outputs": [],
   "source": [
    "def generate_multilayer_model(n_hiddens):\n",
    "    if len(n_hiddens) == 1:\n",
    "        return generate_model(n_hiddens[0])\n",
    "    \n",
    "    inputs = Input(shape = (X_train_std.shape[1],))\n",
    "    x = Dense(units = n_hiddens[0], activation = 'relu')(inputs)\n",
    "    \n",
    "    for n in n_hiddens[1:]:\n",
    "        x = Dense(units = n, activation = 'relu')(x)\n",
    "\n",
    "    outputs = Dense(units = 3, activation = 'softmax')(x)\n",
    "\n",
    "    return Model(inputs = inputs, outputs = outputs)"
   ]
  },
  {
   "cell_type": "code",
   "execution_count": 123,
   "id": "aware-schema",
   "metadata": {},
   "outputs": [
    {
     "name": "stdout",
     "output_type": "stream",
     "text": [
      "Model: \"model_30\"\n",
      "_________________________________________________________________\n",
      " Layer (type)                Output Shape              Param #   \n",
      "=================================================================\n",
      " input_18 (InputLayer)       [(None, 784)]             0         \n",
      "                                                                 \n",
      " dense_80 (Dense)            (None, 256)               200960    \n",
      "                                                                 \n",
      " dense_81 (Dense)            (None, 32)                8224      \n",
      "                                                                 \n",
      " dense_82 (Dense)            (None, 3)                 99        \n",
      "                                                                 \n",
      "=================================================================\n",
      "Total params: 209,283\n",
      "Trainable params: 209,283\n",
      "Non-trainable params: 0\n",
      "_________________________________________________________________\n"
     ]
    }
   ],
   "source": [
    "dummy_model = generate_multilayer_model([256, 32])\n",
    "dummy_model.summary()"
   ]
  },
  {
   "cell_type": "code",
   "execution_count": 47,
   "id": "champion-happening",
   "metadata": {
    "scrolled": true
   },
   "outputs": [
    {
     "name": "stdout",
     "output_type": "stream",
     "text": [
      "Train on 1856 samples, validate on 619 samples\n",
      "Epoch 1/50\n",
      "1856/1856 [==============================] - 0s 97us/sample - loss: 0.9052 - auc_4: 0.7627 - acc: 0.5544 - val_loss: 0.7567 - val_auc_4: 0.8486 - val_acc: 0.6397 - lr: 5.0000e-04\n",
      "Epoch 2/50\n",
      "1856/1856 [==============================] - 0s 23us/sample - loss: 0.6961 - auc_4: 0.8676 - acc: 0.6778 - val_loss: 0.6826 - val_auc_4: 0.8639 - val_acc: 0.6656 - lr: 5.0000e-04\n",
      "Epoch 3/50\n",
      "1856/1856 [==============================] - 0s 22us/sample - loss: 0.6400 - auc_4: 0.8807 - acc: 0.6875 - val_loss: 0.6684 - val_auc_4: 0.8644 - val_acc: 0.6704 - lr: 5.0000e-04\n",
      "Epoch 4/50\n",
      "1856/1856 [==============================] - 0s 24us/sample - loss: 0.6089 - auc_4: 0.8913 - acc: 0.7144 - val_loss: 0.6457 - val_auc_4: 0.8733 - val_acc: 0.6882 - lr: 5.0000e-04\n",
      "Epoch 5/50\n",
      "1856/1856 [==============================] - 0s 23us/sample - loss: 0.5894 - auc_4: 0.8971 - acc: 0.7112 - val_loss: 0.6385 - val_auc_4: 0.8736 - val_acc: 0.6801 - lr: 5.0000e-04\n",
      "Epoch 6/50\n",
      "1856/1856 [==============================] - 0s 22us/sample - loss: 0.5685 - auc_4: 0.9045 - acc: 0.7252 - val_loss: 0.6322 - val_auc_4: 0.8761 - val_acc: 0.6914 - lr: 5.0000e-04\n",
      "Epoch 7/50\n",
      "1856/1856 [==============================] - 0s 23us/sample - loss: 0.5557 - auc_4: 0.9084 - acc: 0.7344 - val_loss: 0.6271 - val_auc_4: 0.8783 - val_acc: 0.6947 - lr: 5.0000e-04\n",
      "Epoch 8/50\n",
      "1856/1856 [==============================] - 0s 22us/sample - loss: 0.5483 - auc_4: 0.9107 - acc: 0.7387 - val_loss: 0.6239 - val_auc_4: 0.8785 - val_acc: 0.6898 - lr: 5.0000e-04\n",
      "Epoch 9/50\n",
      "1856/1856 [==============================] - 0s 21us/sample - loss: 0.5433 - auc_4: 0.9130 - acc: 0.7430 - val_loss: 0.6212 - val_auc_4: 0.8795 - val_acc: 0.6979 - lr: 5.0000e-04\n",
      "Epoch 10/50\n",
      "1856/1856 [==============================] - 0s 21us/sample - loss: 0.5336 - auc_4: 0.9154 - acc: 0.7408 - val_loss: 0.6228 - val_auc_4: 0.8789 - val_acc: 0.6737 - lr: 5.0000e-04\n",
      "Epoch 11/50\n",
      "1856/1856 [==============================] - 0s 22us/sample - loss: 0.5200 - auc_4: 0.9205 - acc: 0.7430 - val_loss: 0.6212 - val_auc_4: 0.8801 - val_acc: 0.6914 - lr: 5.0000e-04\n",
      "Epoch 12/50\n",
      "1856/1856 [==============================] - 0s 20us/sample - loss: 0.5112 - auc_4: 0.9233 - acc: 0.7495 - val_loss: 0.6242 - val_auc_4: 0.8786 - val_acc: 0.6817 - lr: 5.0000e-04\n",
      "Epoch 13/50\n",
      "1856/1856 [==============================] - 0s 20us/sample - loss: 0.5015 - auc_4: 0.9270 - acc: 0.7635 - val_loss: 0.6288 - val_auc_4: 0.8788 - val_acc: 0.6785 - lr: 5.0000e-04\n",
      "Epoch 14/50\n",
      "1856/1856 [==============================] - 0s 21us/sample - loss: 0.4957 - auc_4: 0.9284 - acc: 0.7656 - val_loss: 0.6160 - val_auc_4: 0.8806 - val_acc: 0.6801 - lr: 5.0000e-04\n",
      "Epoch 15/50\n",
      "1856/1856 [==============================] - 0s 21us/sample - loss: 0.4900 - auc_4: 0.9292 - acc: 0.7629 - val_loss: 0.6152 - val_auc_4: 0.8823 - val_acc: 0.6931 - lr: 5.0000e-04\n",
      "Epoch 16/50\n",
      "1856/1856 [==============================] - 0s 22us/sample - loss: 0.4847 - auc_4: 0.9315 - acc: 0.7753 - val_loss: 0.6146 - val_auc_4: 0.8806 - val_acc: 0.6931 - lr: 5.0000e-04\n",
      "Epoch 17/50\n",
      "1856/1856 [==============================] - 0s 20us/sample - loss: 0.4769 - auc_4: 0.9344 - acc: 0.7732 - val_loss: 0.6155 - val_auc_4: 0.8823 - val_acc: 0.6898 - lr: 5.0000e-04\n",
      "Epoch 18/50\n",
      "1856/1856 [==============================] - 0s 21us/sample - loss: 0.4735 - auc_4: 0.9356 - acc: 0.7786 - val_loss: 0.6283 - val_auc_4: 0.8779 - val_acc: 0.6801 - lr: 5.0000e-04\n",
      "Epoch 19/50\n",
      "1856/1856 [==============================] - 0s 21us/sample - loss: 0.4665 - auc_4: 0.9363 - acc: 0.7775 - val_loss: 0.6192 - val_auc_4: 0.8811 - val_acc: 0.6785 - lr: 5.0000e-04\n",
      "Epoch 20/50\n",
      "1856/1856 [==============================] - 0s 22us/sample - loss: 0.4649 - auc_4: 0.9374 - acc: 0.7791 - val_loss: 0.6248 - val_auc_4: 0.8805 - val_acc: 0.6882 - lr: 5.0000e-04\n",
      "Epoch 21/50\n",
      "1856/1856 [==============================] - 0s 40us/sample - loss: 0.4533 - auc_4: 0.9414 - acc: 0.7920 - val_loss: 0.6267 - val_auc_4: 0.8807 - val_acc: 0.6801 - lr: 5.0000e-04\n",
      "Epoch 22/50\n",
      "1856/1856 [==============================] - 0s 23us/sample - loss: 0.4405 - auc_4: 0.9456 - acc: 0.7980 - val_loss: 0.6229 - val_auc_4: 0.8814 - val_acc: 0.6817 - lr: 1.0000e-04\n",
      "Epoch 23/50\n",
      "1856/1856 [==============================] - 0s 22us/sample - loss: 0.4368 - auc_4: 0.9471 - acc: 0.8023 - val_loss: 0.6247 - val_auc_4: 0.8813 - val_acc: 0.6785 - lr: 1.0000e-04\n",
      "Epoch 24/50\n",
      "1856/1856 [==============================] - 0s 21us/sample - loss: 0.4358 - auc_4: 0.9469 - acc: 0.7980 - val_loss: 0.6256 - val_auc_4: 0.8816 - val_acc: 0.6801 - lr: 1.0000e-04\n",
      "Epoch 25/50\n",
      "1856/1856 [==============================] - 0s 23us/sample - loss: 0.4342 - auc_4: 0.9480 - acc: 0.8044 - val_loss: 0.6246 - val_auc_4: 0.8811 - val_acc: 0.6801 - lr: 1.0000e-04\n",
      "Epoch 26/50\n",
      "1856/1856 [==============================] - 0s 48us/sample - loss: 0.4325 - auc_4: 0.9485 - acc: 0.8066 - val_loss: 0.6286 - val_auc_4: 0.8805 - val_acc: 0.6801 - lr: 1.0000e-04\n"
     ]
    }
   ],
   "source": [
    "model = generate_multilayer_model([256, 32])\n",
    "model.compile(loss = 'categorical_crossentropy', optimizer = Adam(learning_rate = 5e-4),\n",
    "              metrics = [tf.keras.metrics.AUC(), 'accuracy'])\n",
    "\n",
    "tf.random.set_seed(3011979)\n",
    "history = model.fit(X_train_std.values, y_train, batch_size = 64, validation_data = (X_val_std.values, y_val), epochs = 50,\n",
    "                    callbacks = [reduced_lr, early_stop], verbose = 1, shuffle = True)"
   ]
  },
  {
   "cell_type": "code",
   "execution_count": 48,
   "id": "whole-challenge",
   "metadata": {},
   "outputs": [
    {
     "data": {
      "image/png": "[encoded data removed]",
      "text/plain": [
       "<Figure size 432x360 with 1 Axes>"
      ]
     },
     "metadata": {
      "needs_background": "light"
     },
     "output_type": "display_data"
    }
   ],
   "source": [
    "plt.figure(figsize = (6, 5))\n",
    "plt.plot(history.history['loss'], label = 'train loss')\n",
    "plt.plot(history.history['val_loss'], label = 'validation loss')\n",
    "plt.xlabel('epoch'); plt.ylabel('loss')\n",
    "plt.legend()\n",
    "plt.show()"
   ]
  },
  {
   "cell_type": "markdown",
   "id": "comfortable-sudan",
   "metadata": {},
   "source": [
    "## We should slow down learning rate here"
   ]
  },
  {
   "cell_type": "code",
   "execution_count": 49,
   "id": "thorough-palestinian",
   "metadata": {},
   "outputs": [
    {
     "name": "stdout",
     "output_type": "stream",
     "text": [
      "Train on 1856 samples, validate on 619 samples\n",
      "Epoch 1/50\n",
      "1856/1856 [==============================] - 0s 120us/sample - loss: 0.9895 - auc_5: 0.7221 - acc: 0.5216 - val_loss: 0.9133 - val_auc_5: 0.7927 - val_acc: 0.5703 - lr: 1.0000e-04\n",
      "Epoch 2/50\n",
      "1856/1856 [==============================] - 0s 27us/sample - loss: 0.8675 - auc_5: 0.8161 - acc: 0.6121 - val_loss: 0.8388 - val_auc_5: 0.8217 - val_acc: 0.6090 - lr: 1.0000e-04\n",
      "Epoch 3/50\n",
      "1856/1856 [==============================] - 0s 27us/sample - loss: 0.8036 - auc_5: 0.8396 - acc: 0.6369 - val_loss: 0.7931 - val_auc_5: 0.8401 - val_acc: 0.6365 - lr: 1.0000e-04\n",
      "Epoch 4/50\n",
      "1856/1856 [==============================] - 0s 24us/sample - loss: 0.7595 - auc_5: 0.8554 - acc: 0.6503 - val_loss: 0.7598 - val_auc_5: 0.8496 - val_acc: 0.6559 - lr: 1.0000e-04\n",
      "Epoch 5/50\n",
      "1856/1856 [==============================] - 0s 28us/sample - loss: 0.7267 - auc_5: 0.8631 - acc: 0.6643 - val_loss: 0.7347 - val_auc_5: 0.8556 - val_acc: 0.6704 - lr: 1.0000e-04\n",
      "Epoch 6/50\n",
      "1856/1856 [==============================] - 0s 30us/sample - loss: 0.7023 - auc_5: 0.8695 - acc: 0.6692 - val_loss: 0.7185 - val_auc_5: 0.8589 - val_acc: 0.6656 - lr: 1.0000e-04\n",
      "Epoch 7/50\n",
      "1856/1856 [==============================] - 0s 28us/sample - loss: 0.6824 - auc_5: 0.8750 - acc: 0.6713 - val_loss: 0.7035 - val_auc_5: 0.8619 - val_acc: 0.6801 - lr: 1.0000e-04\n",
      "Epoch 8/50\n",
      "1856/1856 [==============================] - 0s 27us/sample - loss: 0.6675 - auc_5: 0.8779 - acc: 0.6832 - val_loss: 0.6937 - val_auc_5: 0.8635 - val_acc: 0.6801 - lr: 1.0000e-04\n",
      "Epoch 9/50\n",
      "1856/1856 [==============================] - 0s 26us/sample - loss: 0.6540 - auc_5: 0.8814 - acc: 0.6870 - val_loss: 0.6864 - val_auc_5: 0.8647 - val_acc: 0.6785 - lr: 1.0000e-04\n",
      "Epoch 10/50\n",
      "1856/1856 [==============================] - 0s 26us/sample - loss: 0.6435 - auc_5: 0.8844 - acc: 0.6923 - val_loss: 0.6793 - val_auc_5: 0.8660 - val_acc: 0.6850 - lr: 1.0000e-04\n",
      "Epoch 11/50\n",
      "1856/1856 [==============================] - 0s 24us/sample - loss: 0.6347 - auc_5: 0.8869 - acc: 0.6972 - val_loss: 0.6729 - val_auc_5: 0.8674 - val_acc: 0.6850 - lr: 1.0000e-04\n",
      "Epoch 12/50\n",
      "1856/1856 [==============================] - 0s 23us/sample - loss: 0.6267 - auc_5: 0.8886 - acc: 0.7020 - val_loss: 0.6695 - val_auc_5: 0.8673 - val_acc: 0.6850 - lr: 1.0000e-04\n",
      "Epoch 13/50\n",
      "1856/1856 [==============================] - 0s 21us/sample - loss: 0.6199 - auc_5: 0.8905 - acc: 0.7058 - val_loss: 0.6652 - val_auc_5: 0.8679 - val_acc: 0.6817 - lr: 1.0000e-04\n",
      "Epoch 14/50\n",
      "1856/1856 [==============================] - 0s 22us/sample - loss: 0.6147 - auc_5: 0.8919 - acc: 0.7020 - val_loss: 0.6626 - val_auc_5: 0.8684 - val_acc: 0.6850 - lr: 1.0000e-04\n",
      "Epoch 15/50\n",
      "1856/1856 [==============================] - 0s 21us/sample - loss: 0.6095 - auc_5: 0.8927 - acc: 0.7101 - val_loss: 0.6600 - val_auc_5: 0.8692 - val_acc: 0.6850 - lr: 1.0000e-04\n",
      "Epoch 16/50\n",
      "1856/1856 [==============================] - 0s 23us/sample - loss: 0.6025 - auc_5: 0.8953 - acc: 0.7117 - val_loss: 0.6556 - val_auc_5: 0.8705 - val_acc: 0.6931 - lr: 1.0000e-04\n",
      "Epoch 17/50\n",
      "1856/1856 [==============================] - 0s 24us/sample - loss: 0.5980 - auc_5: 0.8967 - acc: 0.7155 - val_loss: 0.6556 - val_auc_5: 0.8696 - val_acc: 0.6850 - lr: 1.0000e-04\n",
      "Epoch 18/50\n",
      "1856/1856 [==============================] - 0s 24us/sample - loss: 0.5939 - auc_5: 0.8978 - acc: 0.7166 - val_loss: 0.6512 - val_auc_5: 0.8711 - val_acc: 0.6914 - lr: 1.0000e-04\n",
      "Epoch 19/50\n",
      "1856/1856 [==============================] - 0s 25us/sample - loss: 0.5891 - auc_5: 0.8992 - acc: 0.7166 - val_loss: 0.6514 - val_auc_5: 0.8709 - val_acc: 0.6931 - lr: 1.0000e-04\n",
      "Epoch 20/50\n",
      "1856/1856 [==============================] - 0s 23us/sample - loss: 0.5863 - auc_5: 0.8998 - acc: 0.7150 - val_loss: 0.6494 - val_auc_5: 0.8715 - val_acc: 0.6947 - lr: 1.0000e-04\n",
      "Epoch 21/50\n",
      "1856/1856 [==============================] - 0s 23us/sample - loss: 0.5818 - auc_5: 0.9014 - acc: 0.7209 - val_loss: 0.6488 - val_auc_5: 0.8713 - val_acc: 0.6866 - lr: 1.0000e-04\n",
      "Epoch 22/50\n",
      "1856/1856 [==============================] - 0s 24us/sample - loss: 0.5779 - auc_5: 0.9027 - acc: 0.7241 - val_loss: 0.6452 - val_auc_5: 0.8727 - val_acc: 0.6898 - lr: 1.0000e-04\n",
      "Epoch 23/50\n",
      "1856/1856 [==============================] - 0s 20us/sample - loss: 0.5754 - auc_5: 0.9035 - acc: 0.7247 - val_loss: 0.6467 - val_auc_5: 0.8717 - val_acc: 0.6850 - lr: 1.0000e-04\n",
      "Epoch 24/50\n",
      "1856/1856 [==============================] - 0s 23us/sample - loss: 0.5729 - auc_5: 0.9038 - acc: 0.7236 - val_loss: 0.6446 - val_auc_5: 0.8722 - val_acc: 0.6817 - lr: 1.0000e-04\n",
      "Epoch 25/50\n",
      "1856/1856 [==============================] - 0s 23us/sample - loss: 0.5679 - auc_5: 0.9060 - acc: 0.7295 - val_loss: 0.6438 - val_auc_5: 0.8723 - val_acc: 0.6801 - lr: 1.0000e-04\n",
      "Epoch 26/50\n",
      "1856/1856 [==============================] - 0s 22us/sample - loss: 0.5658 - auc_5: 0.9064 - acc: 0.7274 - val_loss: 0.6415 - val_auc_5: 0.8732 - val_acc: 0.6785 - lr: 1.0000e-04\n",
      "Epoch 27/50\n",
      "1856/1856 [==============================] - 0s 23us/sample - loss: 0.5629 - auc_5: 0.9074 - acc: 0.7279 - val_loss: 0.6416 - val_auc_5: 0.8729 - val_acc: 0.6834 - lr: 1.0000e-04\n",
      "Epoch 28/50\n",
      "1856/1856 [==============================] - 0s 22us/sample - loss: 0.5608 - auc_5: 0.9077 - acc: 0.7279 - val_loss: 0.6416 - val_auc_5: 0.8733 - val_acc: 0.6817 - lr: 1.0000e-04\n",
      "Epoch 29/50\n",
      "1856/1856 [==============================] - 0s 20us/sample - loss: 0.5574 - auc_5: 0.9091 - acc: 0.7295 - val_loss: 0.6395 - val_auc_5: 0.8737 - val_acc: 0.6834 - lr: 1.0000e-04\n",
      "Epoch 30/50\n",
      "1856/1856 [==============================] - 0s 23us/sample - loss: 0.5547 - auc_5: 0.9099 - acc: 0.7322 - val_loss: 0.6409 - val_auc_5: 0.8731 - val_acc: 0.6801 - lr: 1.0000e-04\n",
      "Epoch 31/50\n",
      "1856/1856 [==============================] - ETA: 0s - loss: 0.5314 - auc_5: 0.9119 - acc: 0.703 - 0s 21us/sample - loss: 0.5531 - auc_5: 0.9103 - acc: 0.7317 - val_loss: 0.6416 - val_auc_5: 0.8728 - val_acc: 0.6817 - lr: 1.0000e-04\n",
      "Epoch 32/50\n",
      "1856/1856 [==============================] - 0s 24us/sample - loss: 0.5502 - auc_5: 0.9111 - acc: 0.7306 - val_loss: 0.6403 - val_auc_5: 0.8732 - val_acc: 0.6834 - lr: 1.0000e-04\n",
      "Epoch 33/50\n",
      "1856/1856 [==============================] - 0s 22us/sample - loss: 0.5476 - auc_5: 0.9123 - acc: 0.7333 - val_loss: 0.6386 - val_auc_5: 0.8733 - val_acc: 0.6882 - lr: 1.0000e-04\n",
      "Epoch 34/50\n",
      "1856/1856 [==============================] - 0s 22us/sample - loss: 0.5454 - auc_5: 0.9129 - acc: 0.7338 - val_loss: 0.6389 - val_auc_5: 0.8736 - val_acc: 0.6866 - lr: 1.0000e-04\n",
      "Epoch 35/50\n",
      "1856/1856 [==============================] - 0s 24us/sample - loss: 0.5436 - auc_5: 0.9131 - acc: 0.7349 - val_loss: 0.6379 - val_auc_5: 0.8739 - val_acc: 0.6834 - lr: 1.0000e-04\n",
      "Epoch 36/50\n",
      "1856/1856 [==============================] - 0s 20us/sample - loss: 0.5407 - auc_5: 0.9144 - acc: 0.7360 - val_loss: 0.6360 - val_auc_5: 0.8746 - val_acc: 0.6931 - lr: 1.0000e-04\n",
      "Epoch 37/50\n",
      "1856/1856 [==============================] - 0s 20us/sample - loss: 0.5383 - auc_5: 0.9150 - acc: 0.7392 - val_loss: 0.6364 - val_auc_5: 0.8744 - val_acc: 0.6898 - lr: 1.0000e-04\n",
      "Epoch 38/50\n",
      "1856/1856 [==============================] - 0s 19us/sample - loss: 0.5369 - auc_5: 0.9153 - acc: 0.7360 - val_loss: 0.6378 - val_auc_5: 0.8740 - val_acc: 0.6850 - lr: 1.0000e-04\n",
      "Epoch 39/50\n",
      "1856/1856 [==============================] - 0s 19us/sample - loss: 0.5352 - auc_5: 0.9163 - acc: 0.7398 - val_loss: 0.6378 - val_auc_5: 0.8733 - val_acc: 0.6850 - lr: 1.0000e-04\n",
      "Epoch 40/50\n",
      "1856/1856 [==============================] - 0s 19us/sample - loss: 0.5329 - auc_5: 0.9167 - acc: 0.7387 - val_loss: 0.6354 - val_auc_5: 0.8747 - val_acc: 0.6866 - lr: 1.0000e-04\n",
      "Epoch 41/50\n",
      "1856/1856 [==============================] - 0s 20us/sample - loss: 0.5299 - auc_5: 0.9178 - acc: 0.7408 - val_loss: 0.6354 - val_auc_5: 0.8746 - val_acc: 0.6914 - lr: 1.0000e-04\n",
      "Epoch 42/50\n",
      "1856/1856 [==============================] - 0s 20us/sample - loss: 0.5281 - auc_5: 0.9187 - acc: 0.7419 - val_loss: 0.6342 - val_auc_5: 0.8753 - val_acc: 0.6914 - lr: 1.0000e-04\n",
      "Epoch 43/50\n",
      "1856/1856 [==============================] - 0s 20us/sample - loss: 0.5262 - auc_5: 0.9192 - acc: 0.7468 - val_loss: 0.6344 - val_auc_5: 0.8751 - val_acc: 0.6882 - lr: 1.0000e-04\n",
      "Epoch 44/50\n",
      "1856/1856 [==============================] - 0s 20us/sample - loss: 0.5249 - auc_5: 0.9193 - acc: 0.7473 - val_loss: 0.6343 - val_auc_5: 0.8752 - val_acc: 0.6866 - lr: 1.0000e-04\n",
      "Epoch 45/50\n",
      "1856/1856 [==============================] - 0s 20us/sample - loss: 0.5228 - auc_5: 0.9201 - acc: 0.7484 - val_loss: 0.6340 - val_auc_5: 0.8752 - val_acc: 0.6914 - lr: 1.0000e-04\n",
      "Epoch 46/50\n",
      "1856/1856 [==============================] - 0s 20us/sample - loss: 0.5213 - auc_5: 0.9209 - acc: 0.7527 - val_loss: 0.6332 - val_auc_5: 0.8758 - val_acc: 0.6898 - lr: 1.0000e-04\n",
      "Epoch 47/50\n",
      "1856/1856 [==============================] - 0s 21us/sample - loss: 0.5190 - auc_5: 0.9214 - acc: 0.7500 - val_loss: 0.6328 - val_auc_5: 0.8757 - val_acc: 0.6931 - lr: 1.0000e-04\n",
      "Epoch 48/50\n",
      "1856/1856 [==============================] - 0s 22us/sample - loss: 0.5163 - auc_5: 0.9226 - acc: 0.7522 - val_loss: 0.6327 - val_auc_5: 0.8756 - val_acc: 0.6866 - lr: 1.0000e-04\n",
      "Epoch 49/50\n",
      "1856/1856 [==============================] - 0s 21us/sample - loss: 0.5161 - auc_5: 0.9225 - acc: 0.7500 - val_loss: 0.6323 - val_auc_5: 0.8761 - val_acc: 0.6898 - lr: 1.0000e-04\n",
      "Epoch 50/50\n",
      "1856/1856 [==============================] - 0s 23us/sample - loss: 0.5126 - auc_5: 0.9236 - acc: 0.7575 - val_loss: 0.6323 - val_auc_5: 0.8755 - val_acc: 0.6882 - lr: 1.0000e-04\n"
     ]
    }
   ],
   "source": [
    "model = generate_multilayer_model([256, 32])\n",
    "model.compile(loss = 'categorical_crossentropy', optimizer = Adam(learning_rate = 1e-4),\n",
    "              metrics = [tf.keras.metrics.AUC(), 'accuracy'])\n",
    "\n",
    "tf.random.set_seed(3011979)\n",
    "history = model.fit(X_train_std.values, y_train, batch_size = 64, validation_data = (X_val_std.values, y_val), epochs = 50,\n",
    "                    callbacks = [reduced_lr, early_stop], verbose = 1, shuffle = True)"
   ]
  },
  {
   "cell_type": "code",
   "execution_count": 50,
   "id": "genetic-chicken",
   "metadata": {},
   "outputs": [
    {
     "data": {
      "image/png": "[encoded data removed]",
      "text/plain": [
       "<Figure size 432x360 with 1 Axes>"
      ]
     },
     "metadata": {
      "needs_background": "light"
     },
     "output_type": "display_data"
    }
   ],
   "source": [
    "plt.figure(figsize = (6, 5))\n",
    "plt.plot(history.history['loss'], label = 'train loss')\n",
    "plt.plot(history.history['val_loss'], label = 'validation loss')\n",
    "plt.xlabel('epoch'); plt.ylabel('loss')\n",
    "plt.legend()\n",
    "plt.show()"
   ]
  },
  {
   "cell_type": "markdown",
   "id": "expressed-stone",
   "metadata": {},
   "source": [
    "## Model overfit quite quickly - Let's try adding a [dropout](https://miro.medium.com/proxy/1*iWQzxhVlvadk6VAJjsgXgg.png) layer"
   ]
  },
  {
   "cell_type": "code",
   "execution_count": 57,
   "id": "third-folks",
   "metadata": {},
   "outputs": [],
   "source": [
    "def generate_multilayer_model_with_dropout(n_hiddens, dropout_rate):\n",
    "    if len(n_hiddens) == 1:\n",
    "        return generate_model(n_hiddens[0])\n",
    "    \n",
    "    inputs = Input(shape = (X_train_std.shape[1],))\n",
    "    x = Dense(units = n_hiddens[0], activation = 'relu')(inputs)\n",
    "    \n",
    "    for n in n_hiddens[1:]:\n",
    "        x = Dropout(dropout_rate)(x)\n",
    "        x = Dense(units = n, activation = 'relu')(x)\n",
    "\n",
    "    outputs = Dense(units = 3, activation = 'softmax')(x)\n",
    "\n",
    "    return Model(inputs = inputs, outputs = outputs)"
   ]
  },
  {
   "cell_type": "code",
   "execution_count": 63,
   "id": "acting-bennett",
   "metadata": {},
   "outputs": [
    {
     "name": "stdout",
     "output_type": "stream",
     "text": [
      "Train on 1856 samples, validate on 619 samples\n",
      "Epoch 1/100\n",
      "1856/1856 [==============================] - 0s 203us/sample - loss: 1.1044 - auc_14: 0.5576 - acc: 0.3648 - val_loss: 1.0210 - val_auc_14: 0.6714 - val_acc: 0.5073 - lr: 5.0000e-05\n",
      "Epoch 2/100\n",
      "1856/1856 [==============================] - 0s 32us/sample - loss: 1.0347 - auc_14: 0.6455 - acc: 0.4564 - val_loss: 0.9514 - val_auc_14: 0.7554 - val_acc: 0.5670 - lr: 5.0000e-05\n",
      "Epoch 3/100\n",
      "1856/1856 [==============================] - 0s 32us/sample - loss: 0.9697 - auc_14: 0.7102 - acc: 0.5178 - val_loss: 0.9059 - val_auc_14: 0.7845 - val_acc: 0.5687 - lr: 5.0000e-05\n",
      "Epoch 4/100\n",
      "1856/1856 [==============================] - 0s 33us/sample - loss: 0.9317 - auc_14: 0.7435 - acc: 0.5329 - val_loss: 0.8739 - val_auc_14: 0.7986 - val_acc: 0.5654 - lr: 5.0000e-05\n",
      "Epoch 5/100\n",
      "1856/1856 [==============================] - 0s 30us/sample - loss: 0.8895 - auc_14: 0.7738 - acc: 0.5663 - val_loss: 0.8485 - val_auc_14: 0.8104 - val_acc: 0.5703 - lr: 5.0000e-05\n",
      "Epoch 6/100\n",
      "1856/1856 [==============================] - 0s 28us/sample - loss: 0.8723 - auc_14: 0.7864 - acc: 0.5867 - val_loss: 0.8263 - val_auc_14: 0.8187 - val_acc: 0.5703 - lr: 5.0000e-05\n",
      "Epoch 7/100\n",
      "1856/1856 [==============================] - 0s 29us/sample - loss: 0.8532 - auc_14: 0.7902 - acc: 0.5609 - val_loss: 0.8074 - val_auc_14: 0.8254 - val_acc: 0.5897 - lr: 5.0000e-05\n",
      "Epoch 8/100\n",
      "1856/1856 [==============================] - 0s 29us/sample - loss: 0.8295 - auc_14: 0.8071 - acc: 0.5954 - val_loss: 0.7911 - val_auc_14: 0.8305 - val_acc: 0.5994 - lr: 5.0000e-05\n",
      "Epoch 9/100\n",
      "1856/1856 [==============================] - 0s 33us/sample - loss: 0.8189 - auc_14: 0.8078 - acc: 0.5921 - val_loss: 0.7777 - val_auc_14: 0.8354 - val_acc: 0.6042 - lr: 5.0000e-05\n",
      "Epoch 10/100\n",
      "1856/1856 [==============================] - 0s 33us/sample - loss: 0.7988 - auc_14: 0.8193 - acc: 0.5981 - val_loss: 0.7651 - val_auc_14: 0.8398 - val_acc: 0.6171 - lr: 5.0000e-05\n",
      "Epoch 11/100\n",
      "1856/1856 [==============================] - 0s 32us/sample - loss: 0.7748 - auc_14: 0.8310 - acc: 0.6185 - val_loss: 0.7542 - val_auc_14: 0.8426 - val_acc: 0.6220 - lr: 5.0000e-05\n",
      "Epoch 12/100\n",
      "1856/1856 [==============================] - 0s 33us/sample - loss: 0.7738 - auc_14: 0.8314 - acc: 0.6272 - val_loss: 0.7453 - val_auc_14: 0.8448 - val_acc: 0.6252 - lr: 5.0000e-05\n",
      "Epoch 13/100\n",
      "1856/1856 [==============================] - 0s 32us/sample - loss: 0.7537 - auc_14: 0.8384 - acc: 0.6245 - val_loss: 0.7361 - val_auc_14: 0.8476 - val_acc: 0.6349 - lr: 5.0000e-05\n",
      "Epoch 14/100\n",
      "1856/1856 [==============================] - 0s 37us/sample - loss: 0.7571 - auc_14: 0.8350 - acc: 0.6266 - val_loss: 0.7296 - val_auc_14: 0.8491 - val_acc: 0.6252 - lr: 5.0000e-05\n",
      "Epoch 15/100\n",
      "1856/1856 [==============================] - 0s 39us/sample - loss: 0.7417 - auc_14: 0.8400 - acc: 0.6202 - val_loss: 0.7218 - val_auc_14: 0.8510 - val_acc: 0.6381 - lr: 5.0000e-05\n",
      "Epoch 16/100\n",
      "1856/1856 [==============================] - 0s 43us/sample - loss: 0.7294 - auc_14: 0.8455 - acc: 0.6379 - val_loss: 0.7150 - val_auc_14: 0.8532 - val_acc: 0.6397 - lr: 5.0000e-05\n",
      "Epoch 17/100\n",
      "1856/1856 [==============================] - 0s 32us/sample - loss: 0.7223 - auc_14: 0.8467 - acc: 0.6444 - val_loss: 0.7096 - val_auc_14: 0.8543 - val_acc: 0.6478 - lr: 5.0000e-05\n",
      "Epoch 18/100\n",
      "1856/1856 [==============================] - 0s 31us/sample - loss: 0.7078 - auc_14: 0.8554 - acc: 0.6611 - val_loss: 0.7049 - val_auc_14: 0.8551 - val_acc: 0.6478 - lr: 5.0000e-05\n",
      "Epoch 19/100\n",
      "1856/1856 [==============================] - 0s 32us/sample - loss: 0.7112 - auc_14: 0.8518 - acc: 0.6525 - val_loss: 0.7000 - val_auc_14: 0.8565 - val_acc: 0.6511 - lr: 5.0000e-05\n",
      "Epoch 20/100\n",
      "1856/1856 [==============================] - 0s 37us/sample - loss: 0.6922 - auc_14: 0.8613 - acc: 0.6606 - val_loss: 0.6949 - val_auc_14: 0.8586 - val_acc: 0.6511 - lr: 5.0000e-05\n",
      "Epoch 21/100\n",
      "1856/1856 [==============================] - 0s 37us/sample - loss: 0.6978 - auc_14: 0.8572 - acc: 0.6562 - val_loss: 0.6914 - val_auc_14: 0.8592 - val_acc: 0.6494 - lr: 5.0000e-05\n",
      "Epoch 22/100\n",
      "1856/1856 [==============================] - 0s 35us/sample - loss: 0.6985 - auc_14: 0.8562 - acc: 0.6557 - val_loss: 0.6875 - val_auc_14: 0.8601 - val_acc: 0.6511 - lr: 5.0000e-05\n",
      "Epoch 23/100\n",
      "1856/1856 [==============================] - 0s 30us/sample - loss: 0.6824 - auc_14: 0.8645 - acc: 0.6756 - val_loss: 0.6852 - val_auc_14: 0.8604 - val_acc: 0.6494 - lr: 5.0000e-05\n",
      "Epoch 24/100\n",
      "1856/1856 [==============================] - 0s 29us/sample - loss: 0.6662 - auc_14: 0.8728 - acc: 0.6724 - val_loss: 0.6819 - val_auc_14: 0.8611 - val_acc: 0.6478 - lr: 5.0000e-05\n",
      "Epoch 25/100\n",
      "1856/1856 [==============================] - 0s 33us/sample - loss: 0.6765 - auc_14: 0.8626 - acc: 0.6573 - val_loss: 0.6787 - val_auc_14: 0.8619 - val_acc: 0.6511 - lr: 5.0000e-05\n",
      "Epoch 26/100\n",
      "1856/1856 [==============================] - 0s 33us/sample - loss: 0.6670 - auc_14: 0.8687 - acc: 0.6659 - val_loss: 0.6762 - val_auc_14: 0.8626 - val_acc: 0.6494 - lr: 5.0000e-05\n",
      "Epoch 27/100\n",
      "1856/1856 [==============================] - 0s 31us/sample - loss: 0.6649 - auc_14: 0.8725 - acc: 0.6837 - val_loss: 0.6740 - val_auc_14: 0.8630 - val_acc: 0.6478 - lr: 5.0000e-05\n",
      "Epoch 28/100\n",
      "1856/1856 [==============================] - 0s 28us/sample - loss: 0.6647 - auc_14: 0.8733 - acc: 0.6832 - val_loss: 0.6729 - val_auc_14: 0.8631 - val_acc: 0.6511 - lr: 5.0000e-05\n",
      "Epoch 29/100\n",
      "1856/1856 [==============================] - 0s 31us/sample - loss: 0.6617 - auc_14: 0.8708 - acc: 0.6735 - val_loss: 0.6725 - val_auc_14: 0.8628 - val_acc: 0.6462 - lr: 5.0000e-05\n",
      "Epoch 30/100\n",
      "1856/1856 [==============================] - 0s 34us/sample - loss: 0.6545 - auc_14: 0.8758 - acc: 0.6929 - val_loss: 0.6712 - val_auc_14: 0.8633 - val_acc: 0.6478 - lr: 5.0000e-05\n",
      "Epoch 31/100\n",
      "1856/1856 [==============================] - 0s 33us/sample - loss: 0.6477 - auc_14: 0.8781 - acc: 0.6902 - val_loss: 0.6683 - val_auc_14: 0.8645 - val_acc: 0.6494 - lr: 5.0000e-05\n",
      "Epoch 32/100\n",
      "1856/1856 [==============================] - 0s 33us/sample - loss: 0.6619 - auc_14: 0.8689 - acc: 0.6681 - val_loss: 0.6683 - val_auc_14: 0.8640 - val_acc: 0.6462 - lr: 5.0000e-05\n",
      "Epoch 33/100\n",
      "1856/1856 [==============================] - 0s 30us/sample - loss: 0.6552 - auc_14: 0.8724 - acc: 0.6837 - val_loss: 0.6640 - val_auc_14: 0.8658 - val_acc: 0.6559 - lr: 5.0000e-05\n",
      "Epoch 34/100\n",
      "1856/1856 [==============================] - 0s 31us/sample - loss: 0.6546 - auc_14: 0.8724 - acc: 0.6735 - val_loss: 0.6620 - val_auc_14: 0.8663 - val_acc: 0.6543 - lr: 5.0000e-05\n",
      "Epoch 35/100\n",
      "1856/1856 [==============================] - 0s 28us/sample - loss: 0.6411 - auc_14: 0.8777 - acc: 0.6843 - val_loss: 0.6623 - val_auc_14: 0.8660 - val_acc: 0.6494 - lr: 5.0000e-05\n",
      "Epoch 36/100\n",
      "1856/1856 [==============================] - 0s 33us/sample - loss: 0.6420 - auc_14: 0.8796 - acc: 0.6929 - val_loss: 0.6606 - val_auc_14: 0.8665 - val_acc: 0.6494 - lr: 5.0000e-05\n",
      "Epoch 37/100\n",
      "1856/1856 [==============================] - 0s 35us/sample - loss: 0.6485 - auc_14: 0.8745 - acc: 0.6794 - val_loss: 0.6590 - val_auc_14: 0.8670 - val_acc: 0.6511 - lr: 5.0000e-05\n",
      "Epoch 38/100\n",
      "1856/1856 [==============================] - 0s 34us/sample - loss: 0.6438 - auc_14: 0.8775 - acc: 0.6821 - val_loss: 0.6609 - val_auc_14: 0.8660 - val_acc: 0.6527 - lr: 5.0000e-05\n",
      "Epoch 39/100\n",
      "1856/1856 [==============================] - 0s 34us/sample - loss: 0.6352 - auc_14: 0.8798 - acc: 0.6859 - val_loss: 0.6567 - val_auc_14: 0.8678 - val_acc: 0.6527 - lr: 5.0000e-05\n",
      "Epoch 40/100\n",
      "1856/1856 [==============================] - 0s 29us/sample - loss: 0.6343 - auc_14: 0.8799 - acc: 0.6923 - val_loss: 0.6545 - val_auc_14: 0.8686 - val_acc: 0.6575 - lr: 5.0000e-05\n",
      "Epoch 41/100\n",
      "1856/1856 [==============================] - 0s 28us/sample - loss: 0.6352 - auc_14: 0.8795 - acc: 0.6805 - val_loss: 0.6536 - val_auc_14: 0.8690 - val_acc: 0.6640 - lr: 5.0000e-05\n",
      "Epoch 42/100\n",
      "1856/1856 [==============================] - 0s 27us/sample - loss: 0.6317 - auc_14: 0.8802 - acc: 0.6789 - val_loss: 0.6521 - val_auc_14: 0.8697 - val_acc: 0.6640 - lr: 5.0000e-05\n",
      "Epoch 43/100\n"
     ]
    },
    {
     "name": "stdout",
     "output_type": "stream",
     "text": [
      "1856/1856 [==============================] - 0s 27us/sample - loss: 0.6302 - auc_14: 0.8826 - acc: 0.6950 - val_loss: 0.6540 - val_auc_14: 0.8685 - val_acc: 0.6640 - lr: 5.0000e-05\n",
      "Epoch 44/100\n",
      "1856/1856 [==============================] - 0s 28us/sample - loss: 0.6180 - auc_14: 0.8869 - acc: 0.7020 - val_loss: 0.6519 - val_auc_14: 0.8695 - val_acc: 0.6688 - lr: 5.0000e-05\n",
      "Epoch 45/100\n",
      "1856/1856 [==============================] - 0s 26us/sample - loss: 0.6299 - auc_14: 0.8794 - acc: 0.6848 - val_loss: 0.6497 - val_auc_14: 0.8702 - val_acc: 0.6656 - lr: 5.0000e-05\n",
      "Epoch 46/100\n",
      "1856/1856 [==============================] - 0s 28us/sample - loss: 0.6213 - auc_14: 0.8856 - acc: 0.6967 - val_loss: 0.6489 - val_auc_14: 0.8705 - val_acc: 0.6672 - lr: 5.0000e-05\n",
      "Epoch 47/100\n",
      "1856/1856 [==============================] - 0s 29us/sample - loss: 0.6373 - auc_14: 0.8787 - acc: 0.6837 - val_loss: 0.6486 - val_auc_14: 0.8705 - val_acc: 0.6672 - lr: 5.0000e-05\n",
      "Epoch 48/100\n",
      "1856/1856 [==============================] - 0s 34us/sample - loss: 0.6195 - auc_14: 0.8836 - acc: 0.6902 - val_loss: 0.6477 - val_auc_14: 0.8705 - val_acc: 0.6640 - lr: 5.0000e-05\n",
      "Epoch 49/100\n",
      "1856/1856 [==============================] - 0s 32us/sample - loss: 0.6247 - auc_14: 0.8800 - acc: 0.6794 - val_loss: 0.6478 - val_auc_14: 0.8706 - val_acc: 0.6640 - lr: 5.0000e-05\n",
      "Epoch 50/100\n",
      "1856/1856 [==============================] - 0s 35us/sample - loss: 0.6251 - auc_14: 0.8831 - acc: 0.6977 - val_loss: 0.6459 - val_auc_14: 0.8716 - val_acc: 0.6704 - lr: 5.0000e-05\n",
      "Epoch 51/100\n",
      "1856/1856 [==============================] - 0s 29us/sample - loss: 0.6084 - auc_14: 0.8896 - acc: 0.7053 - val_loss: 0.6455 - val_auc_14: 0.8714 - val_acc: 0.6688 - lr: 5.0000e-05\n",
      "Epoch 52/100\n",
      "1856/1856 [==============================] - 0s 28us/sample - loss: 0.6128 - auc_14: 0.8875 - acc: 0.7058 - val_loss: 0.6437 - val_auc_14: 0.8725 - val_acc: 0.6721 - lr: 5.0000e-05\n",
      "Epoch 53/100\n",
      "1856/1856 [==============================] - 0s 32us/sample - loss: 0.6088 - auc_14: 0.8880 - acc: 0.6994 - val_loss: 0.6431 - val_auc_14: 0.8725 - val_acc: 0.6721 - lr: 5.0000e-05\n",
      "Epoch 54/100\n",
      "1856/1856 [==============================] - 0s 30us/sample - loss: 0.6120 - auc_14: 0.8876 - acc: 0.7026 - val_loss: 0.6426 - val_auc_14: 0.8724 - val_acc: 0.6721 - lr: 5.0000e-05\n",
      "Epoch 55/100\n",
      "1856/1856 [==============================] - 0s 31us/sample - loss: 0.6089 - auc_14: 0.8891 - acc: 0.7020 - val_loss: 0.6425 - val_auc_14: 0.8724 - val_acc: 0.6721 - lr: 5.0000e-05\n",
      "Epoch 56/100\n",
      "1856/1856 [==============================] - 0s 31us/sample - loss: 0.6106 - auc_14: 0.8887 - acc: 0.6940 - val_loss: 0.6424 - val_auc_14: 0.8725 - val_acc: 0.6704 - lr: 5.0000e-05\n",
      "Epoch 57/100\n",
      "1856/1856 [==============================] - 0s 28us/sample - loss: 0.6005 - auc_14: 0.8934 - acc: 0.7134 - val_loss: 0.6407 - val_auc_14: 0.8732 - val_acc: 0.6721 - lr: 5.0000e-05\n",
      "Epoch 58/100\n",
      "1856/1856 [==============================] - 0s 28us/sample - loss: 0.6124 - auc_14: 0.8865 - acc: 0.7015 - val_loss: 0.6403 - val_auc_14: 0.8733 - val_acc: 0.6769 - lr: 5.0000e-05\n",
      "Epoch 59/100\n",
      "1856/1856 [==============================] - 0s 28us/sample - loss: 0.6063 - auc_14: 0.8881 - acc: 0.6983 - val_loss: 0.6405 - val_auc_14: 0.8731 - val_acc: 0.6704 - lr: 5.0000e-05\n",
      "Epoch 60/100\n",
      "1856/1856 [==============================] - 0s 37us/sample - loss: 0.6011 - auc_14: 0.8913 - acc: 0.7091 - val_loss: 0.6401 - val_auc_14: 0.8735 - val_acc: 0.6704 - lr: 5.0000e-05\n",
      "Epoch 61/100\n",
      "1856/1856 [==============================] - 0s 28us/sample - loss: 0.6080 - auc_14: 0.8878 - acc: 0.6934 - val_loss: 0.6398 - val_auc_14: 0.8733 - val_acc: 0.6737 - lr: 5.0000e-05\n",
      "Epoch 62/100\n",
      "1856/1856 [==============================] - 0s 28us/sample - loss: 0.6047 - auc_14: 0.8897 - acc: 0.6929 - val_loss: 0.6399 - val_auc_14: 0.8733 - val_acc: 0.6737 - lr: 5.0000e-05\n",
      "Epoch 63/100\n",
      "1856/1856 [==============================] - 0s 29us/sample - loss: 0.5973 - auc_14: 0.8923 - acc: 0.7080 - val_loss: 0.6395 - val_auc_14: 0.8733 - val_acc: 0.6737 - lr: 5.0000e-05\n",
      "Epoch 64/100\n",
      "1856/1856 [==============================] - 0s 26us/sample - loss: 0.5923 - auc_14: 0.8937 - acc: 0.7117 - val_loss: 0.6385 - val_auc_14: 0.8738 - val_acc: 0.6737 - lr: 5.0000e-05\n",
      "Epoch 65/100\n",
      "1856/1856 [==============================] - 0s 27us/sample - loss: 0.5950 - auc_14: 0.8939 - acc: 0.7091 - val_loss: 0.6383 - val_auc_14: 0.8740 - val_acc: 0.6737 - lr: 5.0000e-05\n",
      "Epoch 66/100\n",
      "1856/1856 [==============================] - 0s 30us/sample - loss: 0.5993 - auc_14: 0.8926 - acc: 0.7004 - val_loss: 0.6381 - val_auc_14: 0.8741 - val_acc: 0.6769 - lr: 5.0000e-05\n",
      "Epoch 67/100\n",
      "1856/1856 [==============================] - ETA: 0s - loss: 0.5733 - auc_14: 0.9019 - acc: 0.67 - 0s 32us/sample - loss: 0.6025 - auc_14: 0.8906 - acc: 0.7015 - val_loss: 0.6378 - val_auc_14: 0.8740 - val_acc: 0.6753 - lr: 5.0000e-05\n",
      "Epoch 68/100\n",
      "1856/1856 [==============================] - 0s 33us/sample - loss: 0.6065 - auc_14: 0.8893 - acc: 0.6956 - val_loss: 0.6390 - val_auc_14: 0.8733 - val_acc: 0.6753 - lr: 5.0000e-05\n",
      "Epoch 69/100\n",
      "1856/1856 [==============================] - 0s 29us/sample - loss: 0.5858 - auc_14: 0.8976 - acc: 0.7107 - val_loss: 0.6366 - val_auc_14: 0.8743 - val_acc: 0.6785 - lr: 5.0000e-05\n",
      "Epoch 70/100\n",
      "1856/1856 [==============================] - 0s 28us/sample - loss: 0.5957 - auc_14: 0.8920 - acc: 0.7026 - val_loss: 0.6371 - val_auc_14: 0.8740 - val_acc: 0.6721 - lr: 5.0000e-05\n",
      "Epoch 71/100\n",
      "1856/1856 [==============================] - 0s 30us/sample - loss: 0.5996 - auc_14: 0.8918 - acc: 0.7058 - val_loss: 0.6361 - val_auc_14: 0.8746 - val_acc: 0.6817 - lr: 5.0000e-05\n",
      "Epoch 72/100\n",
      "1856/1856 [==============================] - 0s 28us/sample - loss: 0.5895 - auc_14: 0.8963 - acc: 0.7193 - val_loss: 0.6367 - val_auc_14: 0.8742 - val_acc: 0.6753 - lr: 5.0000e-05\n",
      "Epoch 73/100\n",
      "1856/1856 [==============================] - 0s 29us/sample - loss: 0.6004 - auc_14: 0.8917 - acc: 0.7053 - val_loss: 0.6379 - val_auc_14: 0.8736 - val_acc: 0.6785 - lr: 5.0000e-05\n",
      "Epoch 74/100\n",
      "1856/1856 [==============================] - 0s 27us/sample - loss: 0.5901 - auc_14: 0.8944 - acc: 0.7155 - val_loss: 0.6349 - val_auc_14: 0.8749 - val_acc: 0.6721 - lr: 5.0000e-05\n",
      "Epoch 75/100\n",
      "1856/1856 [==============================] - 0s 27us/sample - loss: 0.5989 - auc_14: 0.8914 - acc: 0.7004 - val_loss: 0.6336 - val_auc_14: 0.8755 - val_acc: 0.6769 - lr: 5.0000e-05\n",
      "Epoch 76/100\n",
      "1856/1856 [==============================] - 0s 27us/sample - loss: 0.5925 - auc_14: 0.8942 - acc: 0.7144 - val_loss: 0.6334 - val_auc_14: 0.8756 - val_acc: 0.6753 - lr: 5.0000e-05\n",
      "Epoch 77/100\n",
      "1856/1856 [==============================] - 0s 38us/sample - loss: 0.5857 - auc_14: 0.8978 - acc: 0.7128 - val_loss: 0.6334 - val_auc_14: 0.8756 - val_acc: 0.6769 - lr: 5.0000e-05\n",
      "Epoch 78/100\n",
      "1856/1856 [==============================] - 0s 27us/sample - loss: 0.5907 - auc_14: 0.8955 - acc: 0.7096 - val_loss: 0.6356 - val_auc_14: 0.8746 - val_acc: 0.6753 - lr: 5.0000e-05\n",
      "Epoch 79/100\n",
      "1856/1856 [==============================] - 0s 27us/sample - loss: 0.5879 - auc_14: 0.8975 - acc: 0.7161 - val_loss: 0.6337 - val_auc_14: 0.8754 - val_acc: 0.6769 - lr: 5.0000e-05\n",
      "Epoch 80/100\n",
      "1856/1856 [==============================] - 0s 29us/sample - loss: 0.5776 - auc_14: 0.8994 - acc: 0.7166 - val_loss: 0.6324 - val_auc_14: 0.8759 - val_acc: 0.6801 - lr: 5.0000e-05\n",
      "Epoch 81/100\n",
      "1856/1856 [==============================] - 0s 29us/sample - loss: 0.5870 - auc_14: 0.8965 - acc: 0.7150 - val_loss: 0.6333 - val_auc_14: 0.8756 - val_acc: 0.6769 - lr: 5.0000e-05\n",
      "Epoch 82/100\n",
      "1856/1856 [==============================] - 0s 27us/sample - loss: 0.5721 - auc_14: 0.9017 - acc: 0.7311 - val_loss: 0.6344 - val_auc_14: 0.8751 - val_acc: 0.6753 - lr: 5.0000e-05\n",
      "Epoch 83/100\n",
      "1856/1856 [==============================] - 0s 27us/sample - loss: 0.5763 - auc_14: 0.8996 - acc: 0.7198 - val_loss: 0.6345 - val_auc_14: 0.8748 - val_acc: 0.6866 - lr: 5.0000e-05\n",
      "Epoch 84/100\n",
      "1856/1856 [==============================] - 0s 27us/sample - loss: 0.5716 - auc_14: 0.9012 - acc: 0.7166 - val_loss: 0.6334 - val_auc_14: 0.8753 - val_acc: 0.6817 - lr: 5.0000e-05\n",
      "Epoch 85/100\n"
     ]
    },
    {
     "name": "stdout",
     "output_type": "stream",
     "text": [
      "1856/1856 [==============================] - 0s 26us/sample - loss: 0.5801 - auc_14: 0.8988 - acc: 0.7193 - val_loss: 0.6323 - val_auc_14: 0.8756 - val_acc: 0.6753 - lr: 5.0000e-05\n",
      "Epoch 86/100\n",
      "1856/1856 [==============================] - 0s 29us/sample - loss: 0.5808 - auc_14: 0.8994 - acc: 0.7117 - val_loss: 0.6315 - val_auc_14: 0.8761 - val_acc: 0.6866 - lr: 5.0000e-05\n",
      "Epoch 87/100\n",
      "1856/1856 [==============================] - 0s 27us/sample - loss: 0.5837 - auc_14: 0.8963 - acc: 0.7031 - val_loss: 0.6302 - val_auc_14: 0.8765 - val_acc: 0.6834 - lr: 5.0000e-05\n",
      "Epoch 88/100\n",
      "1856/1856 [==============================] - 0s 26us/sample - loss: 0.5827 - auc_14: 0.8984 - acc: 0.7177 - val_loss: 0.6317 - val_auc_14: 0.8759 - val_acc: 0.6817 - lr: 5.0000e-05\n",
      "Epoch 89/100\n",
      "1856/1856 [==============================] - 0s 27us/sample - loss: 0.5807 - auc_14: 0.8995 - acc: 0.7209 - val_loss: 0.6307 - val_auc_14: 0.8764 - val_acc: 0.6850 - lr: 5.0000e-05\n",
      "Epoch 90/100\n",
      "1856/1856 [==============================] - 0s 27us/sample - loss: 0.5756 - auc_14: 0.9004 - acc: 0.7252 - val_loss: 0.6322 - val_auc_14: 0.8758 - val_acc: 0.6769 - lr: 5.0000e-05\n",
      "Epoch 91/100\n",
      "1856/1856 [==============================] - 0s 28us/sample - loss: 0.5857 - auc_14: 0.8954 - acc: 0.7155 - val_loss: 0.6331 - val_auc_14: 0.8751 - val_acc: 0.6769 - lr: 5.0000e-05\n",
      "Epoch 92/100\n",
      "1856/1856 [==============================] - 0s 97us/sample - loss: 0.5756 - auc_14: 0.9003 - acc: 0.7225 - val_loss: 0.6326 - val_auc_14: 0.8753 - val_acc: 0.6721 - lr: 5.0000e-05\n",
      "Epoch 93/100\n",
      "1856/1856 [==============================] - 0s 30us/sample - loss: 0.5809 - auc_14: 0.8974 - acc: 0.7085 - val_loss: 0.6321 - val_auc_14: 0.8754 - val_acc: 0.6737 - lr: 1.0000e-05\n",
      "Epoch 94/100\n",
      "1856/1856 [==============================] - 0s 27us/sample - loss: 0.5752 - auc_14: 0.8999 - acc: 0.7171 - val_loss: 0.6324 - val_auc_14: 0.8754 - val_acc: 0.6753 - lr: 1.0000e-05\n",
      "Epoch 95/100\n",
      "1856/1856 [==============================] - 0s 28us/sample - loss: 0.5710 - auc_14: 0.9026 - acc: 0.7198 - val_loss: 0.6320 - val_auc_14: 0.8755 - val_acc: 0.6769 - lr: 1.0000e-05\n",
      "Epoch 96/100\n",
      "1856/1856 [==============================] - 0s 28us/sample - loss: 0.5729 - auc_14: 0.9011 - acc: 0.7150 - val_loss: 0.6321 - val_auc_14: 0.8755 - val_acc: 0.6753 - lr: 1.0000e-05\n",
      "Epoch 97/100\n",
      "1856/1856 [==============================] - 0s 109us/sample - loss: 0.5754 - auc_14: 0.8999 - acc: 0.7117 - val_loss: 0.6323 - val_auc_14: 0.8754 - val_acc: 0.6769 - lr: 1.0000e-05\n"
     ]
    }
   ],
   "source": [
    "model = generate_multilayer_model_with_dropout([256, 32], 0.4)\n",
    "model.compile(loss = 'categorical_crossentropy', optimizer = Adam(learning_rate = 5e-5),\n",
    "              metrics = [tf.keras.metrics.AUC(), 'accuracy'])\n",
    "\n",
    "tf.random.set_seed(3011979)\n",
    "history = model.fit(X_train_std.values, y_train, batch_size = 64, validation_data = (X_val_std.values, y_val), epochs = 100,\n",
    "                    callbacks = [reduced_lr, early_stop], verbose = 1, shuffle = True)"
   ]
  },
  {
   "cell_type": "code",
   "execution_count": 64,
   "id": "intended-facility",
   "metadata": {},
   "outputs": [
    {
     "data": {
      "image/png": "[encoded data removed]",
      "text/plain": [
       "<Figure size 432x360 with 1 Axes>"
      ]
     },
     "metadata": {
      "needs_background": "light"
     },
     "output_type": "display_data"
    }
   ],
   "source": [
    "plt.figure(figsize = (6, 5))\n",
    "plt.plot(history.history['loss'], label = 'train loss')\n",
    "plt.plot(history.history['val_loss'], label = 'validation loss')\n",
    "plt.xlabel('epoch'); plt.ylabel('loss')\n",
    "plt.legend()\n",
    "plt.show()"
   ]
  },
  {
   "cell_type": "markdown",
   "id": "neither-opportunity",
   "metadata": {},
   "source": [
    "## Examine model performance"
   ]
  },
  {
   "cell_type": "code",
   "execution_count": 65,
   "id": "realistic-paint",
   "metadata": {},
   "outputs": [
    {
     "name": "stdout",
     "output_type": "stream",
     "text": [
      "              precision    recall  f1-score   support\n",
      "\n",
      "           0       0.61      0.65      0.63       237\n",
      "           1       0.56      0.50      0.53       210\n",
      "           2       0.84      0.87      0.85       172\n",
      "\n",
      "    accuracy                           0.66       619\n",
      "   macro avg       0.67      0.67      0.67       619\n",
      "weighted avg       0.66      0.66      0.66       619\n",
      "\n"
     ]
    },
    {
     "name": "stderr",
     "output_type": "stream",
     "text": [
      "`Model.state_updates` will be removed in a future version. This property should not be used in TensorFlow 2.0, as `updates` are applied automatically.\n"
     ]
    }
   ],
   "source": [
    "print(classification_report(np.argmax(y_test, axis = 1), np.argmax(model.predict(X_test_std), axis = 1)))"
   ]
  },
  {
   "cell_type": "markdown",
   "id": "lonely-brass",
   "metadata": {},
   "source": [
    "## The single-layer model with 256 hidden neurons performs best"
   ]
  },
  {
   "cell_type": "markdown",
   "id": "digital-message",
   "metadata": {},
   "source": [
    "## For another example, we will explore [Fashion MNIST](https://www.kaggle.com/datasets/zalando-research/fashionmnist) dataset"
   ]
  },
  {
   "cell_type": "code",
   "execution_count": 80,
   "id": "respiratory-massachusetts",
   "metadata": {},
   "outputs": [
    {
     "data": {
      "text/html": [
       "<div>\n",
       "<style scoped>\n",
       "    .dataframe tbody tr th:only-of-type {\n",
       "        vertical-align: middle;\n",
       "    }\n",
       "\n",
       "    .dataframe tbody tr th {\n",
       "        vertical-align: top;\n",
       "    }\n",
       "\n",
       "    .dataframe thead th {\n",
       "        text-align: right;\n",
       "    }\n",
       "</style>\n",
       "<table border=\"1\" class=\"dataframe\">\n",
       "  <thead>\n",
       "    <tr style=\"text-align: right;\">\n",
       "      <th></th>\n",
       "      <th>label</th>\n",
       "      <th>pixel1</th>\n",
       "      <th>pixel2</th>\n",
       "      <th>pixel3</th>\n",
       "      <th>pixel4</th>\n",
       "      <th>pixel5</th>\n",
       "      <th>pixel6</th>\n",
       "      <th>pixel7</th>\n",
       "      <th>pixel8</th>\n",
       "      <th>pixel9</th>\n",
       "      <th>...</th>\n",
       "      <th>pixel775</th>\n",
       "      <th>pixel776</th>\n",
       "      <th>pixel777</th>\n",
       "      <th>pixel778</th>\n",
       "      <th>pixel779</th>\n",
       "      <th>pixel780</th>\n",
       "      <th>pixel781</th>\n",
       "      <th>pixel782</th>\n",
       "      <th>pixel783</th>\n",
       "      <th>pixel784</th>\n",
       "    </tr>\n",
       "  </thead>\n",
       "  <tbody>\n",
       "    <tr>\n",
       "      <th>0</th>\n",
       "      <td>2</td>\n",
       "      <td>0</td>\n",
       "      <td>0</td>\n",
       "      <td>0</td>\n",
       "      <td>0</td>\n",
       "      <td>0</td>\n",
       "      <td>0</td>\n",
       "      <td>0</td>\n",
       "      <td>0</td>\n",
       "      <td>0</td>\n",
       "      <td>...</td>\n",
       "      <td>0</td>\n",
       "      <td>0</td>\n",
       "      <td>0</td>\n",
       "      <td>0</td>\n",
       "      <td>0</td>\n",
       "      <td>0</td>\n",
       "      <td>0</td>\n",
       "      <td>0</td>\n",
       "      <td>0</td>\n",
       "      <td>0</td>\n",
       "    </tr>\n",
       "    <tr>\n",
       "      <th>1</th>\n",
       "      <td>9</td>\n",
       "      <td>0</td>\n",
       "      <td>0</td>\n",
       "      <td>0</td>\n",
       "      <td>0</td>\n",
       "      <td>0</td>\n",
       "      <td>0</td>\n",
       "      <td>0</td>\n",
       "      <td>0</td>\n",
       "      <td>0</td>\n",
       "      <td>...</td>\n",
       "      <td>0</td>\n",
       "      <td>0</td>\n",
       "      <td>0</td>\n",
       "      <td>0</td>\n",
       "      <td>0</td>\n",
       "      <td>0</td>\n",
       "      <td>0</td>\n",
       "      <td>0</td>\n",
       "      <td>0</td>\n",
       "      <td>0</td>\n",
       "    </tr>\n",
       "    <tr>\n",
       "      <th>2</th>\n",
       "      <td>6</td>\n",
       "      <td>0</td>\n",
       "      <td>0</td>\n",
       "      <td>0</td>\n",
       "      <td>0</td>\n",
       "      <td>0</td>\n",
       "      <td>0</td>\n",
       "      <td>0</td>\n",
       "      <td>5</td>\n",
       "      <td>0</td>\n",
       "      <td>...</td>\n",
       "      <td>0</td>\n",
       "      <td>0</td>\n",
       "      <td>0</td>\n",
       "      <td>30</td>\n",
       "      <td>43</td>\n",
       "      <td>0</td>\n",
       "      <td>0</td>\n",
       "      <td>0</td>\n",
       "      <td>0</td>\n",
       "      <td>0</td>\n",
       "    </tr>\n",
       "    <tr>\n",
       "      <th>3</th>\n",
       "      <td>0</td>\n",
       "      <td>0</td>\n",
       "      <td>0</td>\n",
       "      <td>0</td>\n",
       "      <td>1</td>\n",
       "      <td>2</td>\n",
       "      <td>0</td>\n",
       "      <td>0</td>\n",
       "      <td>0</td>\n",
       "      <td>0</td>\n",
       "      <td>...</td>\n",
       "      <td>3</td>\n",
       "      <td>0</td>\n",
       "      <td>0</td>\n",
       "      <td>0</td>\n",
       "      <td>0</td>\n",
       "      <td>1</td>\n",
       "      <td>0</td>\n",
       "      <td>0</td>\n",
       "      <td>0</td>\n",
       "      <td>0</td>\n",
       "    </tr>\n",
       "    <tr>\n",
       "      <th>4</th>\n",
       "      <td>3</td>\n",
       "      <td>0</td>\n",
       "      <td>0</td>\n",
       "      <td>0</td>\n",
       "      <td>0</td>\n",
       "      <td>0</td>\n",
       "      <td>0</td>\n",
       "      <td>0</td>\n",
       "      <td>0</td>\n",
       "      <td>0</td>\n",
       "      <td>...</td>\n",
       "      <td>0</td>\n",
       "      <td>0</td>\n",
       "      <td>0</td>\n",
       "      <td>0</td>\n",
       "      <td>0</td>\n",
       "      <td>0</td>\n",
       "      <td>0</td>\n",
       "      <td>0</td>\n",
       "      <td>0</td>\n",
       "      <td>0</td>\n",
       "    </tr>\n",
       "    <tr>\n",
       "      <th>5</th>\n",
       "      <td>4</td>\n",
       "      <td>0</td>\n",
       "      <td>0</td>\n",
       "      <td>0</td>\n",
       "      <td>5</td>\n",
       "      <td>4</td>\n",
       "      <td>5</td>\n",
       "      <td>5</td>\n",
       "      <td>3</td>\n",
       "      <td>5</td>\n",
       "      <td>...</td>\n",
       "      <td>7</td>\n",
       "      <td>8</td>\n",
       "      <td>7</td>\n",
       "      <td>4</td>\n",
       "      <td>3</td>\n",
       "      <td>7</td>\n",
       "      <td>5</td>\n",
       "      <td>0</td>\n",
       "      <td>0</td>\n",
       "      <td>0</td>\n",
       "    </tr>\n",
       "    <tr>\n",
       "      <th>6</th>\n",
       "      <td>4</td>\n",
       "      <td>0</td>\n",
       "      <td>0</td>\n",
       "      <td>0</td>\n",
       "      <td>0</td>\n",
       "      <td>0</td>\n",
       "      <td>0</td>\n",
       "      <td>0</td>\n",
       "      <td>0</td>\n",
       "      <td>0</td>\n",
       "      <td>...</td>\n",
       "      <td>14</td>\n",
       "      <td>0</td>\n",
       "      <td>0</td>\n",
       "      <td>0</td>\n",
       "      <td>0</td>\n",
       "      <td>0</td>\n",
       "      <td>0</td>\n",
       "      <td>0</td>\n",
       "      <td>0</td>\n",
       "      <td>0</td>\n",
       "    </tr>\n",
       "    <tr>\n",
       "      <th>7</th>\n",
       "      <td>5</td>\n",
       "      <td>0</td>\n",
       "      <td>0</td>\n",
       "      <td>0</td>\n",
       "      <td>0</td>\n",
       "      <td>0</td>\n",
       "      <td>0</td>\n",
       "      <td>0</td>\n",
       "      <td>0</td>\n",
       "      <td>0</td>\n",
       "      <td>...</td>\n",
       "      <td>0</td>\n",
       "      <td>0</td>\n",
       "      <td>0</td>\n",
       "      <td>0</td>\n",
       "      <td>0</td>\n",
       "      <td>0</td>\n",
       "      <td>0</td>\n",
       "      <td>0</td>\n",
       "      <td>0</td>\n",
       "      <td>0</td>\n",
       "    </tr>\n",
       "    <tr>\n",
       "      <th>8</th>\n",
       "      <td>4</td>\n",
       "      <td>0</td>\n",
       "      <td>0</td>\n",
       "      <td>0</td>\n",
       "      <td>0</td>\n",
       "      <td>0</td>\n",
       "      <td>0</td>\n",
       "      <td>3</td>\n",
       "      <td>2</td>\n",
       "      <td>0</td>\n",
       "      <td>...</td>\n",
       "      <td>1</td>\n",
       "      <td>0</td>\n",
       "      <td>0</td>\n",
       "      <td>0</td>\n",
       "      <td>0</td>\n",
       "      <td>0</td>\n",
       "      <td>0</td>\n",
       "      <td>0</td>\n",
       "      <td>0</td>\n",
       "      <td>0</td>\n",
       "    </tr>\n",
       "    <tr>\n",
       "      <th>9</th>\n",
       "      <td>8</td>\n",
       "      <td>0</td>\n",
       "      <td>0</td>\n",
       "      <td>0</td>\n",
       "      <td>0</td>\n",
       "      <td>0</td>\n",
       "      <td>0</td>\n",
       "      <td>0</td>\n",
       "      <td>0</td>\n",
       "      <td>0</td>\n",
       "      <td>...</td>\n",
       "      <td>203</td>\n",
       "      <td>214</td>\n",
       "      <td>166</td>\n",
       "      <td>0</td>\n",
       "      <td>0</td>\n",
       "      <td>0</td>\n",
       "      <td>0</td>\n",
       "      <td>0</td>\n",
       "      <td>0</td>\n",
       "      <td>0</td>\n",
       "    </tr>\n",
       "  </tbody>\n",
       "</table>\n",
       "<p>10 rows × 785 columns</p>\n",
       "</div>"
      ],
      "text/plain": [
       "   label  pixel1  pixel2  pixel3  pixel4  pixel5  pixel6  pixel7  pixel8  \\\n",
       "0      2       0       0       0       0       0       0       0       0   \n",
       "1      9       0       0       0       0       0       0       0       0   \n",
       "2      6       0       0       0       0       0       0       0       5   \n",
       "3      0       0       0       0       1       2       0       0       0   \n",
       "4      3       0       0       0       0       0       0       0       0   \n",
       "5      4       0       0       0       5       4       5       5       3   \n",
       "6      4       0       0       0       0       0       0       0       0   \n",
       "7      5       0       0       0       0       0       0       0       0   \n",
       "8      4       0       0       0       0       0       0       3       2   \n",
       "9      8       0       0       0       0       0       0       0       0   \n",
       "\n",
       "   pixel9  ...  pixel775  pixel776  pixel777  pixel778  pixel779  pixel780  \\\n",
       "0       0  ...         0         0         0         0         0         0   \n",
       "1       0  ...         0         0         0         0         0         0   \n",
       "2       0  ...         0         0         0        30        43         0   \n",
       "3       0  ...         3         0         0         0         0         1   \n",
       "4       0  ...         0         0         0         0         0         0   \n",
       "5       5  ...         7         8         7         4         3         7   \n",
       "6       0  ...        14         0         0         0         0         0   \n",
       "7       0  ...         0         0         0         0         0         0   \n",
       "8       0  ...         1         0         0         0         0         0   \n",
       "9       0  ...       203       214       166         0         0         0   \n",
       "\n",
       "   pixel781  pixel782  pixel783  pixel784  \n",
       "0         0         0         0         0  \n",
       "1         0         0         0         0  \n",
       "2         0         0         0         0  \n",
       "3         0         0         0         0  \n",
       "4         0         0         0         0  \n",
       "5         5         0         0         0  \n",
       "6         0         0         0         0  \n",
       "7         0         0         0         0  \n",
       "8         0         0         0         0  \n",
       "9         0         0         0         0  \n",
       "\n",
       "[10 rows x 785 columns]"
      ]
     },
     "execution_count": 80,
     "metadata": {},
     "output_type": "execute_result"
    }
   ],
   "source": [
    "data = pd.read_csv('L11.2_mnist_fashion.csv', header = 0, index_col = False)\n",
    "data.head(10)"
   ]
  },
  {
   "cell_type": "markdown",
   "id": "simplified-essay",
   "metadata": {},
   "source": [
    "## Extract label and input portions"
   ]
  },
  {
   "cell_type": "code",
   "execution_count": 81,
   "id": "frank-relay",
   "metadata": {},
   "outputs": [
    {
     "name": "stdout",
     "output_type": "stream",
     "text": [
      "input data shape: (60000, 784)\n"
     ]
    }
   ],
   "source": [
    "mnist_label = data['label']\n",
    "input_data = data.iloc[:, 1:]\n",
    "\n",
    "print('input data shape:', input_data.shape)"
   ]
  },
  {
   "cell_type": "code",
   "execution_count": 124,
   "id": "opponent-harbor",
   "metadata": {},
   "outputs": [
    {
     "name": "stdout",
     "output_type": "stream",
     "text": [
      "number of classes: 10\n"
     ]
    }
   ],
   "source": [
    "label = OneHotEncoder(sparse = False).fit_transform(mnist_label.values.reshape([-1, 1]))\n",
    "print('number of classes:', len(np.unique(mnist_label)))"
   ]
  },
  {
   "cell_type": "code",
   "execution_count": 125,
   "id": "prescription-telephone",
   "metadata": {},
   "outputs": [
    {
     "data": {
      "text/plain": [
       "array([[0., 0., 1., ..., 0., 0., 0.],\n",
       "       [0., 0., 0., ..., 0., 0., 1.],\n",
       "       [0., 0., 0., ..., 0., 0., 0.],\n",
       "       ...,\n",
       "       [0., 0., 0., ..., 0., 1., 0.],\n",
       "       [0., 0., 0., ..., 0., 1., 0.],\n",
       "       [0., 0., 0., ..., 1., 0., 0.]])"
      ]
     },
     "execution_count": 125,
     "metadata": {},
     "output_type": "execute_result"
    }
   ],
   "source": [
    "label"
   ]
  },
  {
   "cell_type": "markdown",
   "id": "static-weekend",
   "metadata": {},
   "source": [
    "## Split data into 60:20:20 portion"
   ]
  },
  {
   "cell_type": "code",
   "execution_count": 126,
   "id": "tight-organizer",
   "metadata": {},
   "outputs": [
    {
     "name": "stdout",
     "output_type": "stream",
     "text": [
      "training size: 36000\n",
      "validation size: 12000\n",
      "test size: 12000\n"
     ]
    }
   ],
   "source": [
    "X_trainval, X_test, y_trainval, y_test = train_test_split(input_data, label, test_size = 0.2,\n",
    "                                                          stratify = mnist_label, random_state = 3011979)\n",
    "\n",
    "X_train, X_val, y_train, y_val = train_test_split(X_trainval, y_trainval, test_size = 0.25,\n",
    "                                                  stratify = mnist_label.loc[X_trainval.index], random_state = 3011979)\n",
    "\n",
    "X_scaler = StandardScaler(with_mean = True, with_std = True).fit(X_train)\n",
    "X_train_std = pd.DataFrame(X_scaler.transform(X_train), index = X_train.index, columns = X_train.columns)\n",
    "X_val_std = pd.DataFrame(X_scaler.transform(X_val), index = X_val.index, columns = X_val.columns)\n",
    "X_test_std = pd.DataFrame(X_scaler.transform(X_test), index = X_test.index, columns = X_test.columns)\n",
    "\n",
    "print('training size:', X_train.shape[0])\n",
    "print('validation size:', X_val.shape[0])\n",
    "print('test size:', X_test.shape[0])"
   ]
  },
  {
   "cell_type": "markdown",
   "id": "rough-breath",
   "metadata": {},
   "source": [
    "## Let's train a fully-connected model\n",
    "Change the number of output head from 3 to 10"
   ]
  },
  {
   "cell_type": "code",
   "execution_count": 127,
   "id": "private-associate",
   "metadata": {},
   "outputs": [],
   "source": [
    "def generate_model_mnist(n_hidden):\n",
    "    inputs = Input(shape = (X_train_std.shape[1],))\n",
    "    x = Dense(units = n_hidden, activation = 'relu')(inputs)\n",
    "    outputs = Dense(units = 10, activation = 'softmax')(x)\n",
    "\n",
    "    return Model(inputs = inputs, outputs = outputs)"
   ]
  },
  {
   "cell_type": "code",
   "execution_count": 132,
   "id": "armed-architect",
   "metadata": {
    "scrolled": false
   },
   "outputs": [
    {
     "name": "stdout",
     "output_type": "stream",
     "text": [
      "Train on 36000 samples, validate on 12000 samples\n",
      "Epoch 1/50\n",
      "36000/36000 [==============================] - 5s 143us/sample - loss: 0.6054 - val_loss: 0.4535 - lr: 5.0000e-05\n",
      "Epoch 2/50\n",
      "36000/36000 [==============================] - 4s 115us/sample - loss: 0.3989 - val_loss: 0.4051 - lr: 5.0000e-05\n",
      "Epoch 3/50\n",
      "36000/36000 [==============================] - 4s 115us/sample - loss: 0.3519 - val_loss: 0.3824 - lr: 5.0000e-05\n",
      "Epoch 4/50\n",
      "36000/36000 [==============================] - 4s 116us/sample - loss: 0.3221 - val_loss: 0.3715 - lr: 5.0000e-05\n",
      "Epoch 5/50\n",
      "36000/36000 [==============================] - 4s 118us/sample - loss: 0.2996 - val_loss: 0.3574 - lr: 5.0000e-05\n",
      "Epoch 6/50\n",
      "36000/36000 [==============================] - 4s 121us/sample - loss: 0.2825 - val_loss: 0.3515 - lr: 5.0000e-05\n",
      "Epoch 7/50\n",
      "36000/36000 [==============================] - 4s 116us/sample - loss: 0.2673 - val_loss: 0.3456 - lr: 5.0000e-05\n",
      "Epoch 8/50\n",
      "36000/36000 [==============================] - 4s 115us/sample - loss: 0.2543 - val_loss: 0.3382 - lr: 5.0000e-05\n",
      "Epoch 9/50\n",
      "36000/36000 [==============================] - 4s 117us/sample - loss: 0.2429 - val_loss: 0.3395 - lr: 5.0000e-05\n",
      "Epoch 10/50\n",
      "36000/36000 [==============================] - 4s 119us/sample - loss: 0.2313 - val_loss: 0.3313 - lr: 5.0000e-05\n",
      "Epoch 11/50\n",
      "36000/36000 [==============================] - 4s 117us/sample - loss: 0.2214 - val_loss: 0.3339 - lr: 5.0000e-05\n",
      "Epoch 12/50\n",
      "36000/36000 [==============================] - 4s 116us/sample - loss: 0.2128 - val_loss: 0.3266 - lr: 5.0000e-05\n",
      "Epoch 13/50\n",
      "36000/36000 [==============================] - 4s 119us/sample - loss: 0.2028 - val_loss: 0.3272 - lr: 5.0000e-05\n",
      "Epoch 14/50\n",
      "36000/36000 [==============================] - 4s 116us/sample - loss: 0.1953 - val_loss: 0.3250 - lr: 5.0000e-05\n",
      "Epoch 15/50\n",
      "36000/36000 [==============================] - 5s 125us/sample - loss: 0.1870 - val_loss: 0.3245 - lr: 5.0000e-05\n",
      "Epoch 16/50\n",
      "36000/36000 [==============================] - 4s 119us/sample - loss: 0.1800 - val_loss: 0.3262 - lr: 5.0000e-05\n",
      "Epoch 17/50\n",
      "36000/36000 [==============================] - 4s 117us/sample - loss: 0.1734 - val_loss: 0.3238 - lr: 5.0000e-05\n",
      "Epoch 18/50\n",
      "36000/36000 [==============================] - 4s 116us/sample - loss: 0.1664 - val_loss: 0.3248 - lr: 5.0000e-05\n",
      "Epoch 19/50\n",
      "36000/36000 [==============================] - 4s 117us/sample - loss: 0.1599 - val_loss: 0.3228 - lr: 5.0000e-05\n",
      "Epoch 20/50\n",
      "36000/36000 [==============================] - 4s 125us/sample - loss: 0.1546 - val_loss: 0.3249 - lr: 5.0000e-05\n",
      "Epoch 21/50\n",
      "36000/36000 [==============================] - 5s 126us/sample - loss: 0.1480 - val_loss: 0.3197 - lr: 5.0000e-05\n",
      "Epoch 22/50\n",
      "36000/36000 [==============================] - 4s 116us/sample - loss: 0.1427 - val_loss: 0.3212 - lr: 5.0000e-05\n",
      "Epoch 23/50\n",
      "36000/36000 [==============================] - 4s 123us/sample - loss: 0.1376 - val_loss: 0.3273 - lr: 5.0000e-05\n",
      "Epoch 24/50\n",
      "36000/36000 [==============================] - 4s 117us/sample - loss: 0.1323 - val_loss: 0.3238 - lr: 5.0000e-05\n",
      "Epoch 25/50\n",
      "36000/36000 [==============================] - 4s 125us/sample - loss: 0.1270 - val_loss: 0.3224 - lr: 5.0000e-05\n",
      "Epoch 26/50\n",
      "36000/36000 [==============================] - 4s 124us/sample - loss: 0.1223 - val_loss: 0.3288 - lr: 5.0000e-05\n",
      "Epoch 27/50\n",
      "36000/36000 [==============================] - 4s 117us/sample - loss: 0.1102 - val_loss: 0.3208 - lr: 1.0000e-05\n",
      "Epoch 28/50\n",
      "36000/36000 [==============================] - 4s 123us/sample - loss: 0.1086 - val_loss: 0.3211 - lr: 1.0000e-05\n",
      "Epoch 29/50\n",
      "36000/36000 [==============================] - 4s 117us/sample - loss: 0.1074 - val_loss: 0.3219 - lr: 1.0000e-05\n",
      "Epoch 30/50\n",
      "36000/36000 [==============================] - 4s 116us/sample - loss: 0.1063 - val_loss: 0.3215 - lr: 1.0000e-05\n",
      "Epoch 31/50\n",
      "36000/36000 [==============================] - 5s 138us/sample - loss: 0.1055 - val_loss: 0.3216 - lr: 1.0000e-05\n"
     ]
    }
   ],
   "source": [
    "model = generate_model_mnist(1024)\n",
    "model.compile(loss = 'categorical_crossentropy', optimizer = Adam(learning_rate = 5e-5))\n",
    "\n",
    "tf.random.set_seed(3011979)\n",
    "history = model.fit(X_train_std.values, y_train, batch_size = 64, validation_data = (X_val_std.values, y_val), epochs = 50,\n",
    "                    callbacks = [reduced_lr, early_stop], verbose = 1, shuffle = True)"
   ]
  },
  {
   "cell_type": "code",
   "execution_count": 133,
   "id": "optimum-adaptation",
   "metadata": {},
   "outputs": [
    {
     "data": {
      "image/png": "[encoded data removed]",
      "text/plain": [
       "<Figure size 432x360 with 1 Axes>"
      ]
     },
     "metadata": {
      "needs_background": "light"
     },
     "output_type": "display_data"
    }
   ],
   "source": [
    "plt.figure(figsize = (6, 5))\n",
    "plt.plot(history.history['loss'], label = 'train loss')\n",
    "plt.plot(history.history['val_loss'], label = 'validation loss')\n",
    "plt.xlabel('epoch'); plt.ylabel('loss')\n",
    "plt.legend()\n",
    "plt.show()"
   ]
  },
  {
   "cell_type": "code",
   "execution_count": 134,
   "id": "average-broadway",
   "metadata": {},
   "outputs": [
    {
     "name": "stderr",
     "output_type": "stream",
     "text": [
      "`Model.state_updates` will be removed in a future version. This property should not be used in TensorFlow 2.0, as `updates` are applied automatically.\n"
     ]
    },
    {
     "name": "stdout",
     "output_type": "stream",
     "text": [
      "              precision    recall  f1-score   support\n",
      "\n",
      "           0       0.81      0.86      0.83      1200\n",
      "           1       0.99      0.98      0.98      1200\n",
      "           2       0.84      0.81      0.82      1200\n",
      "           3       0.88      0.89      0.89      1200\n",
      "           4       0.80      0.83      0.82      1200\n",
      "           5       0.95      0.95      0.95      1200\n",
      "           6       0.73      0.68      0.70      1200\n",
      "           7       0.94      0.95      0.95      1200\n",
      "           8       0.96      0.96      0.96      1200\n",
      "           9       0.97      0.95      0.96      1200\n",
      "\n",
      "    accuracy                           0.89     12000\n",
      "   macro avg       0.89      0.89      0.89     12000\n",
      "weighted avg       0.89      0.89      0.89     12000\n",
      "\n"
     ]
    }
   ],
   "source": [
    "print(classification_report(np.argmax(y_test, axis = 1), np.argmax(model.predict(X_test_std), axis = 1)))"
   ]
  },
  {
   "cell_type": "markdown",
   "id": "sought-anniversary",
   "metadata": {},
   "source": [
    "## These data are actually image - Transform 784 x 1 to 28 x 28"
   ]
  },
  {
   "cell_type": "code",
   "execution_count": 94,
   "id": "according-reflection",
   "metadata": {},
   "outputs": [
    {
     "name": "stdout",
     "output_type": "stream",
     "text": [
      "shape of new input data: (60000, 28, 28, 1)\n"
     ]
    }
   ],
   "source": [
    "reshaped_data = []\n",
    "\n",
    "for i in range(input_data.shape[0]):\n",
    "    reshaped_data.append(np.reshape(input_data.iloc[i, :].to_numpy(), (28, 28, 1)))\n",
    "\n",
    "reshaped_data = np.array(reshaped_data)\n",
    "print('shape of new input data:', reshaped_data.shape)"
   ]
  },
  {
   "cell_type": "code",
   "execution_count": 96,
   "id": "empirical-hunger",
   "metadata": {},
   "outputs": [
    {
     "data": {
      "text/plain": [
       "<matplotlib.image.AxesImage at 0x140efcc8250>"
      ]
     },
     "execution_count": 96,
     "metadata": {},
     "output_type": "execute_result"
    },
    {
     "data": {
      "image/png": "[encoded data removed]",
      "text/plain": [
       "<Figure size 432x288 with 1 Axes>"
      ]
     },
     "metadata": {
      "needs_background": "light"
     },
     "output_type": "display_data"
    }
   ],
   "source": [
    "plt.imshow(reshaped_data[0, :], cmap = 'gray')"
   ]
  },
  {
   "cell_type": "code",
   "execution_count": 98,
   "id": "rural-purchase",
   "metadata": {},
   "outputs": [
    {
     "data": {
      "text/plain": [
       "<matplotlib.image.AxesImage at 0x140edc48eb0>"
      ]
     },
     "execution_count": 98,
     "metadata": {},
     "output_type": "execute_result"
    },
    {
     "data": {
      "image/png": "[encoded data removed]",
      "text/plain": [
       "<Figure size 432x288 with 1 Axes>"
      ]
     },
     "metadata": {
      "needs_background": "light"
     },
     "output_type": "display_data"
    }
   ],
   "source": [
    "plt.imshow(reshaped_data[200, :], cmap = 'gray')"
   ]
  },
  {
   "cell_type": "code",
   "execution_count": 136,
   "id": "defensive-starter",
   "metadata": {},
   "outputs": [
    {
     "data": {
      "text/plain": [
       "<matplotlib.image.AxesImage at 0x140fe512190>"
      ]
     },
     "execution_count": 136,
     "metadata": {},
     "output_type": "execute_result"
    },
    {
     "data": {
      "image/png": "[encoded data removed]",
      "text/plain": [
       "<Figure size 432x288 with 1 Axes>"
      ]
     },
     "metadata": {
      "needs_background": "light"
     },
     "output_type": "display_data"
    }
   ],
   "source": [
    "plt.imshow(reshaped_data[16000, :], cmap = 'gray')"
   ]
  },
  {
   "cell_type": "markdown",
   "id": "normal-distance",
   "metadata": {},
   "source": [
    "## Split the reshaped data and scale gray value from 0-255 to 0-1"
   ]
  },
  {
   "cell_type": "code",
   "execution_count": 101,
   "id": "typical-tissue",
   "metadata": {},
   "outputs": [
    {
     "name": "stdout",
     "output_type": "stream",
     "text": [
      "training size: 36000\n",
      "validation size: 12000\n",
      "test size: 12000\n"
     ]
    }
   ],
   "source": [
    "X_reshaped_train = reshaped_data[[i for i in range(input_data.shape[0]) if input_data.index[i] in X_train.index], :]\n",
    "X_reshaped_val = reshaped_data[[i for i in range(input_data.shape[0]) if input_data.index[i] in X_val.index], :]\n",
    "X_reshaped_test = reshaped_data[[i for i in range(input_data.shape[0]) if input_data.index[i] in X_test.index], :]\n",
    "\n",
    "X_reshaped_train = X_reshaped_train / 255.0\n",
    "X_reshaped_val = X_reshaped_val / 255.0\n",
    "X_reshaped_test = X_reshaped_test / 255.0\n",
    "\n",
    "print('training size:', X_reshaped_train.shape[0])\n",
    "print('validation size:', X_reshaped_val.shape[0])\n",
    "print('test size:', X_reshaped_test.shape[0])"
   ]
  },
  {
   "cell_type": "markdown",
   "id": "polish-burner",
   "metadata": {},
   "source": [
    "## Define a basic CNN model\n",
    "Sequential() is another way to construct model with no branch"
   ]
  },
  {
   "cell_type": "code",
   "execution_count": 137,
   "id": "assumed-exclusive",
   "metadata": {},
   "outputs": [],
   "source": [
    "model = Sequential()\n",
    "model.add(Conv2D(filters = 64, kernel_size = [5, 5], padding = 'valid', strides = [2, 2], \n",
    "                 activation = 'relu', input_shape = (28, 28, 1)))\n",
    "model.add(Conv2D(filters = 128, kernel_size = [3, 3], padding = 'valid', strides = [1, 1], activation = 'relu'))\n",
    "model.add(MaxPooling2D(pool_size = [3, 3], strides = [2, 2]))\n",
    "model.add(Conv2D(filters = 256, kernel_size = [3, 3], padding = 'same', strides = [1, 1], activation = 'relu'))\n",
    "model.add(MaxPooling2D(pool_size = [3, 3], strides = [2, 2]))\n",
    "model.add(Flatten())\n",
    "model.add(Dense(units = 256, activation = 'relu'))\n",
    "model.add(Dense(units = 256, activation = 'relu'))\n",
    "model.add(Dense(units = 10, activation = 'softmax'))"
   ]
  },
  {
   "cell_type": "code",
   "execution_count": 138,
   "id": "persistent-subject",
   "metadata": {},
   "outputs": [
    {
     "name": "stdout",
     "output_type": "stream",
     "text": [
      "Model: \"sequential_4\"\n",
      "_________________________________________________________________\n",
      " Layer (type)                Output Shape              Param #   \n",
      "=================================================================\n",
      " conv2d_6 (Conv2D)           (None, 12, 12, 64)        1664      \n",
      "                                                                 \n",
      " conv2d_7 (Conv2D)           (None, 10, 10, 128)       73856     \n",
      "                                                                 \n",
      " max_pooling2d_4 (MaxPooling  (None, 4, 4, 128)        0         \n",
      " 2D)                                                             \n",
      "                                                                 \n",
      " conv2d_8 (Conv2D)           (None, 4, 4, 256)         295168    \n",
      "                                                                 \n",
      " max_pooling2d_5 (MaxPooling  (None, 1, 1, 256)        0         \n",
      " 2D)                                                             \n",
      "                                                                 \n",
      " flatten_2 (Flatten)         (None, 256)               0         \n",
      "                                                                 \n",
      " dense_89 (Dense)            (None, 256)               65792     \n",
      "                                                                 \n",
      " dense_90 (Dense)            (None, 256)               65792     \n",
      "                                                                 \n",
      " dense_91 (Dense)            (None, 10)                2570      \n",
      "                                                                 \n",
      "=================================================================\n",
      "Total params: 504,842\n",
      "Trainable params: 504,842\n",
      "Non-trainable params: 0\n",
      "_________________________________________________________________\n"
     ]
    }
   ],
   "source": [
    "model.summary()"
   ]
  },
  {
   "cell_type": "code",
   "execution_count": 140,
   "id": "included-repository",
   "metadata": {},
   "outputs": [
    {
     "name": "stdout",
     "output_type": "stream",
     "text": [
      "Train on 36000 samples, validate on 12000 samples\n",
      "Epoch 1/50\n",
      "36000/36000 [==============================] - 17s 477us/sample - loss: 2.3027 - val_loss: 2.3026 - lr: 0.0010\n",
      "Epoch 2/50\n",
      "36000/36000 [==============================] - 16s 448us/sample - loss: 2.3027 - val_loss: 2.3026 - lr: 0.0010\n",
      "Epoch 3/50\n",
      "36000/36000 [==============================] - 16s 446us/sample - loss: 2.3027 - val_loss: 2.3026 - lr: 0.0010\n",
      "Epoch 4/50\n",
      "36000/36000 [==============================] - 16s 443us/sample - loss: 2.3027 - val_loss: 2.3026 - lr: 0.0010\n",
      "Epoch 5/50\n",
      "36000/36000 [==============================] - 16s 452us/sample - loss: 2.3027 - val_loss: 2.3026 - lr: 0.0010\n",
      "Epoch 6/50\n",
      "36000/36000 [==============================] - 17s 459us/sample - loss: 2.3027 - val_loss: 2.3026 - lr: 0.0010\n",
      "Epoch 7/50\n",
      "36000/36000 [==============================] - 16s 447us/sample - loss: 2.3026 - val_loss: 2.3026 - lr: 2.0000e-04\n",
      "Epoch 8/50\n",
      "36000/36000 [==============================] - 16s 448us/sample - loss: 2.3026 - val_loss: 2.3026 - lr: 2.0000e-04\n",
      "Epoch 9/50\n",
      "36000/36000 [==============================] - 16s 450us/sample - loss: 2.3026 - val_loss: 2.3026 - lr: 2.0000e-04\n",
      "Epoch 10/50\n",
      "36000/36000 [==============================] - 16s 444us/sample - loss: 2.3026 - val_loss: 2.3026 - lr: 2.0000e-04\n",
      "Epoch 11/50\n",
      "36000/36000 [==============================] - 17s 461us/sample - loss: 2.3026 - val_loss: 2.3026 - lr: 2.0000e-04\n",
      "Epoch 12/50\n",
      "36000/36000 [==============================] - 17s 471us/sample - loss: 2.3026 - val_loss: 2.3026 - lr: 4.0000e-05\n",
      "Epoch 13/50\n",
      "36000/36000 [==============================] - 16s 452us/sample - loss: 2.3026 - val_loss: 2.3026 - lr: 4.0000e-05\n",
      "Epoch 14/50\n",
      "36000/36000 [==============================] - 16s 457us/sample - loss: 2.3026 - val_loss: 2.3026 - lr: 4.0000e-05\n",
      "Epoch 15/50\n",
      "36000/36000 [==============================] - 20s 549us/sample - loss: 2.3026 - val_loss: 2.3026 - lr: 4.0000e-05\n",
      "Epoch 16/50\n",
      "36000/36000 [==============================] - 21s 574us/sample - loss: 2.3026 - val_loss: 2.3026 - lr: 4.0000e-05\n",
      "Epoch 17/50\n",
      "36000/36000 [==============================] - ETA: 0s - loss: 2.3026"
     ]
    },
    {
     "ename": "KeyboardInterrupt",
     "evalue": "",
     "output_type": "error",
     "traceback": [
      "\u001b[1;31m---------------------------------------------------------------------------\u001b[0m",
      "\u001b[1;31mKeyboardInterrupt\u001b[0m                         Traceback (most recent call last)",
      "\u001b[1;32m<ipython-input-140-bc0b29075604>\u001b[0m in \u001b[0;36m<module>\u001b[1;34m\u001b[0m\n\u001b[0;32m      2\u001b[0m \u001b[1;33m\u001b[0m\u001b[0m\n\u001b[0;32m      3\u001b[0m \u001b[0mtf\u001b[0m\u001b[1;33m.\u001b[0m\u001b[0mrandom\u001b[0m\u001b[1;33m.\u001b[0m\u001b[0mset_seed\u001b[0m\u001b[1;33m(\u001b[0m\u001b[1;36m3011979\u001b[0m\u001b[1;33m)\u001b[0m\u001b[1;33m\u001b[0m\u001b[1;33m\u001b[0m\u001b[0m\n\u001b[1;32m----> 4\u001b[1;33m history = model.fit(X_reshaped_train, y_train, batch_size = 256, validation_data = (X_reshaped_val, y_val), \n\u001b[0m\u001b[0;32m      5\u001b[0m                     epochs = 50, callbacks = [reduced_lr, early_stop], verbose = 1, shuffle = True)\n",
      "\u001b[1;32mc:\\python38\\lib\\site-packages\\keras\\engine\\training_v1.py\u001b[0m in \u001b[0;36mfit\u001b[1;34m(self, x, y, batch_size, epochs, verbose, callbacks, validation_split, validation_data, shuffle, class_weight, sample_weight, initial_epoch, steps_per_epoch, validation_steps, validation_freq, max_queue_size, workers, use_multiprocessing, **kwargs)\u001b[0m\n\u001b[0;32m    775\u001b[0m \u001b[1;33m\u001b[0m\u001b[0m\n\u001b[0;32m    776\u001b[0m     \u001b[0mfunc\u001b[0m \u001b[1;33m=\u001b[0m \u001b[0mself\u001b[0m\u001b[1;33m.\u001b[0m\u001b[0m_select_training_loop\u001b[0m\u001b[1;33m(\u001b[0m\u001b[0mx\u001b[0m\u001b[1;33m)\u001b[0m\u001b[1;33m\u001b[0m\u001b[1;33m\u001b[0m\u001b[0m\n\u001b[1;32m--> 777\u001b[1;33m     return func.fit(\n\u001b[0m\u001b[0;32m    778\u001b[0m         \u001b[0mself\u001b[0m\u001b[1;33m,\u001b[0m\u001b[1;33m\u001b[0m\u001b[1;33m\u001b[0m\u001b[0m\n\u001b[0;32m    779\u001b[0m         \u001b[0mx\u001b[0m\u001b[1;33m=\u001b[0m\u001b[0mx\u001b[0m\u001b[1;33m,\u001b[0m\u001b[1;33m\u001b[0m\u001b[1;33m\u001b[0m\u001b[0m\n",
      "\u001b[1;32mc:\\python38\\lib\\site-packages\\keras\\engine\\training_arrays_v1.py\u001b[0m in \u001b[0;36mfit\u001b[1;34m(self, model, x, y, batch_size, epochs, verbose, callbacks, validation_split, validation_data, shuffle, class_weight, sample_weight, initial_epoch, steps_per_epoch, validation_steps, validation_freq, **kwargs)\u001b[0m\n\u001b[0;32m    638\u001b[0m       \u001b[0mval_x\u001b[0m\u001b[1;33m,\u001b[0m \u001b[0mval_y\u001b[0m\u001b[1;33m,\u001b[0m \u001b[0mval_sample_weights\u001b[0m \u001b[1;33m=\u001b[0m \u001b[1;32mNone\u001b[0m\u001b[1;33m,\u001b[0m \u001b[1;32mNone\u001b[0m\u001b[1;33m,\u001b[0m \u001b[1;32mNone\u001b[0m\u001b[1;33m\u001b[0m\u001b[1;33m\u001b[0m\u001b[0m\n\u001b[0;32m    639\u001b[0m \u001b[1;33m\u001b[0m\u001b[0m\n\u001b[1;32m--> 640\u001b[1;33m     return fit_loop(\n\u001b[0m\u001b[0;32m    641\u001b[0m         \u001b[0mmodel\u001b[0m\u001b[1;33m,\u001b[0m\u001b[1;33m\u001b[0m\u001b[1;33m\u001b[0m\u001b[0m\n\u001b[0;32m    642\u001b[0m         \u001b[0minputs\u001b[0m\u001b[1;33m=\u001b[0m\u001b[0mx\u001b[0m\u001b[1;33m,\u001b[0m\u001b[1;33m\u001b[0m\u001b[1;33m\u001b[0m\u001b[0m\n",
      "\u001b[1;32mc:\\python38\\lib\\site-packages\\keras\\engine\\training_arrays_v1.py\u001b[0m in \u001b[0;36mmodel_iteration\u001b[1;34m(model, inputs, targets, sample_weights, batch_size, epochs, verbose, callbacks, val_inputs, val_targets, val_sample_weights, shuffle, initial_epoch, steps_per_epoch, validation_steps, validation_freq, mode, validation_in_fit, prepared_feed_values_from_dataset, steps_name, **kwargs)\u001b[0m\n\u001b[0;32m    407\u001b[0m             model, ModeKeys.TRAIN)\n\u001b[0;32m    408\u001b[0m \u001b[1;33m\u001b[0m\u001b[0m\n\u001b[1;32m--> 409\u001b[1;33m       val_results = model_iteration(\n\u001b[0m\u001b[0;32m    410\u001b[0m           \u001b[0mmodel\u001b[0m\u001b[1;33m,\u001b[0m\u001b[1;33m\u001b[0m\u001b[1;33m\u001b[0m\u001b[0m\n\u001b[0;32m    411\u001b[0m           \u001b[0mval_inputs\u001b[0m\u001b[1;33m,\u001b[0m\u001b[1;33m\u001b[0m\u001b[1;33m\u001b[0m\u001b[0m\n",
      "\u001b[1;32mc:\\python38\\lib\\site-packages\\keras\\engine\\training_arrays_v1.py\u001b[0m in \u001b[0;36mmodel_iteration\u001b[1;34m(model, inputs, targets, sample_weights, batch_size, epochs, verbose, callbacks, val_inputs, val_targets, val_sample_weights, shuffle, initial_epoch, steps_per_epoch, validation_steps, validation_freq, mode, validation_in_fit, prepared_feed_values_from_dataset, steps_name, **kwargs)\u001b[0m\n\u001b[0;32m    374\u001b[0m \u001b[1;33m\u001b[0m\u001b[0m\n\u001b[0;32m    375\u001b[0m         \u001b[1;31m# Get outputs.\u001b[0m\u001b[1;33m\u001b[0m\u001b[1;33m\u001b[0m\u001b[1;33m\u001b[0m\u001b[0m\n\u001b[1;32m--> 376\u001b[1;33m         \u001b[0mbatch_outs\u001b[0m \u001b[1;33m=\u001b[0m \u001b[0mf\u001b[0m\u001b[1;33m(\u001b[0m\u001b[0mins_batch\u001b[0m\u001b[1;33m)\u001b[0m\u001b[1;33m\u001b[0m\u001b[1;33m\u001b[0m\u001b[0m\n\u001b[0m\u001b[0;32m    377\u001b[0m         \u001b[1;32mif\u001b[0m \u001b[1;32mnot\u001b[0m \u001b[0misinstance\u001b[0m\u001b[1;33m(\u001b[0m\u001b[0mbatch_outs\u001b[0m\u001b[1;33m,\u001b[0m \u001b[0mlist\u001b[0m\u001b[1;33m)\u001b[0m\u001b[1;33m:\u001b[0m\u001b[1;33m\u001b[0m\u001b[1;33m\u001b[0m\u001b[0m\n\u001b[0;32m    378\u001b[0m           \u001b[0mbatch_outs\u001b[0m \u001b[1;33m=\u001b[0m \u001b[1;33m[\u001b[0m\u001b[0mbatch_outs\u001b[0m\u001b[1;33m]\u001b[0m\u001b[1;33m\u001b[0m\u001b[1;33m\u001b[0m\u001b[0m\n",
      "\u001b[1;32mc:\\python38\\lib\\site-packages\\keras\\backend.py\u001b[0m in \u001b[0;36m__call__\u001b[1;34m(self, inputs)\u001b[0m\n\u001b[0;32m   4184\u001b[0m       \u001b[0mself\u001b[0m\u001b[1;33m.\u001b[0m\u001b[0m_make_callable\u001b[0m\u001b[1;33m(\u001b[0m\u001b[0mfeed_arrays\u001b[0m\u001b[1;33m,\u001b[0m \u001b[0mfeed_symbols\u001b[0m\u001b[1;33m,\u001b[0m \u001b[0msymbol_vals\u001b[0m\u001b[1;33m,\u001b[0m \u001b[0msession\u001b[0m\u001b[1;33m)\u001b[0m\u001b[1;33m\u001b[0m\u001b[1;33m\u001b[0m\u001b[0m\n\u001b[0;32m   4185\u001b[0m \u001b[1;33m\u001b[0m\u001b[0m\n\u001b[1;32m-> 4186\u001b[1;33m     fetched = self._callable_fn(*array_vals,\n\u001b[0m\u001b[0;32m   4187\u001b[0m                                 run_metadata=self.run_metadata)\n\u001b[0;32m   4188\u001b[0m     \u001b[0mself\u001b[0m\u001b[1;33m.\u001b[0m\u001b[0m_call_fetch_callbacks\u001b[0m\u001b[1;33m(\u001b[0m\u001b[0mfetched\u001b[0m\u001b[1;33m[\u001b[0m\u001b[1;33m-\u001b[0m\u001b[0mlen\u001b[0m\u001b[1;33m(\u001b[0m\u001b[0mself\u001b[0m\u001b[1;33m.\u001b[0m\u001b[0m_fetches\u001b[0m\u001b[1;33m)\u001b[0m\u001b[1;33m:\u001b[0m\u001b[1;33m]\u001b[0m\u001b[1;33m)\u001b[0m\u001b[1;33m\u001b[0m\u001b[1;33m\u001b[0m\u001b[0m\n",
      "\u001b[1;32mc:\\python38\\lib\\site-packages\\tensorflow\\python\\client\\session.py\u001b[0m in \u001b[0;36m__call__\u001b[1;34m(self, *args, **kwargs)\u001b[0m\n\u001b[0;32m   1481\u001b[0m       \u001b[1;32mtry\u001b[0m\u001b[1;33m:\u001b[0m\u001b[1;33m\u001b[0m\u001b[1;33m\u001b[0m\u001b[0m\n\u001b[0;32m   1482\u001b[0m         \u001b[0mrun_metadata_ptr\u001b[0m \u001b[1;33m=\u001b[0m \u001b[0mtf_session\u001b[0m\u001b[1;33m.\u001b[0m\u001b[0mTF_NewBuffer\u001b[0m\u001b[1;33m(\u001b[0m\u001b[1;33m)\u001b[0m \u001b[1;32mif\u001b[0m \u001b[0mrun_metadata\u001b[0m \u001b[1;32melse\u001b[0m \u001b[1;32mNone\u001b[0m\u001b[1;33m\u001b[0m\u001b[1;33m\u001b[0m\u001b[0m\n\u001b[1;32m-> 1483\u001b[1;33m         ret = tf_session.TF_SessionRunCallable(self._session._session,\n\u001b[0m\u001b[0;32m   1484\u001b[0m                                                \u001b[0mself\u001b[0m\u001b[1;33m.\u001b[0m\u001b[0m_handle\u001b[0m\u001b[1;33m,\u001b[0m \u001b[0margs\u001b[0m\u001b[1;33m,\u001b[0m\u001b[1;33m\u001b[0m\u001b[1;33m\u001b[0m\u001b[0m\n\u001b[0;32m   1485\u001b[0m                                                run_metadata_ptr)\n",
      "\u001b[1;31mKeyboardInterrupt\u001b[0m: "
     ]
    }
   ],
   "source": [
    "model.compile(loss = 'categorical_crossentropy', optimizer = Adam(learning_rate = 1e-3))\n",
    "\n",
    "tf.random.set_seed(3011979)\n",
    "history = model.fit(X_reshaped_train, y_train, batch_size = 256, validation_data = (X_reshaped_val, y_val), \n",
    "                    epochs = 50, callbacks = [reduced_lr, early_stop], verbose = 1, shuffle = True)"
   ]
  },
  {
   "cell_type": "code",
   "execution_count": 112,
   "id": "cellular-russell",
   "metadata": {},
   "outputs": [
    {
     "name": "stderr",
     "output_type": "stream",
     "text": [
      "`Model.state_updates` will be removed in a future version. This property should not be used in TensorFlow 2.0, as `updates` are applied automatically.\n"
     ]
    },
    {
     "name": "stdout",
     "output_type": "stream",
     "text": [
      "              precision    recall  f1-score   support\n",
      "\n",
      "           0       0.14      0.01      0.02      1200\n",
      "           1       0.00      0.00      0.00      1200\n",
      "           2       0.10      0.99      0.18      1200\n",
      "           3       0.00      0.00      0.00      1200\n",
      "           4       0.16      0.01      0.01      1200\n",
      "           5       0.00      0.00      0.00      1200\n",
      "           6       0.00      0.00      0.00      1200\n",
      "           7       0.00      0.00      0.00      1200\n",
      "           8       0.00      0.00      0.00      1200\n",
      "           9       0.00      0.00      0.00      1200\n",
      "\n",
      "    accuracy                           0.10     12000\n",
      "   macro avg       0.04      0.10      0.02     12000\n",
      "weighted avg       0.04      0.10      0.02     12000\n",
      "\n"
     ]
    },
    {
     "name": "stderr",
     "output_type": "stream",
     "text": [
      "Precision and F-score are ill-defined and being set to 0.0 in labels with no predicted samples. Use `zero_division` parameter to control this behavior.\n",
      "Precision and F-score are ill-defined and being set to 0.0 in labels with no predicted samples. Use `zero_division` parameter to control this behavior.\n",
      "Precision and F-score are ill-defined and being set to 0.0 in labels with no predicted samples. Use `zero_division` parameter to control this behavior.\n"
     ]
    }
   ],
   "source": [
    "print(classification_report(np.argmax(y_test, axis = 1), np.argmax(model.predict(X_reshaped_test), axis = 1)))"
   ]
  },
  {
   "cell_type": "code",
   "execution_count": null,
   "id": "national-quest",
   "metadata": {},
   "outputs": [],
   "source": []
  }
 ],
 "metadata": {
  "kernelspec": {
   "display_name": "Python 3 (ipykernel)",
   "language": "python",
   "name": "python3"
  },
  "language_info": {
   "codemirror_mode": {
    "name": "ipython",
    "version": 3
   },
   "file_extension": ".py",
   "mimetype": "text/x-python",
   "name": "python",
   "nbconvert_exporter": "python",
   "pygments_lexer": "ipython3",
   "version": "3.9.12"
  }
 },
 "nbformat": 4,
 "nbformat_minor": 5
}
